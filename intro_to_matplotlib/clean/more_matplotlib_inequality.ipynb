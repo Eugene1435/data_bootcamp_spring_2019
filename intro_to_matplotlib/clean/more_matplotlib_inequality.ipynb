{
 "cells": [
  {
   "cell_type": "markdown",
   "metadata": {},
   "source": [
    "## More Matplotlib (Histograms, Bar Charts, Advanced Scatter, Advanced Line Plots)\n",
    "\n",
    "This is my notebook to provide more work with Matplotlib (and practice with data wrangling in Python and the Pandas package). \n",
    "\n",
    "The quesiton of this lecture is: **Why are some countries rich, others poor?** Can't get any more fundemental then this. Like in the previous lecture, we will work through this \"mini-project\" to learn new features of Matplotlib. \n",
    "\n",
    "- We will focus on (i) histograms (ii) bar charts and (iii) advanced scatter plots and (iv) advanced line plots. \n",
    "\n",
    "- Along the way will also learn some data wrangeling skills, specifically `isin` command pandas; the value of a good choice about the index for the dataframe; the `groupby` command in pandas.\n",
    "\n",
    "- We will also use the `numpy` package for the first time and see how logorithims are very useful. \n",
    "\n",
    "- Finally, we will learn how to output the figure so you can pop it into, say a PowerPoint presentation."
   ]
  },
  {
   "cell_type": "code",
   "execution_count": 1,
   "metadata": {},
   "outputs": [],
   "source": [
    "import pandas as pd             # Bring in the Pandas Package\n",
    "import matplotlib.pyplot as plt # Our plotting tool\n",
    "import numpy as np              # Numberical Python, we will use this at the end."
   ]
  },
  {
   "cell_type": "markdown",
   "metadata": {},
   "source": [
    "The data set for which we will answer this question is the \"Penn Worl Table\" it is basicly a **comparable** dataset of country outcomes (e.g. GDP, Investment, etc). The key word here is **comparable.** What this means is that when we are comparing China's GDP to the US's GDP we are making an \"apple to apple\" comparaison.  Side note (in your work, you should be asking your self that question, is my data series comparable across time, space, etc.)\n",
    "\n",
    "Now, this is a more complicated data set than what we previously worked with. So to save time, lets create some **wants** out of the data. \n",
    "- We want to know something about existing cross-country income inequalty. \n",
    "- We want to know something about how (say education) correlates with income inequalty.\n",
    "- We want to know something about how growth, inequality, and specific country experinces over time.\n",
    "\n",
    "I think that is enough for now...The first question can be answerd with a nice bar or even better histogram chart. The latter we can use a nice scatter plot. \n",
    "\n",
    "One final point on where we are going. We will first do this for one year. Its ok to start out small, the idea is execute the idea in a small way, then use your existing code to scale it up, say for many years.\n",
    "\n",
    "#### Read in the data...\n",
    "\n",
    "You should probably spend sometime looking at the dataset before we read it in. Be mindfull of how missing values are treated, the legend page provides good information on what each data series is, anything else we should watch out for?"
   ]
  },
  {
   "cell_type": "code",
   "execution_count": 2,
   "metadata": {},
   "outputs": [
    {
     "name": "stderr",
     "output_type": "stream",
     "text": [
      "C:\\Users\\mwaugh.NYC-STERN\\AppData\\Local\\Continuum\\anaconda3\\lib\\site-packages\\pandas\\io\\excel.py:329: FutureWarning: The `sheetname` keyword is deprecated, use `sheet_name` instead\n",
      "  **kwds)\n"
     ]
    }
   ],
   "source": [
    "#url = 'http://www.rug.nl/research/ggdc/data/pwt/v81/pwt81.xlsx' # This is the link from the book, its broken\n",
    "url = \"http://www.rug.nl/ggdc/docs/pwt81.xlsx\"                   # Here is the correct link\n",
    "pwt = pd.read_excel(url, sheetname='Data')                       # Then use the pd.read code to bring it in\n",
    "                                                                 # note also the use of the option to call a specific\n",
    "                                                                 # sheet here\n",
    "        \n",
    "# And if this is not working, here is our backup \n",
    "# url = \"https://raw.githubusercontent.com/mwaugh0328/Data_Bootcamp_Fall_2017/\"\n",
    "# url = url + \"master/data_bootcamp_1030/pwt_inclass.csv\"\n",
    "# pwt = pd.read_csv(url,na_values = [\"\"])"
   ]
  },
  {
   "cell_type": "code",
   "execution_count": 3,
   "metadata": {},
   "outputs": [
    {
     "data": {
      "text/html": [
       "<div>\n",
       "<style scoped>\n",
       "    .dataframe tbody tr th:only-of-type {\n",
       "        vertical-align: middle;\n",
       "    }\n",
       "\n",
       "    .dataframe tbody tr th {\n",
       "        vertical-align: top;\n",
       "    }\n",
       "\n",
       "    .dataframe thead th {\n",
       "        text-align: right;\n",
       "    }\n",
       "</style>\n",
       "<table border=\"1\" class=\"dataframe\">\n",
       "  <thead>\n",
       "    <tr style=\"text-align: right;\">\n",
       "      <th></th>\n",
       "      <th>countrycode</th>\n",
       "      <th>country</th>\n",
       "      <th>currency_unit</th>\n",
       "      <th>year</th>\n",
       "      <th>rgdpe</th>\n",
       "      <th>rgdpo</th>\n",
       "      <th>pop</th>\n",
       "      <th>emp</th>\n",
       "      <th>avh</th>\n",
       "      <th>hc</th>\n",
       "      <th>...</th>\n",
       "      <th>csh_g</th>\n",
       "      <th>csh_x</th>\n",
       "      <th>csh_m</th>\n",
       "      <th>csh_r</th>\n",
       "      <th>pl_c</th>\n",
       "      <th>pl_i</th>\n",
       "      <th>pl_g</th>\n",
       "      <th>pl_x</th>\n",
       "      <th>pl_m</th>\n",
       "      <th>pl_k</th>\n",
       "    </tr>\n",
       "  </thead>\n",
       "  <tbody>\n",
       "    <tr>\n",
       "      <th>0</th>\n",
       "      <td>AGO</td>\n",
       "      <td>Angola</td>\n",
       "      <td>Kwanza</td>\n",
       "      <td>1950</td>\n",
       "      <td>NaN</td>\n",
       "      <td>NaN</td>\n",
       "      <td>NaN</td>\n",
       "      <td>NaN</td>\n",
       "      <td>NaN</td>\n",
       "      <td>NaN</td>\n",
       "      <td>...</td>\n",
       "      <td>NaN</td>\n",
       "      <td>NaN</td>\n",
       "      <td>NaN</td>\n",
       "      <td>NaN</td>\n",
       "      <td>NaN</td>\n",
       "      <td>NaN</td>\n",
       "      <td>NaN</td>\n",
       "      <td>NaN</td>\n",
       "      <td>NaN</td>\n",
       "      <td>NaN</td>\n",
       "    </tr>\n",
       "    <tr>\n",
       "      <th>1</th>\n",
       "      <td>AGO</td>\n",
       "      <td>Angola</td>\n",
       "      <td>Kwanza</td>\n",
       "      <td>1951</td>\n",
       "      <td>NaN</td>\n",
       "      <td>NaN</td>\n",
       "      <td>NaN</td>\n",
       "      <td>NaN</td>\n",
       "      <td>NaN</td>\n",
       "      <td>NaN</td>\n",
       "      <td>...</td>\n",
       "      <td>NaN</td>\n",
       "      <td>NaN</td>\n",
       "      <td>NaN</td>\n",
       "      <td>NaN</td>\n",
       "      <td>NaN</td>\n",
       "      <td>NaN</td>\n",
       "      <td>NaN</td>\n",
       "      <td>NaN</td>\n",
       "      <td>NaN</td>\n",
       "      <td>NaN</td>\n",
       "    </tr>\n",
       "    <tr>\n",
       "      <th>2</th>\n",
       "      <td>AGO</td>\n",
       "      <td>Angola</td>\n",
       "      <td>Kwanza</td>\n",
       "      <td>1952</td>\n",
       "      <td>NaN</td>\n",
       "      <td>NaN</td>\n",
       "      <td>NaN</td>\n",
       "      <td>NaN</td>\n",
       "      <td>NaN</td>\n",
       "      <td>NaN</td>\n",
       "      <td>...</td>\n",
       "      <td>NaN</td>\n",
       "      <td>NaN</td>\n",
       "      <td>NaN</td>\n",
       "      <td>NaN</td>\n",
       "      <td>NaN</td>\n",
       "      <td>NaN</td>\n",
       "      <td>NaN</td>\n",
       "      <td>NaN</td>\n",
       "      <td>NaN</td>\n",
       "      <td>NaN</td>\n",
       "    </tr>\n",
       "    <tr>\n",
       "      <th>3</th>\n",
       "      <td>AGO</td>\n",
       "      <td>Angola</td>\n",
       "      <td>Kwanza</td>\n",
       "      <td>1953</td>\n",
       "      <td>NaN</td>\n",
       "      <td>NaN</td>\n",
       "      <td>NaN</td>\n",
       "      <td>NaN</td>\n",
       "      <td>NaN</td>\n",
       "      <td>NaN</td>\n",
       "      <td>...</td>\n",
       "      <td>NaN</td>\n",
       "      <td>NaN</td>\n",
       "      <td>NaN</td>\n",
       "      <td>NaN</td>\n",
       "      <td>NaN</td>\n",
       "      <td>NaN</td>\n",
       "      <td>NaN</td>\n",
       "      <td>NaN</td>\n",
       "      <td>NaN</td>\n",
       "      <td>NaN</td>\n",
       "    </tr>\n",
       "    <tr>\n",
       "      <th>4</th>\n",
       "      <td>AGO</td>\n",
       "      <td>Angola</td>\n",
       "      <td>Kwanza</td>\n",
       "      <td>1954</td>\n",
       "      <td>NaN</td>\n",
       "      <td>NaN</td>\n",
       "      <td>NaN</td>\n",
       "      <td>NaN</td>\n",
       "      <td>NaN</td>\n",
       "      <td>NaN</td>\n",
       "      <td>...</td>\n",
       "      <td>NaN</td>\n",
       "      <td>NaN</td>\n",
       "      <td>NaN</td>\n",
       "      <td>NaN</td>\n",
       "      <td>NaN</td>\n",
       "      <td>NaN</td>\n",
       "      <td>NaN</td>\n",
       "      <td>NaN</td>\n",
       "      <td>NaN</td>\n",
       "      <td>NaN</td>\n",
       "    </tr>\n",
       "  </tbody>\n",
       "</table>\n",
       "<p>5 rows × 47 columns</p>\n",
       "</div>"
      ],
      "text/plain": [
       "  countrycode country currency_unit  year  rgdpe  rgdpo  pop  emp  avh  hc  \\\n",
       "0         AGO  Angola        Kwanza  1950    NaN    NaN  NaN  NaN  NaN NaN   \n",
       "1         AGO  Angola        Kwanza  1951    NaN    NaN  NaN  NaN  NaN NaN   \n",
       "2         AGO  Angola        Kwanza  1952    NaN    NaN  NaN  NaN  NaN NaN   \n",
       "3         AGO  Angola        Kwanza  1953    NaN    NaN  NaN  NaN  NaN NaN   \n",
       "4         AGO  Angola        Kwanza  1954    NaN    NaN  NaN  NaN  NaN NaN   \n",
       "\n",
       "   ...   csh_g  csh_x  csh_m  csh_r  pl_c  pl_i  pl_g  pl_x  pl_m  pl_k  \n",
       "0  ...     NaN    NaN    NaN    NaN   NaN   NaN   NaN   NaN   NaN   NaN  \n",
       "1  ...     NaN    NaN    NaN    NaN   NaN   NaN   NaN   NaN   NaN   NaN  \n",
       "2  ...     NaN    NaN    NaN    NaN   NaN   NaN   NaN   NaN   NaN   NaN  \n",
       "3  ...     NaN    NaN    NaN    NaN   NaN   NaN   NaN   NaN   NaN   NaN  \n",
       "4  ...     NaN    NaN    NaN    NaN   NaN   NaN   NaN   NaN   NaN   NaN  \n",
       "\n",
       "[5 rows x 47 columns]"
      ]
     },
     "execution_count": 3,
     "metadata": {},
     "output_type": "execute_result"
    }
   ],
   "source": [
    "pwt.head()"
   ]
  },
  {
   "cell_type": "markdown",
   "metadata": {},
   "source": [
    "Ok, that was not that informative. Note all the missing values. Lets look at the tail."
   ]
  },
  {
   "cell_type": "code",
   "execution_count": 4,
   "metadata": {},
   "outputs": [
    {
     "data": {
      "text/html": [
       "<div>\n",
       "<style scoped>\n",
       "    .dataframe tbody tr th:only-of-type {\n",
       "        vertical-align: middle;\n",
       "    }\n",
       "\n",
       "    .dataframe tbody tr th {\n",
       "        vertical-align: top;\n",
       "    }\n",
       "\n",
       "    .dataframe thead th {\n",
       "        text-align: right;\n",
       "    }\n",
       "</style>\n",
       "<table border=\"1\" class=\"dataframe\">\n",
       "  <thead>\n",
       "    <tr style=\"text-align: right;\">\n",
       "      <th></th>\n",
       "      <th>countrycode</th>\n",
       "      <th>country</th>\n",
       "      <th>currency_unit</th>\n",
       "      <th>year</th>\n",
       "      <th>rgdpe</th>\n",
       "      <th>rgdpo</th>\n",
       "      <th>pop</th>\n",
       "      <th>emp</th>\n",
       "      <th>avh</th>\n",
       "      <th>hc</th>\n",
       "      <th>...</th>\n",
       "      <th>csh_g</th>\n",
       "      <th>csh_x</th>\n",
       "      <th>csh_m</th>\n",
       "      <th>csh_r</th>\n",
       "      <th>pl_c</th>\n",
       "      <th>pl_i</th>\n",
       "      <th>pl_g</th>\n",
       "      <th>pl_x</th>\n",
       "      <th>pl_m</th>\n",
       "      <th>pl_k</th>\n",
       "    </tr>\n",
       "  </thead>\n",
       "  <tbody>\n",
       "    <tr>\n",
       "      <th>10352</th>\n",
       "      <td>ZWE</td>\n",
       "      <td>Zimbabwe</td>\n",
       "      <td>US Dollar</td>\n",
       "      <td>2010</td>\n",
       "      <td>51233.429688</td>\n",
       "      <td>103468.859375</td>\n",
       "      <td>12.571454</td>\n",
       "      <td>7.139131</td>\n",
       "      <td>NaN</td>\n",
       "      <td>2.482342</td>\n",
       "      <td>...</td>\n",
       "      <td>0.129282</td>\n",
       "      <td>0.111090</td>\n",
       "      <td>-0.231622</td>\n",
       "      <td>0.448722</td>\n",
       "      <td>0.124802</td>\n",
       "      <td>0.223558</td>\n",
       "      <td>0.169569</td>\n",
       "      <td>0.282066</td>\n",
       "      <td>0.382754</td>\n",
       "      <td>4.071406</td>\n",
       "    </tr>\n",
       "    <tr>\n",
       "      <th>10353</th>\n",
       "      <td>ZWE</td>\n",
       "      <td>Zimbabwe</td>\n",
       "      <td>US Dollar</td>\n",
       "      <td>2011</td>\n",
       "      <td>55394.472656</td>\n",
       "      <td>182528.718750</td>\n",
       "      <td>12.754378</td>\n",
       "      <td>7.419909</td>\n",
       "      <td>NaN</td>\n",
       "      <td>2.482342</td>\n",
       "      <td>...</td>\n",
       "      <td>0.087710</td>\n",
       "      <td>0.084211</td>\n",
       "      <td>-0.203188</td>\n",
       "      <td>0.635951</td>\n",
       "      <td>0.141775</td>\n",
       "      <td>0.239443</td>\n",
       "      <td>0.183947</td>\n",
       "      <td>0.280428</td>\n",
       "      <td>0.408237</td>\n",
       "      <td>9.279992</td>\n",
       "    </tr>\n",
       "    <tr>\n",
       "      <th>10354</th>\n",
       "      <td>ZWE</td>\n",
       "      <td>Zimbabwe</td>\n",
       "      <td>Zimbabwe Dollar</td>\n",
       "      <td>2009</td>\n",
       "      <td>49126.156250</td>\n",
       "      <td>59191.949219</td>\n",
       "      <td>12.473992</td>\n",
       "      <td>7.143100</td>\n",
       "      <td>NaN</td>\n",
       "      <td>2.471725</td>\n",
       "      <td>...</td>\n",
       "      <td>0.109057</td>\n",
       "      <td>0.149547</td>\n",
       "      <td>-0.171139</td>\n",
       "      <td>0.060929</td>\n",
       "      <td>0.113076</td>\n",
       "      <td>0.198803</td>\n",
       "      <td>0.155077</td>\n",
       "      <td>0.259579</td>\n",
       "      <td>0.352583</td>\n",
       "      <td>3.617172</td>\n",
       "    </tr>\n",
       "    <tr>\n",
       "      <th>10355</th>\n",
       "      <td>ZWE</td>\n",
       "      <td>Zimbabwe</td>\n",
       "      <td>Zimbabwe Dollar</td>\n",
       "      <td>2010</td>\n",
       "      <td>51205.929688</td>\n",
       "      <td>103387.484375</td>\n",
       "      <td>12.571454</td>\n",
       "      <td>7.139131</td>\n",
       "      <td>NaN</td>\n",
       "      <td>2.482342</td>\n",
       "      <td>...</td>\n",
       "      <td>0.128692</td>\n",
       "      <td>0.111196</td>\n",
       "      <td>-0.231896</td>\n",
       "      <td>0.448722</td>\n",
       "      <td>0.124726</td>\n",
       "      <td>0.223262</td>\n",
       "      <td>0.170463</td>\n",
       "      <td>0.281990</td>\n",
       "      <td>0.382563</td>\n",
       "      <td>4.071406</td>\n",
       "    </tr>\n",
       "    <tr>\n",
       "      <th>10356</th>\n",
       "      <td>ZWE</td>\n",
       "      <td>Zimbabwe</td>\n",
       "      <td>Zimbabwe Dollar</td>\n",
       "      <td>2011</td>\n",
       "      <td>55368.285156</td>\n",
       "      <td>182377.171875</td>\n",
       "      <td>12.754378</td>\n",
       "      <td>7.419909</td>\n",
       "      <td>NaN</td>\n",
       "      <td>2.482342</td>\n",
       "      <td>...</td>\n",
       "      <td>0.087303</td>\n",
       "      <td>0.084297</td>\n",
       "      <td>-0.203424</td>\n",
       "      <td>0.635951</td>\n",
       "      <td>0.141691</td>\n",
       "      <td>0.239152</td>\n",
       "      <td>0.184941</td>\n",
       "      <td>0.280350</td>\n",
       "      <td>0.408063</td>\n",
       "      <td>9.279992</td>\n",
       "    </tr>\n",
       "  </tbody>\n",
       "</table>\n",
       "<p>5 rows × 47 columns</p>\n",
       "</div>"
      ],
      "text/plain": [
       "      countrycode   country    currency_unit  year         rgdpe  \\\n",
       "10352         ZWE  Zimbabwe        US Dollar  2010  51233.429688   \n",
       "10353         ZWE  Zimbabwe        US Dollar  2011  55394.472656   \n",
       "10354         ZWE  Zimbabwe  Zimbabwe Dollar  2009  49126.156250   \n",
       "10355         ZWE  Zimbabwe  Zimbabwe Dollar  2010  51205.929688   \n",
       "10356         ZWE  Zimbabwe  Zimbabwe Dollar  2011  55368.285156   \n",
       "\n",
       "               rgdpo        pop       emp  avh        hc    ...        csh_g  \\\n",
       "10352  103468.859375  12.571454  7.139131  NaN  2.482342    ...     0.129282   \n",
       "10353  182528.718750  12.754378  7.419909  NaN  2.482342    ...     0.087710   \n",
       "10354   59191.949219  12.473992  7.143100  NaN  2.471725    ...     0.109057   \n",
       "10355  103387.484375  12.571454  7.139131  NaN  2.482342    ...     0.128692   \n",
       "10356  182377.171875  12.754378  7.419909  NaN  2.482342    ...     0.087303   \n",
       "\n",
       "          csh_x     csh_m     csh_r      pl_c      pl_i      pl_g      pl_x  \\\n",
       "10352  0.111090 -0.231622  0.448722  0.124802  0.223558  0.169569  0.282066   \n",
       "10353  0.084211 -0.203188  0.635951  0.141775  0.239443  0.183947  0.280428   \n",
       "10354  0.149547 -0.171139  0.060929  0.113076  0.198803  0.155077  0.259579   \n",
       "10355  0.111196 -0.231896  0.448722  0.124726  0.223262  0.170463  0.281990   \n",
       "10356  0.084297 -0.203424  0.635951  0.141691  0.239152  0.184941  0.280350   \n",
       "\n",
       "           pl_m      pl_k  \n",
       "10352  0.382754  4.071406  \n",
       "10353  0.408237  9.279992  \n",
       "10354  0.352583  3.617172  \n",
       "10355  0.382563  4.071406  \n",
       "10356  0.408063  9.279992  \n",
       "\n",
       "[5 rows x 47 columns]"
      ]
     },
     "execution_count": 4,
     "metadata": {},
     "output_type": "execute_result"
    }
   ],
   "source": [
    "pwt.tail()"
   ]
  },
  {
   "cell_type": "code",
   "execution_count": 5,
   "metadata": {},
   "outputs": [
    {
     "data": {
      "text/plain": [
       "(10357, 47)"
      ]
     },
     "execution_count": 5,
     "metadata": {},
     "output_type": "execute_result"
    }
   ],
   "source": [
    "pwt.shape"
   ]
  },
  {
   "cell_type": "markdown",
   "metadata": {},
   "source": [
    "Ok, so this is sizable. "
   ]
  },
  {
   "cell_type": "markdown",
   "metadata": {},
   "source": [
    "### Cross-Country Income Inequality for One Year\n",
    "So lets think through the steps. First, we need to really only two things of the data: First, something about income or output per person. If we look at the data, I'll note that it has the componenets to construct income per person, but will will have to calculate it. Second, just that for the one year that we care about. So, I'm going to drop stuff from the dataframe accordingly."
   ]
  },
  {
   "cell_type": "code",
   "execution_count": 6,
   "metadata": {},
   "outputs": [],
   "source": [
    "pwt[\"gdp_pop\"] = pwt[\"rgdpe\"] / pwt[\"pop\"] # This makes GDP per person or ``average income in that country''\n",
    "\n",
    "pwt_2005 = pwt[pwt.year == 2005]           # This will get me just the 2005 year...\n"
   ]
  },
  {
   "cell_type": "markdown",
   "metadata": {},
   "source": [
    "These types of operations on the dataframe should be feeling familiar. The first operation just creates a new series which is gdp per person in the country. The second operation just pulled out the year 2005 (which will simplfy the syntax below)."
   ]
  },
  {
   "cell_type": "code",
   "execution_count": 7,
   "metadata": {},
   "outputs": [
    {
     "data": {
      "text/html": [
       "<div>\n",
       "<style scoped>\n",
       "    .dataframe tbody tr th:only-of-type {\n",
       "        vertical-align: middle;\n",
       "    }\n",
       "\n",
       "    .dataframe tbody tr th {\n",
       "        vertical-align: top;\n",
       "    }\n",
       "\n",
       "    .dataframe thead th {\n",
       "        text-align: right;\n",
       "    }\n",
       "</style>\n",
       "<table border=\"1\" class=\"dataframe\">\n",
       "  <thead>\n",
       "    <tr style=\"text-align: right;\">\n",
       "      <th></th>\n",
       "      <th>countrycode</th>\n",
       "      <th>country</th>\n",
       "      <th>currency_unit</th>\n",
       "      <th>year</th>\n",
       "      <th>rgdpe</th>\n",
       "      <th>rgdpo</th>\n",
       "      <th>pop</th>\n",
       "      <th>emp</th>\n",
       "      <th>avh</th>\n",
       "      <th>hc</th>\n",
       "      <th>...</th>\n",
       "      <th>csh_x</th>\n",
       "      <th>csh_m</th>\n",
       "      <th>csh_r</th>\n",
       "      <th>pl_c</th>\n",
       "      <th>pl_i</th>\n",
       "      <th>pl_g</th>\n",
       "      <th>pl_x</th>\n",
       "      <th>pl_m</th>\n",
       "      <th>pl_k</th>\n",
       "      <th>gdp_pop</th>\n",
       "    </tr>\n",
       "  </thead>\n",
       "  <tbody>\n",
       "    <tr>\n",
       "      <th>55</th>\n",
       "      <td>AGO</td>\n",
       "      <td>Angola</td>\n",
       "      <td>Kwanza</td>\n",
       "      <td>2005</td>\n",
       "      <td>52943.320312</td>\n",
       "      <td>61016.523438</td>\n",
       "      <td>16.489021</td>\n",
       "      <td>7.738189</td>\n",
       "      <td>NaN</td>\n",
       "      <td>NaN</td>\n",
       "      <td>...</td>\n",
       "      <td>0.700307</td>\n",
       "      <td>-0.202887</td>\n",
       "      <td>-0.083627</td>\n",
       "      <td>0.662680</td>\n",
       "      <td>0.576069</td>\n",
       "      <td>0.591150</td>\n",
       "      <td>0.493786</td>\n",
       "      <td>0.622956</td>\n",
       "      <td>0.560122</td>\n",
       "      <td>3210.822541</td>\n",
       "    </tr>\n",
       "    <tr>\n",
       "      <th>117</th>\n",
       "      <td>ALB</td>\n",
       "      <td>Albania</td>\n",
       "      <td>Lek</td>\n",
       "      <td>2005</td>\n",
       "      <td>16960.060547</td>\n",
       "      <td>17289.283203</td>\n",
       "      <td>3.141800</td>\n",
       "      <td>0.932000</td>\n",
       "      <td>NaN</td>\n",
       "      <td>2.993224</td>\n",
       "      <td>...</td>\n",
       "      <td>0.063309</td>\n",
       "      <td>-0.279105</td>\n",
       "      <td>-0.018865</td>\n",
       "      <td>0.526328</td>\n",
       "      <td>0.605834</td>\n",
       "      <td>0.207416</td>\n",
       "      <td>0.601361</td>\n",
       "      <td>0.541775</td>\n",
       "      <td>0.644332</td>\n",
       "      <td>5398.198659</td>\n",
       "    </tr>\n",
       "    <tr>\n",
       "      <th>179</th>\n",
       "      <td>ARG</td>\n",
       "      <td>Argentina</td>\n",
       "      <td>Argentine Peso</td>\n",
       "      <td>2005</td>\n",
       "      <td>409609.375000</td>\n",
       "      <td>399135.656250</td>\n",
       "      <td>38.681174</td>\n",
       "      <td>13.987501</td>\n",
       "      <td>1840.9</td>\n",
       "      <td>2.764784</td>\n",
       "      <td>...</td>\n",
       "      <td>0.150914</td>\n",
       "      <td>-0.113287</td>\n",
       "      <td>-0.003533</td>\n",
       "      <td>0.424934</td>\n",
       "      <td>0.484048</td>\n",
       "      <td>0.518339</td>\n",
       "      <td>0.665829</td>\n",
       "      <td>0.634466</td>\n",
       "      <td>0.440873</td>\n",
       "      <td>10589.372882</td>\n",
       "    </tr>\n",
       "    <tr>\n",
       "      <th>241</th>\n",
       "      <td>ARM</td>\n",
       "      <td>Armenia</td>\n",
       "      <td>Armenian Dram</td>\n",
       "      <td>2005</td>\n",
       "      <td>13478.196289</td>\n",
       "      <td>13923.870117</td>\n",
       "      <td>3.065954</td>\n",
       "      <td>1.128365</td>\n",
       "      <td>NaN</td>\n",
       "      <td>3.012273</td>\n",
       "      <td>...</td>\n",
       "      <td>0.099134</td>\n",
       "      <td>-0.215817</td>\n",
       "      <td>-0.011175</td>\n",
       "      <td>0.326691</td>\n",
       "      <td>0.543520</td>\n",
       "      <td>0.316758</td>\n",
       "      <td>0.678810</td>\n",
       "      <td>0.562906</td>\n",
       "      <td>0.509696</td>\n",
       "      <td>4396.085619</td>\n",
       "    </tr>\n",
       "    <tr>\n",
       "      <th>303</th>\n",
       "      <td>ATG</td>\n",
       "      <td>Antigua and Barbuda</td>\n",
       "      <td>East Caribbean Dollar</td>\n",
       "      <td>2005</td>\n",
       "      <td>1176.966309</td>\n",
       "      <td>894.290588</td>\n",
       "      <td>0.083916</td>\n",
       "      <td>0.036395</td>\n",
       "      <td>NaN</td>\n",
       "      <td>NaN</td>\n",
       "      <td>...</td>\n",
       "      <td>0.155397</td>\n",
       "      <td>-0.918621</td>\n",
       "      <td>0.266593</td>\n",
       "      <td>1.044244</td>\n",
       "      <td>1.526457</td>\n",
       "      <td>0.334405</td>\n",
       "      <td>0.868072</td>\n",
       "      <td>0.639315</td>\n",
       "      <td>1.941484</td>\n",
       "      <td>14025.529203</td>\n",
       "    </tr>\n",
       "  </tbody>\n",
       "</table>\n",
       "<p>5 rows × 48 columns</p>\n",
       "</div>"
      ],
      "text/plain": [
       "    countrycode              country          currency_unit  year  \\\n",
       "55          AGO               Angola                 Kwanza  2005   \n",
       "117         ALB              Albania                    Lek  2005   \n",
       "179         ARG            Argentina         Argentine Peso  2005   \n",
       "241         ARM              Armenia          Armenian Dram  2005   \n",
       "303         ATG  Antigua and Barbuda  East Caribbean Dollar  2005   \n",
       "\n",
       "             rgdpe          rgdpo        pop        emp     avh        hc  \\\n",
       "55    52943.320312   61016.523438  16.489021   7.738189     NaN       NaN   \n",
       "117   16960.060547   17289.283203   3.141800   0.932000     NaN  2.993224   \n",
       "179  409609.375000  399135.656250  38.681174  13.987501  1840.9  2.764784   \n",
       "241   13478.196289   13923.870117   3.065954   1.128365     NaN  3.012273   \n",
       "303    1176.966309     894.290588   0.083916   0.036395     NaN       NaN   \n",
       "\n",
       "         ...          csh_x     csh_m     csh_r      pl_c      pl_i      pl_g  \\\n",
       "55       ...       0.700307 -0.202887 -0.083627  0.662680  0.576069  0.591150   \n",
       "117      ...       0.063309 -0.279105 -0.018865  0.526328  0.605834  0.207416   \n",
       "179      ...       0.150914 -0.113287 -0.003533  0.424934  0.484048  0.518339   \n",
       "241      ...       0.099134 -0.215817 -0.011175  0.326691  0.543520  0.316758   \n",
       "303      ...       0.155397 -0.918621  0.266593  1.044244  1.526457  0.334405   \n",
       "\n",
       "         pl_x      pl_m      pl_k       gdp_pop  \n",
       "55   0.493786  0.622956  0.560122   3210.822541  \n",
       "117  0.601361  0.541775  0.644332   5398.198659  \n",
       "179  0.665829  0.634466  0.440873  10589.372882  \n",
       "241  0.678810  0.562906  0.509696   4396.085619  \n",
       "303  0.868072  0.639315  1.941484  14025.529203  \n",
       "\n",
       "[5 rows x 48 columns]"
      ]
     },
     "execution_count": 7,
     "metadata": {},
     "output_type": "execute_result"
    }
   ],
   "source": [
    "pwt_2005.head()  # Do this again, just to verify we have what we think we have..."
   ]
  },
  {
   "cell_type": "markdown",
   "metadata": {},
   "source": [
    "\n",
    "### Histograms\n",
    "\n",
    "For this question, a histogram is a good place to start to illustrate how much income inequality there is. Lets learn how to do this."
   ]
  },
  {
   "cell_type": "code",
   "execution_count": 8,
   "metadata": {},
   "outputs": [
    {
     "data": {
      "image/png": "[encoded data removed]",
      "text/plain": [
       "<Figure size 432x288 with 1 Axes>"
      ]
     },
     "metadata": {
      "needs_background": "light"
     },
     "output_type": "display_data"
    }
   ],
   "source": [
    "avg = pwt_2005.gdp_pop.mean()\n",
    "\n",
    "fig, ax = plt.subplots()\n",
    "\n",
    "ax.hist(pwt_2005.gdp_pop)\n",
    "\n",
    "plt.show()"
   ]
  },
  {
   "cell_type": "markdown",
   "metadata": {},
   "source": [
    "Ok, not bad. Now lets make this a bit more informative by adding some of th usual (titles, labels ), then some stuff to add context. Also lets create some space between the bars..."
   ]
  },
  {
   "cell_type": "code",
   "execution_count": 9,
   "metadata": {},
   "outputs": [
    {
     "data": {
      "image/png": "[encoded data removed]",
      "text/plain": [
       "<Figure size 432x288 with 1 Axes>"
      ]
     },
     "metadata": {
      "needs_background": "light"
     },
     "output_type": "display_data"
    }
   ],
   "source": [
    "\n",
    "fig, ax = plt.subplots()\n",
    "\n",
    "ax.hist(pwt_2005.gdp_pop, rwidth = 0.95)\n",
    "\n",
    "ax.set_xlabel(\"PPP 2005 Dollars\")\n",
    "\n",
    "ax.set_title(\"Global Income Inequality\")\n",
    "\n",
    "ax.spines[\"right\"].set_visible(False)\n",
    "ax.spines[\"top\"].set_visible(False)\n",
    "\n",
    "plt.show()\n"
   ]
  },
  {
   "cell_type": "markdown",
   "metadata": {},
   "source": [
    "I think this is looking good. Let me add some context, I'm going to add two horizontal lines showing the world average and then the United States."
   ]
  },
  {
   "cell_type": "code",
   "execution_count": 10,
   "metadata": {},
   "outputs": [
    {
     "data": {
      "image/png": "[encoded data removed]",
      "text/plain": [
       "<Figure size 432x288 with 1 Axes>"
      ]
     },
     "metadata": {
      "needs_background": "light"
     },
     "output_type": "display_data"
    }
   ],
   "source": [
    "fig, ax = plt.subplots()\n",
    "\n",
    "ax.hist(pwt_2005.gdp_pop, rwidth = 0.95)\n",
    "\n",
    "ax.set_xlabel(\"PPP 2005 Dollars\")\n",
    "\n",
    "ax.set_title(\"Global Income Inequality\\n\")\n",
    "\n",
    "ax.spines[\"right\"].set_visible(False)\n",
    "ax.spines[\"top\"].set_visible(False)\n",
    "\n",
    "# All the stuff is the same as before... below is the new stuff.\n",
    "\n",
    "avg = pwt_2005.gdp_pop.mean() # This computes the average value.\n",
    "\n",
    "\n",
    "ax.axvline(x=avg,           # Set the value equall to the average\n",
    "           color='r',       # make the color red\n",
    "           label='Average', # this is the label (shows up in the legend)\n",
    "           linestyle='-',   # the line style\n",
    "           linewidth=2)     # thickness of the line\n",
    "\n",
    "message = \"World Average \\n\" + str(round(avg,-1)) # Create the message, convert the number to a string,\n",
    "                                                  # then add it \n",
    "                                                  \n",
    "ax.text(avg + 1000, # This is the placement on the x-axis, I'm shifting it righ to see it better\n",
    "        100, # placement on the y-axis\n",
    "        message,  # The message\n",
    "        horizontalalignment='left') # then alling everything on the left.\n",
    "\n",
    "usval = float(pwt_2005[pwt_2005.countrycode == \"USA\"].gdp_pop)\n",
    "# Note how I'm doing this, I'm slicing the data frame by a boolean operation. So take the value\n",
    "# where the countrycode is USA, return gdp_pop. The one issue here is that it returns a dataframe\n",
    "# not a floating point value. So I use float to convert it.\n",
    "\n",
    "ax.axvline(x= usval, color='k', label= \"USA\", linestyle='--', linewidth=2) # Put in the US Value\n",
    "# Same deal as above\n",
    "\n",
    "message = \"US Value \\n\" + str(round(usval,-1))\n",
    "\n",
    "ax.text(usval +1000, 100, message, horizontalalignment='left')\n",
    "# Same deal as above.\n",
    "\n",
    "plt.savefig(\"hist.png\", bbox_inches=\"tight\", dpi = 600)\n",
    "\n",
    "plt.show()"
   ]
  },
  {
   "cell_type": "markdown",
   "metadata": {},
   "source": [
    "What does it say? What else would you like to see? Is this hiding anything?\n",
    "\n",
    "**Excercise:** Exlpore another year, how does it compare? Can you make a side by side plot of the histogram for two years?"
   ]
  },
  {
   "cell_type": "markdown",
   "metadata": {},
   "source": [
    "How to display how much inequality there is? Let work through two different kind of plots. A bar chart (and we will have to simplify this) and a histogram.\n",
    "\n",
    "### Bar Chart of Cross Country Income Inequality\n",
    "\n",
    "First, I think the chart above displays an aspect of how much inequality there is across countries. But there are other ways to get at this issue. A bar chart is a way to provide a direct comparision of countries. Lets explore that. As usual, lets generate a quick bar chart. \n"
   ]
  },
  {
   "cell_type": "code",
   "execution_count": 15,
   "metadata": {},
   "outputs": [
    {
     "data": {
      "image/png": "[encoded data removed]",
      "text/plain": [
       "<Figure size 432x288 with 1 Axes>"
      ]
     },
     "metadata": {
      "needs_background": "light"
     },
     "output_type": "display_data"
    }
   ],
   "source": [
    "fig, ax = plt.subplots()\n",
    "\n",
    "\n",
    "ax.barh(pwt_2005.countrycode, pwt_2005.gdp_pop)\n",
    "#pwt_2005.gdp_pop.plot(kind='barh', ax=ax) # Same deal as usual, just changed the kind.\n",
    "\n",
    "plt.show()"
   ]
  },
  {
   "cell_type": "markdown",
   "metadata": {},
   "source": [
    "Ok, so that is **brutal**. This is going to need a lot of work. In fact, we might want to just give up on this idea...but lets push ahead a little bit. \n",
    "\n",
    "The first thing that I notice is that the y-axis is a mess. Lets simplify our lives and only look at a couple of countries first, the work from there. \n",
    "\n",
    "**Note we are taking a slight detour here to wrangle the data a bit**\n",
    "\n",
    "We want to look at only a couple of countries. How do we pull them out? There are several ways to do this, I will show you two. ** But this is good practice to learn and manipulate data**\n",
    "\n",
    "##### The .isin operation\n",
    "\n",
    "Below I use a **Boolean** operation to only pull out a subset of the countries. Here I use this `.isin` operation:"
   ]
  },
  {
   "cell_type": "code",
   "execution_count": 17,
   "metadata": {},
   "outputs": [
    {
     "data": {
      "text/html": [
       "<div>\n",
       "<style scoped>\n",
       "    .dataframe tbody tr th:only-of-type {\n",
       "        vertical-align: middle;\n",
       "    }\n",
       "\n",
       "    .dataframe tbody tr th {\n",
       "        vertical-align: top;\n",
       "    }\n",
       "\n",
       "    .dataframe thead th {\n",
       "        text-align: right;\n",
       "    }\n",
       "</style>\n",
       "<table border=\"1\" class=\"dataframe\">\n",
       "  <thead>\n",
       "    <tr style=\"text-align: right;\">\n",
       "      <th></th>\n",
       "      <th>countrycode</th>\n",
       "      <th>country</th>\n",
       "      <th>currency_unit</th>\n",
       "      <th>year</th>\n",
       "      <th>rgdpe</th>\n",
       "      <th>rgdpo</th>\n",
       "      <th>pop</th>\n",
       "      <th>emp</th>\n",
       "      <th>avh</th>\n",
       "      <th>hc</th>\n",
       "      <th>...</th>\n",
       "      <th>csh_x</th>\n",
       "      <th>csh_m</th>\n",
       "      <th>csh_r</th>\n",
       "      <th>pl_c</th>\n",
       "      <th>pl_i</th>\n",
       "      <th>pl_g</th>\n",
       "      <th>pl_x</th>\n",
       "      <th>pl_m</th>\n",
       "      <th>pl_k</th>\n",
       "      <th>gdp_pop</th>\n",
       "    </tr>\n",
       "  </thead>\n",
       "  <tbody>\n",
       "    <tr>\n",
       "      <th>179</th>\n",
       "      <td>ARG</td>\n",
       "      <td>Argentina</td>\n",
       "      <td>Argentine Peso</td>\n",
       "      <td>2005</td>\n",
       "      <td>4.096094e+05</td>\n",
       "      <td>3.991357e+05</td>\n",
       "      <td>38.681174</td>\n",
       "      <td>13.987501</td>\n",
       "      <td>1840.90</td>\n",
       "      <td>2.764784</td>\n",
       "      <td>...</td>\n",
       "      <td>0.150914</td>\n",
       "      <td>-0.113287</td>\n",
       "      <td>-0.003533</td>\n",
       "      <td>0.424934</td>\n",
       "      <td>0.484048</td>\n",
       "      <td>0.518339</td>\n",
       "      <td>0.665829</td>\n",
       "      <td>0.634466</td>\n",
       "      <td>0.440873</td>\n",
       "      <td>10589.372882</td>\n",
       "    </tr>\n",
       "    <tr>\n",
       "      <th>1915</th>\n",
       "      <td>CHN</td>\n",
       "      <td>China, People's Republic of</td>\n",
       "      <td>Yuan Renminbi</td>\n",
       "      <td>2005</td>\n",
       "      <td>7.630084e+06</td>\n",
       "      <td>7.522393e+06</td>\n",
       "      <td>1284.823106</td>\n",
       "      <td>755.125000</td>\n",
       "      <td>NaN</td>\n",
       "      <td>2.459823</td>\n",
       "      <td>...</td>\n",
       "      <td>0.161457</td>\n",
       "      <td>-0.130350</td>\n",
       "      <td>0.008329</td>\n",
       "      <td>0.312700</td>\n",
       "      <td>0.364267</td>\n",
       "      <td>0.182004</td>\n",
       "      <td>0.627357</td>\n",
       "      <td>0.673050</td>\n",
       "      <td>0.305711</td>\n",
       "      <td>5938.626076</td>\n",
       "    </tr>\n",
       "    <tr>\n",
       "      <th>3465</th>\n",
       "      <td>GBR</td>\n",
       "      <td>United Kingdom</td>\n",
       "      <td>Pound Sterling</td>\n",
       "      <td>2005</td>\n",
       "      <td>1.961780e+06</td>\n",
       "      <td>1.931446e+06</td>\n",
       "      <td>60.202727</td>\n",
       "      <td>28.642519</td>\n",
       "      <td>1676.41</td>\n",
       "      <td>2.758831</td>\n",
       "      <td>...</td>\n",
       "      <td>0.287003</td>\n",
       "      <td>-0.360390</td>\n",
       "      <td>0.029175</td>\n",
       "      <td>1.129804</td>\n",
       "      <td>1.050549</td>\n",
       "      <td>1.462617</td>\n",
       "      <td>0.693387</td>\n",
       "      <td>0.740987</td>\n",
       "      <td>1.295023</td>\n",
       "      <td>32586.239823</td>\n",
       "    </tr>\n",
       "    <tr>\n",
       "      <th>9603</th>\n",
       "      <td>TZA</td>\n",
       "      <td>United Republic of Tanzania: Mainland</td>\n",
       "      <td>Tanzanian Shilling</td>\n",
       "      <td>2005</td>\n",
       "      <td>3.973751e+04</td>\n",
       "      <td>4.106662e+04</td>\n",
       "      <td>37.758024</td>\n",
       "      <td>18.611111</td>\n",
       "      <td>NaN</td>\n",
       "      <td>1.910643</td>\n",
       "      <td>...</td>\n",
       "      <td>0.057635</td>\n",
       "      <td>-0.133762</td>\n",
       "      <td>0.022292</td>\n",
       "      <td>0.339921</td>\n",
       "      <td>0.417389</td>\n",
       "      <td>0.344501</td>\n",
       "      <td>0.706324</td>\n",
       "      <td>0.591069</td>\n",
       "      <td>0.381243</td>\n",
       "      <td>1052.425617</td>\n",
       "    </tr>\n",
       "    <tr>\n",
       "      <th>9851</th>\n",
       "      <td>USA</td>\n",
       "      <td>United States</td>\n",
       "      <td>US Dollar</td>\n",
       "      <td>2005</td>\n",
       "      <td>1.288531e+07</td>\n",
       "      <td>1.256430e+07</td>\n",
       "      <td>296.820296</td>\n",
       "      <td>143.619202</td>\n",
       "      <td>1708.56</td>\n",
       "      <td>3.574813</td>\n",
       "      <td>...</td>\n",
       "      <td>0.100642</td>\n",
       "      <td>-0.193560</td>\n",
       "      <td>0.008379</td>\n",
       "      <td>0.956188</td>\n",
       "      <td>0.833753</td>\n",
       "      <td>1.396735</td>\n",
       "      <td>0.715181</td>\n",
       "      <td>0.712318</td>\n",
       "      <td>1.000000</td>\n",
       "      <td>43411.155415</td>\n",
       "    </tr>\n",
       "  </tbody>\n",
       "</table>\n",
       "<p>5 rows × 48 columns</p>\n",
       "</div>"
      ],
      "text/plain": [
       "     countrycode                                country       currency_unit  \\\n",
       "179          ARG                              Argentina      Argentine Peso   \n",
       "1915         CHN            China, People's Republic of       Yuan Renminbi   \n",
       "3465         GBR                         United Kingdom      Pound Sterling   \n",
       "9603         TZA  United Republic of Tanzania: Mainland  Tanzanian Shilling   \n",
       "9851         USA                          United States           US Dollar   \n",
       "\n",
       "      year         rgdpe         rgdpo          pop         emp      avh  \\\n",
       "179   2005  4.096094e+05  3.991357e+05    38.681174   13.987501  1840.90   \n",
       "1915  2005  7.630084e+06  7.522393e+06  1284.823106  755.125000      NaN   \n",
       "3465  2005  1.961780e+06  1.931446e+06    60.202727   28.642519  1676.41   \n",
       "9603  2005  3.973751e+04  4.106662e+04    37.758024   18.611111      NaN   \n",
       "9851  2005  1.288531e+07  1.256430e+07   296.820296  143.619202  1708.56   \n",
       "\n",
       "            hc      ...          csh_x     csh_m     csh_r      pl_c  \\\n",
       "179   2.764784      ...       0.150914 -0.113287 -0.003533  0.424934   \n",
       "1915  2.459823      ...       0.161457 -0.130350  0.008329  0.312700   \n",
       "3465  2.758831      ...       0.287003 -0.360390  0.029175  1.129804   \n",
       "9603  1.910643      ...       0.057635 -0.133762  0.022292  0.339921   \n",
       "9851  3.574813      ...       0.100642 -0.193560  0.008379  0.956188   \n",
       "\n",
       "          pl_i      pl_g      pl_x      pl_m      pl_k       gdp_pop  \n",
       "179   0.484048  0.518339  0.665829  0.634466  0.440873  10589.372882  \n",
       "1915  0.364267  0.182004  0.627357  0.673050  0.305711   5938.626076  \n",
       "3465  1.050549  1.462617  0.693387  0.740987  1.295023  32586.239823  \n",
       "9603  0.417389  0.344501  0.706324  0.591069  0.381243   1052.425617  \n",
       "9851  0.833753  1.396735  0.715181  0.712318  1.000000  43411.155415  \n",
       "\n",
       "[5 rows x 48 columns]"
      ]
     },
     "execution_count": 17,
     "metadata": {},
     "output_type": "execute_result"
    }
   ],
   "source": [
    "country_list = [\"USA\", \"GBR\", \"ARG\", \"TZA\", \"CHN\"]           # My country list\n",
    "\n",
    "subpwt = pwt_2005[pwt_2005.countrycode.isin(country_list)]   # First, inside the brackets, I'm looking at the country code, then\n",
    "                                                             # use this .isin command, it will create a boolean that specifies \n",
    "                                                             # a true if the country code \"is in\" our list and a false otherwise\n",
    "                                                             # Then since it is inside the brackets, this means that subpwt will\n",
    "                                                             # only be that subset of countries.\n",
    "                \n",
    "                                                             # What if you just did inside the brackets, \n",
    "                                                             # pwt_2005.countrycode == country_list? Why would this not work.\n",
    "\n",
    "subpwt.head() # Lets set if we did what we thought..."
   ]
  },
  {
   "cell_type": "markdown",
   "metadata": {},
   "source": [
    "Ok, so this looks good. We pulled out only those countries. Now lets plot it."
   ]
  },
  {
   "cell_type": "code",
   "execution_count": 20,
   "metadata": {},
   "outputs": [
    {
     "data": {
      "image/png": "[encoded data removed]",
      "text/plain": [
       "<Figure size 432x288 with 1 Axes>"
      ]
     },
     "metadata": {
      "needs_background": "light"
     },
     "output_type": "display_data"
    }
   ],
   "source": [
    "fig, ax = plt.subplots()\n",
    "\n",
    "#subpwt.gdp_pop.plot(kind='barh', ax=ax, color = 'b') \n",
    "\n",
    "ax.barh(subpwt.countrycode, subpwt.gdp_pop)\n",
    "\n",
    "plt.show()"
   ]
  },
  {
   "cell_type": "markdown",
   "metadata": {},
   "source": [
    "Ok, this is nice in the sense that we see what is going on with the y-axis. It is labeling it with numerical codes. If we want to keep using this approach, then we would need to change it. \n",
    "\n",
    "#### Set the Index approach\n",
    "\n",
    "We actually worked with the PWT earlier. And I posed the question, what is the natural index? In this case I would argue that here the natural index would be the country. Why? Well we removed the time dimension by only looking at the year 2005 and the fundemental unit of observation is the country here. \n",
    "\n",
    "By setting the index, it now lets us pull directly a subset of countries in a relativly easy way."
   ]
  },
  {
   "cell_type": "code",
   "execution_count": 21,
   "metadata": {
    "scrolled": false
   },
   "outputs": [
    {
     "data": {
      "text/html": [
       "<div>\n",
       "<style scoped>\n",
       "    .dataframe tbody tr th:only-of-type {\n",
       "        vertical-align: middle;\n",
       "    }\n",
       "\n",
       "    .dataframe tbody tr th {\n",
       "        vertical-align: top;\n",
       "    }\n",
       "\n",
       "    .dataframe thead th {\n",
       "        text-align: right;\n",
       "    }\n",
       "</style>\n",
       "<table border=\"1\" class=\"dataframe\">\n",
       "  <thead>\n",
       "    <tr style=\"text-align: right;\">\n",
       "      <th></th>\n",
       "      <th>country</th>\n",
       "      <th>currency_unit</th>\n",
       "      <th>year</th>\n",
       "      <th>rgdpe</th>\n",
       "      <th>rgdpo</th>\n",
       "      <th>pop</th>\n",
       "      <th>emp</th>\n",
       "      <th>avh</th>\n",
       "      <th>hc</th>\n",
       "      <th>ccon</th>\n",
       "      <th>...</th>\n",
       "      <th>csh_x</th>\n",
       "      <th>csh_m</th>\n",
       "      <th>csh_r</th>\n",
       "      <th>pl_c</th>\n",
       "      <th>pl_i</th>\n",
       "      <th>pl_g</th>\n",
       "      <th>pl_x</th>\n",
       "      <th>pl_m</th>\n",
       "      <th>pl_k</th>\n",
       "      <th>gdp_pop</th>\n",
       "    </tr>\n",
       "    <tr>\n",
       "      <th>countrycode</th>\n",
       "      <th></th>\n",
       "      <th></th>\n",
       "      <th></th>\n",
       "      <th></th>\n",
       "      <th></th>\n",
       "      <th></th>\n",
       "      <th></th>\n",
       "      <th></th>\n",
       "      <th></th>\n",
       "      <th></th>\n",
       "      <th></th>\n",
       "      <th></th>\n",
       "      <th></th>\n",
       "      <th></th>\n",
       "      <th></th>\n",
       "      <th></th>\n",
       "      <th></th>\n",
       "      <th></th>\n",
       "      <th></th>\n",
       "      <th></th>\n",
       "      <th></th>\n",
       "    </tr>\n",
       "  </thead>\n",
       "  <tbody>\n",
       "    <tr>\n",
       "      <th>USA</th>\n",
       "      <td>United States</td>\n",
       "      <td>US Dollar</td>\n",
       "      <td>2005</td>\n",
       "      <td>1.288531e+07</td>\n",
       "      <td>1.256430e+07</td>\n",
       "      <td>296.820296</td>\n",
       "      <td>143.619202</td>\n",
       "      <td>1708.56</td>\n",
       "      <td>3.574813</td>\n",
       "      <td>1.062547e+07</td>\n",
       "      <td>...</td>\n",
       "      <td>0.100642</td>\n",
       "      <td>-0.193560</td>\n",
       "      <td>0.008379</td>\n",
       "      <td>0.956188</td>\n",
       "      <td>0.833753</td>\n",
       "      <td>1.396735</td>\n",
       "      <td>0.715181</td>\n",
       "      <td>0.712318</td>\n",
       "      <td>1.000000</td>\n",
       "      <td>43411.155415</td>\n",
       "    </tr>\n",
       "    <tr>\n",
       "      <th>GBR</th>\n",
       "      <td>United Kingdom</td>\n",
       "      <td>Pound Sterling</td>\n",
       "      <td>2005</td>\n",
       "      <td>1.961780e+06</td>\n",
       "      <td>1.931446e+06</td>\n",
       "      <td>60.202727</td>\n",
       "      <td>28.642519</td>\n",
       "      <td>1676.41</td>\n",
       "      <td>2.758831</td>\n",
       "      <td>1.646576e+06</td>\n",
       "      <td>...</td>\n",
       "      <td>0.287003</td>\n",
       "      <td>-0.360390</td>\n",
       "      <td>0.029175</td>\n",
       "      <td>1.129804</td>\n",
       "      <td>1.050549</td>\n",
       "      <td>1.462617</td>\n",
       "      <td>0.693387</td>\n",
       "      <td>0.740987</td>\n",
       "      <td>1.295023</td>\n",
       "      <td>32586.239823</td>\n",
       "    </tr>\n",
       "    <tr>\n",
       "      <th>ARG</th>\n",
       "      <td>Argentina</td>\n",
       "      <td>Argentine Peso</td>\n",
       "      <td>2005</td>\n",
       "      <td>4.096094e+05</td>\n",
       "      <td>3.991357e+05</td>\n",
       "      <td>38.681174</td>\n",
       "      <td>13.987501</td>\n",
       "      <td>1840.90</td>\n",
       "      <td>2.764784</td>\n",
       "      <td>3.065313e+05</td>\n",
       "      <td>...</td>\n",
       "      <td>0.150914</td>\n",
       "      <td>-0.113287</td>\n",
       "      <td>-0.003533</td>\n",
       "      <td>0.424934</td>\n",
       "      <td>0.484048</td>\n",
       "      <td>0.518339</td>\n",
       "      <td>0.665829</td>\n",
       "      <td>0.634466</td>\n",
       "      <td>0.440873</td>\n",
       "      <td>10589.372882</td>\n",
       "    </tr>\n",
       "    <tr>\n",
       "      <th>TZA</th>\n",
       "      <td>United Republic of Tanzania: Mainland</td>\n",
       "      <td>Tanzanian Shilling</td>\n",
       "      <td>2005</td>\n",
       "      <td>3.973751e+04</td>\n",
       "      <td>4.106662e+04</td>\n",
       "      <td>37.758024</td>\n",
       "      <td>18.611111</td>\n",
       "      <td>NaN</td>\n",
       "      <td>1.910643</td>\n",
       "      <td>3.478623e+04</td>\n",
       "      <td>...</td>\n",
       "      <td>0.057635</td>\n",
       "      <td>-0.133762</td>\n",
       "      <td>0.022292</td>\n",
       "      <td>0.339921</td>\n",
       "      <td>0.417389</td>\n",
       "      <td>0.344501</td>\n",
       "      <td>0.706324</td>\n",
       "      <td>0.591069</td>\n",
       "      <td>0.381243</td>\n",
       "      <td>1052.425617</td>\n",
       "    </tr>\n",
       "    <tr>\n",
       "      <th>CHN</th>\n",
       "      <td>China, People's Republic of</td>\n",
       "      <td>Yuan Renminbi</td>\n",
       "      <td>2005</td>\n",
       "      <td>7.630084e+06</td>\n",
       "      <td>7.522393e+06</td>\n",
       "      <td>1284.823106</td>\n",
       "      <td>755.125000</td>\n",
       "      <td>NaN</td>\n",
       "      <td>2.459823</td>\n",
       "      <td>4.617393e+06</td>\n",
       "      <td>...</td>\n",
       "      <td>0.161457</td>\n",
       "      <td>-0.130350</td>\n",
       "      <td>0.008329</td>\n",
       "      <td>0.312700</td>\n",
       "      <td>0.364267</td>\n",
       "      <td>0.182004</td>\n",
       "      <td>0.627357</td>\n",
       "      <td>0.673050</td>\n",
       "      <td>0.305711</td>\n",
       "      <td>5938.626076</td>\n",
       "    </tr>\n",
       "  </tbody>\n",
       "</table>\n",
       "<p>5 rows × 47 columns</p>\n",
       "</div>"
      ],
      "text/plain": [
       "                                           country       currency_unit  year  \\\n",
       "countrycode                                                                    \n",
       "USA                                  United States           US Dollar  2005   \n",
       "GBR                                 United Kingdom      Pound Sterling  2005   \n",
       "ARG                                      Argentina      Argentine Peso  2005   \n",
       "TZA          United Republic of Tanzania: Mainland  Tanzanian Shilling  2005   \n",
       "CHN                    China, People's Republic of       Yuan Renminbi  2005   \n",
       "\n",
       "                    rgdpe         rgdpo          pop         emp      avh  \\\n",
       "countrycode                                                                 \n",
       "USA          1.288531e+07  1.256430e+07   296.820296  143.619202  1708.56   \n",
       "GBR          1.961780e+06  1.931446e+06    60.202727   28.642519  1676.41   \n",
       "ARG          4.096094e+05  3.991357e+05    38.681174   13.987501  1840.90   \n",
       "TZA          3.973751e+04  4.106662e+04    37.758024   18.611111      NaN   \n",
       "CHN          7.630084e+06  7.522393e+06  1284.823106  755.125000      NaN   \n",
       "\n",
       "                   hc          ccon      ...          csh_x     csh_m  \\\n",
       "countrycode                              ...                            \n",
       "USA          3.574813  1.062547e+07      ...       0.100642 -0.193560   \n",
       "GBR          2.758831  1.646576e+06      ...       0.287003 -0.360390   \n",
       "ARG          2.764784  3.065313e+05      ...       0.150914 -0.113287   \n",
       "TZA          1.910643  3.478623e+04      ...       0.057635 -0.133762   \n",
       "CHN          2.459823  4.617393e+06      ...       0.161457 -0.130350   \n",
       "\n",
       "                csh_r      pl_c      pl_i      pl_g      pl_x      pl_m  \\\n",
       "countrycode                                                               \n",
       "USA          0.008379  0.956188  0.833753  1.396735  0.715181  0.712318   \n",
       "GBR          0.029175  1.129804  1.050549  1.462617  0.693387  0.740987   \n",
       "ARG         -0.003533  0.424934  0.484048  0.518339  0.665829  0.634466   \n",
       "TZA          0.022292  0.339921  0.417389  0.344501  0.706324  0.591069   \n",
       "CHN          0.008329  0.312700  0.364267  0.182004  0.627357  0.673050   \n",
       "\n",
       "                 pl_k       gdp_pop  \n",
       "countrycode                          \n",
       "USA          1.000000  43411.155415  \n",
       "GBR          1.295023  32586.239823  \n",
       "ARG          0.440873  10589.372882  \n",
       "TZA          0.381243   1052.425617  \n",
       "CHN          0.305711   5938.626076  \n",
       "\n",
       "[5 rows x 47 columns]"
      ]
     },
     "execution_count": 21,
     "metadata": {},
     "output_type": "execute_result"
    }
   ],
   "source": [
    "country_list = [\"USA\", \"GBR\", \"ARG\", \"TZA\", \"CHN\"] # Our country list\n",
    "\n",
    "pwt_2005.set_index(\"countrycode\",inplace = True)   # Now set the index to be the countrycode\n",
    "\n",
    "pwt_2005.loc[country_list].head()                  # The use the `loc' operation. This pulls out the values associated with \n",
    "                                                   # the index location specified."
   ]
  },
  {
   "cell_type": "code",
   "execution_count": 24,
   "metadata": {},
   "outputs": [
    {
     "data": {
      "image/png": "[encoded data removed]",
      "text/plain": [
       "<Figure size 432x288 with 1 Axes>"
      ]
     },
     "metadata": {
      "needs_background": "light"
     },
     "output_type": "display_data"
    }
   ],
   "source": [
    "fig, ax = plt.subplots()\n",
    "\n",
    "#.plot(kind='barh', ax=ax, color = 'b') \n",
    "\n",
    "ax.barh(country_list, pwt_2005.loc[country_list].gdp_pop, color = 'b')\n",
    "\n",
    "plt.show()"
   ]
  },
  {
   "cell_type": "markdown",
   "metadata": {},
   "source": [
    "Now this is nice because, the y-axis automatically reports the **informative** country codes. Lets modify this a bit. "
   ]
  },
  {
   "cell_type": "code",
   "execution_count": 25,
   "metadata": {},
   "outputs": [
    {
     "data": {
      "image/png": "[encoded data removed]",
      "text/plain": [
       "<Figure size 432x288 with 1 Axes>"
      ]
     },
     "metadata": {
      "needs_background": "light"
     },
     "output_type": "display_data"
    }
   ],
   "source": [
    "fig, ax = plt.subplots()\n",
    "\n",
    "ax.barh(country_list, pwt_2005.loc[country_list].gdp_pop, color = 'b')\n",
    "\n",
    "ax.set_title(\"2005 GDP Per Person, Select Countries\")\n",
    "ax.set_ylabel(\"Country\")\n",
    "ax.set_xlabel(\"PPP 2005 Dollars\")\n",
    "\n",
    "ax.spines[\"right\"].set_visible(False)\n",
    "ax.spines[\"top\"].set_visible(False)\n",
    "\n",
    "plt.show()\n"
   ]
  },
  {
   "cell_type": "markdown",
   "metadata": {},
   "source": [
    "Now let me show you a couple of more \"bells and whistles\" to make this plot look nice. I'm going to add a vertical line illustrating mean gdp per person. Then I'm going to Change the country labels, so your boss does not start yelling, \"What the hell does TZA stand for!!!\""
   ]
  },
  {
   "cell_type": "code",
   "execution_count": 26,
   "metadata": {},
   "outputs": [
    {
     "data": {
      "image/png": "[encoded data removed]",
      "text/plain": [
       "<Figure size 432x288 with 1 Axes>"
      ]
     },
     "metadata": {
      "needs_background": "light"
     },
     "output_type": "display_data"
    }
   ],
   "source": [
    "avg = pwt_2005.gdp_pop.mean()\n",
    "\n",
    "fig, ax = plt.subplots()\n",
    "\n",
    "ax.barh(country_list, pwt_2005.loc[country_list].gdp_pop, color = 'b')\n",
    "\n",
    "ax.set_title(\"2005 GDP Per Person, Select Countries\")\n",
    "ax.set_ylabel(\"\") #By Changing the labeling, having a ylabel saying country is redundent, so remove it.\n",
    "ax.set_xlabel(\"PPP 2005 Dollars\")\n",
    "\n",
    "ax.set_yticklabels(pwt_2005.loc[country_list].country.tolist())\n",
    "\n",
    "ax.spines[\"right\"].set_visible(False)\n",
    "ax.spines[\"top\"].set_visible(False)\n",
    "\n",
    "ax.axvline(x=avg, color='r', label='Average', linestyle='--', linewidth=2)\n",
    "\n",
    "message = \"World Average \\n\" + str(round(avg,-1)) # Create the message, convert the number to a string,\n",
    "                                                  # then add it \n",
    "ax.text(avg + 1000, # This is the placement on the x-axis, I'm shifting it righ to see it better\n",
    "        3, # placement on the y-axis\n",
    "        message,  # The message\n",
    "        horizontalalignment='left') # then alling everything on the left.\n",
    "\n",
    "plt.savefig(\"bar.png\", bbox_inches=\"tight\", dpi = 600)\n",
    "\n",
    "plt.show()\n"
   ]
  },
  {
   "cell_type": "markdown",
   "metadata": {},
   "source": [
    "What do you think? How could we make this better?\n",
    "\n",
    "**Excercise** Explore some other countries. Can you change the color of one of the bars? Hint: See the book and the PISA score example. "
   ]
  },
  {
   "cell_type": "markdown",
   "metadata": {
    "collapsed": true
   },
   "source": [
    "### Income Inequality and Education \n",
    "\n",
    "Now lets finish off with a fancy, bubble scatter plot. We will do this in the context of thinking about the role that the level of education in a country plays in determining its income level. \n",
    "\n",
    "Where do I get some education data. Turns out the Penn World Table already has this locked and loaded. The `hc` variable is a measure of human capital (as measured by economists). Basic idea, transform average years of schooling into an number that has economic content. \n",
    "\n",
    "So lets plot income level vs human capital."
   ]
  },
  {
   "cell_type": "code",
   "execution_count": 27,
   "metadata": {},
   "outputs": [
    {
     "data": {
      "image/png": "[encoded data removed]",
      "text/plain": [
       "<Figure size 432x288 with 1 Axes>"
      ]
     },
     "metadata": {
      "needs_background": "light"
     },
     "output_type": "display_data"
    }
   ],
   "source": [
    "fix, ax = plt.subplots()\n",
    "\n",
    "ax.scatter(pwt_2005[\"gdp_pop\"], pwt_2005[\"hc\"],     # x,y variables \n",
    "            alpha= 0.50) # Then this last command specifies how dark or light the bubbles are...\n",
    "\n",
    "plt.show()"
   ]
  },
  {
   "cell_type": "markdown",
   "metadata": {},
   "source": [
    "Hmmm...Is this what you expected? \n",
    "\n",
    "Here is the deal: note how the relationship looks like a curve. One way to get at this in a more transparent way is to take logarithims of both variables. Taking logs will also help scale things in a better way as well (expand on this).\n",
    "\n",
    "Well how to I do this. Use the `numpy` package which works well with operations on data frame (note the `math` package which also has the log operation did not!). "
   ]
  },
  {
   "cell_type": "code",
   "execution_count": 28,
   "metadata": {},
   "outputs": [
    {
     "data": {
      "image/png": "[encoded data removed]",
      "text/plain": [
       "<Figure size 432x288 with 1 Axes>"
      ]
     },
     "metadata": {
      "needs_background": "light"
     },
     "output_type": "display_data"
    }
   ],
   "source": [
    "fig, ax = plt.subplots()\n",
    "\n",
    "ax.scatter(np.log(pwt_2005[\"gdp_pop\"]), np.log(pwt_2005[\"hc\"]), # np.log() is taking a natural log transformation...\n",
    "            alpha= 0.50) # Then this last command specifies how dark or light the bubbles are...\n",
    "\n",
    "plt.show()\n"
   ]
  },
  {
   "cell_type": "markdown",
   "metadata": {},
   "source": [
    "Now we are one to somthing. Here is a nice, clear relationship between human capital and GDP per person. There is one issue with log scale, what does 5 mean? Well take exp(5) and you get GDP per person in levels. **BUT WHAT IS EXP(5)!!!**, your boss yells. So lets change the lables on the x-axis."
   ]
  },
  {
   "cell_type": "code",
   "execution_count": 29,
   "metadata": {},
   "outputs": [
    {
     "data": {
      "image/png": "[encoded data removed]",
      "text/plain": [
       "<Figure size 432x288 with 1 Axes>"
      ]
     },
     "metadata": {
      "needs_background": "light"
     },
     "output_type": "display_data"
    }
   ],
   "source": [
    "import numpy as np # Numerical Python Package, a key element of scientific computation in python\n",
    "\n",
    "fig, ax = plt.subplots()\n",
    "\n",
    "ax.scatter(np.log(pwt_2005[\"gdp_pop\"]), np.log(pwt_2005[\"hc\"]), # np.log() is taking a natural log transformation...\n",
    "            alpha= 0.50) # Then this last command specifies how dark or light the bubbles are...\n",
    "\n",
    "\n",
    "ax.set_title(\"2005 GDP Per Person vs. Human Capital\")\n",
    "ax.set_ylabel(\"Log Human Capital\") \n",
    "ax.set_xlabel(\"PPP 2005 Dollars\")\n",
    "\n",
    "xlabel_list = np.exp(range(5,13)) # Now creat the list of lables by converting 5,6,etc. to levels\n",
    "                                  # by taking exp.\n",
    "xlabel_list = np.round(xlabel_list,-2) # Then round it so it looks nice.\n",
    "\n",
    "\n",
    "ax.set_xticklabels(xlabel_list) # Then set the xtick labels.\n",
    "\n",
    "ax.spines[\"right\"].set_visible(False)\n",
    "ax.spines[\"top\"].set_visible(False)\n",
    "\n",
    "plt.show()"
   ]
  },
  {
   "cell_type": "markdown",
   "metadata": {},
   "source": [
    "Ok, so this is looking great. I want to add one more thing. One issue implicit in this plot is that all countries are (visually) being treated the same. But should China be treated the same as Luxumberg? One way to illustrate that some countries have more people than others is to do a bubble scatter plot. Lets do this."
   ]
  },
  {
   "cell_type": "code",
   "execution_count": 32,
   "metadata": {},
   "outputs": [
    {
     "data": {
      "image/png": "[encoded data removed]",
      "text/plain": [
       "<Figure size 432x288 with 1 Axes>"
      ]
     },
     "metadata": {
      "needs_background": "light"
     },
     "output_type": "display_data"
    }
   ],
   "source": [
    "fig, ax = plt.subplots()\n",
    "\n",
    "ax.scatter(np.log(pwt_2005[\"gdp_pop\"]), np.log(pwt_2005[\"hc\"]), # np.log() is taking a natural log transformation...\n",
    "            s=pwt_2005['pop'], # THE NEW PART HERE! \n",
    "            alpha= 0.50) # Then this last command specifies how dark or light the bubbles are...\n",
    "\n",
    "\n",
    "ax.set_title(\"2005 GDP Per Person vs. Human Capital\")\n",
    "ax.set_ylabel(\"Log Human Capital\") \n",
    "ax.set_xlabel(\"GDP Per Person, PPP 2005 Dollars\")\n",
    "\n",
    "xlabel_list = np.exp(range(5,13)) # Now creat the list of lables by converting 5,6,etc. to levels\n",
    "                                  # by taking exp.\n",
    "xlabel_list = np.round(xlabel_list,-2) # Then round it so it looks nice.\n",
    "\n",
    "\n",
    "ax.set_xticklabels(xlabel_list) # Then set the xtick labels.\n",
    "\n",
    "ax.spines[\"right\"].set_visible(False)\n",
    "ax.spines[\"top\"].set_visible(False)\n",
    "\n",
    "plt.savefig(\"hc.png\", bbox_inches=\"tight\", dpi = 600)\n",
    "\n",
    "plt.show()"
   ]
  },
  {
   "cell_type": "markdown",
   "metadata": {},
   "source": [
    "**AMAZING!** One thing to notice is how visually, this really changed things. In the previous graph above, there were some countries with high levels of GDP per person, but (relativly) low levels of human capital. To me at least, this gave the impression that maybe at higher income levels this relationship is more ambigous.\n",
    "\n",
    "But with the bubbles, it makes clear that those outlying countreis are tiny. And now visually, there is a sharp, linear relationship observed between GDP per person and education. \n",
    "\n",
    "There is a lot more you could do with this graph. Let me suggest a couple of things:\n",
    "- Change the x-ticks so they look less random\n",
    "- Report some statistics about this, e.g. weighted correlation. Better yet, the relationship of a regression of income on human capital. Maybe even plot the best fit line? \n",
    "\n",
    "**Excercise** Explore another year? Again, can you plot them side by side to illustrate what is going on?"
   ]
  },
  {
   "cell_type": "code",
   "execution_count": 35,
   "metadata": {},
   "outputs": [
    {
     "data": {
      "text/plain": [
       "Index(['AGO', 'ALB', 'ARG', 'ARM', 'ATG', 'AUS', 'AUT', 'AZE', 'BDI', 'BEL',\n",
       "       ...\n",
       "       'URY', 'USA', 'UZB', 'VCT', 'VEN', 'VNM', 'YEM', 'ZAF', 'ZMB', 'ZWE'],\n",
       "      dtype='object', name='countrycode', length=167)"
      ]
     },
     "execution_count": 35,
     "metadata": {},
     "output_type": "execute_result"
    }
   ],
   "source": [
    "pwt_2005.index"
   ]
  },
  {
   "cell_type": "code",
   "execution_count": 36,
   "metadata": {},
   "outputs": [
    {
     "data": {
      "image/png": "[encoded data removed]",
      "text/plain": [
       "<Figure size 432x288 with 1 Axes>"
      ]
     },
     "metadata": {
      "needs_background": "light"
     },
     "output_type": "display_data"
    }
   ],
   "source": [
    "fig, ax = plt.subplots()\n",
    "\n",
    "ax.scatter(np.log(pwt_2005[\"gdp_pop\"]), np.log(pwt_2005[\"hc\"]), # np.log() is taking a natural log transformation...\n",
    "            s=pwt_2005['pop'], # THE NEW PART HERE! \n",
    "            alpha= 0.50) # Then this last command specifies how dark or light the bubbles are...\n",
    "\n",
    "\n",
    "ax.scatter(np.log(pwt_2005.loc[\"ARG\"][\"gdp_pop\"]), \n",
    "           np.log(pwt_2005.loc[\"ARG\"][\"hc\"]), # np.log() is taking a natural log transformation...\n",
    "            s= 1.01*pwt_2005.loc[\"ARG\"][\"pop\"], # THE NEW PART HERE! \n",
    "            alpha= 0.65,\n",
    "            color = \"red\") # Then this last command specifies how dark or light the bubbles are...\n",
    "\n",
    "\n",
    "ax.set_title(\"2005 GDP Per Person vs. Human Capital\")\n",
    "ax.set_ylabel(\"Log Human Capital\") \n",
    "ax.set_xlabel(\"GDP Per Person, PPP 2005 Dollars\")\n",
    "\n",
    "xlabel_list = np.exp(range(5,13)) # Now creat the list of lables by converting 5,6,etc. to levels\n",
    "                                  # by taking exp.\n",
    "xlabel_list = np.round(xlabel_list,-2) # Then round it so it looks nice.\n",
    "\n",
    "\n",
    "ax.set_xticklabels(xlabel_list) # Then set the xtick labels.\n",
    "\n",
    "ax.spines[\"right\"].set_visible(False)\n",
    "ax.spines[\"top\"].set_visible(False)\n",
    "\n",
    "plt.savefig(\"hc.png\", bbox_inches=\"tight\", dpi = 600)\n",
    "\n",
    "plt.show()"
   ]
  },
  {
   "cell_type": "markdown",
   "metadata": {},
   "source": [
    "### Andvanced Line Plots\n",
    "\n",
    "Lets recall our want. We want some way to illustrate how inequality has changed over time. In the histogram section, I suggested some ways (write a function using our code to create many histograms for different years, maybe make a move out of it). I'm going to suggest another approach which is to use a line plot that plots statistics from the income distribution over time. \n",
    "\n",
    "Ok, let me first try the most naive thing possible..."
   ]
  },
  {
   "cell_type": "code",
   "execution_count": 28,
   "metadata": {},
   "outputs": [
    {
     "data": {
      "image/png": "[encoded data removed]",
      "text/plain": [
       "<matplotlib.figure.Figure at 0x13b085588>"
      ]
     },
     "metadata": {},
     "output_type": "display_data"
    }
   ],
   "source": [
    "fig, ax = plt.subplots() # Our standard thing.\n",
    "\n",
    "#pwt.set_index(\"year\").gdp_pop.plot(ax = ax)\n",
    "\n",
    "# Here is another way to create a plot and spcify the x and y axis\n",
    "# so the year vs. log gdp per person....\n",
    "\n",
    "ax.plot(pwt.year, np.log(pwt.gdp_pop)) \n",
    "\n",
    "plt.show()\n"
   ]
  },
  {
   "cell_type": "markdown",
   "metadata": {},
   "source": [
    "This is not great. Not as bad as the bar chart, but hard to see what is going on. The issue is that, like the histogram, we don't really need all the detail of every single individual country, but just some statistics about the distribution over time. \n",
    "\n",
    "So how do we do this...compute statistics about the distribution over time. Sounds easier said than done. But it is easy...we can use the `groupby` method for pandas dataframe to \"group\" the data set by a specifiec characteristic. So what we can do is group by the year, then compute something. Lets first check it out"
   ]
  },
  {
   "cell_type": "code",
   "execution_count": 29,
   "metadata": {
    "collapsed": true
   },
   "outputs": [],
   "source": [
    "#pd.groupby? # Check this out, the key thing is that you can apply a transformation to the group."
   ]
  },
  {
   "cell_type": "code",
   "execution_count": 30,
   "metadata": {},
   "outputs": [
    {
     "name": "stdout",
     "output_type": "stream",
     "text": [
      "      GDP  INV\n",
      "Year          \n",
      "2010    3   22\n",
      "2011    7   27\n",
      "      GDP   INV\n",
      "Year           \n",
      "2010  1.5  11.0\n",
      "2011  3.5  13.5\n"
     ]
    }
   ],
   "source": [
    "# Here is an example to get a handle on this:\n",
    "\n",
    "data_ex = {\"Year\": [2010,2010,2011,2011],\n",
    "            \"GDP\": [1 , 2 , 3, 4],\n",
    "            \"INV\": [10, 12, 13, 14],\n",
    "            \"CNT\": [\"USA\", \"ARG\", \"USA\", \"ARG\"]}\n",
    "\n",
    "weo  = pd.DataFrame(data_ex)\n",
    "\n",
    "print(weo.groupby(\"Year\").sum())\n",
    "print(weo.groupby(\"Year\").mean())\n",
    "\n",
    "# This saying take the data frame, form a group by individual\n",
    "# years, then sum accross the group. "
   ]
  },
  {
   "cell_type": "markdown",
   "metadata": {},
   "source": [
    "Do you see what it is doing? If not, do the calculations by hand, so sum GDP across countries for a given year... 3 and 7. Note that this simplified our life dramatically. Very powerfull tool, we will see it again. "
   ]
  },
  {
   "cell_type": "code",
   "execution_count": 31,
   "metadata": {},
   "outputs": [
    {
     "data": {
      "text/html": [
       "<div>\n",
       "<style scoped>\n",
       "    .dataframe tbody tr th:only-of-type {\n",
       "        vertical-align: middle;\n",
       "    }\n",
       "\n",
       "    .dataframe tbody tr th {\n",
       "        vertical-align: top;\n",
       "    }\n",
       "\n",
       "    .dataframe thead th {\n",
       "        text-align: right;\n",
       "    }\n",
       "</style>\n",
       "<table border=\"1\" class=\"dataframe\">\n",
       "  <thead>\n",
       "    <tr style=\"text-align: right;\">\n",
       "      <th></th>\n",
       "      <th>rgdpe</th>\n",
       "      <th>rgdpo</th>\n",
       "      <th>pop</th>\n",
       "      <th>emp</th>\n",
       "      <th>avh</th>\n",
       "      <th>hc</th>\n",
       "      <th>ccon</th>\n",
       "      <th>cda</th>\n",
       "      <th>cgdpe</th>\n",
       "      <th>cgdpo</th>\n",
       "      <th>...</th>\n",
       "      <th>csh_x</th>\n",
       "      <th>csh_m</th>\n",
       "      <th>csh_r</th>\n",
       "      <th>pl_c</th>\n",
       "      <th>pl_i</th>\n",
       "      <th>pl_g</th>\n",
       "      <th>pl_x</th>\n",
       "      <th>pl_m</th>\n",
       "      <th>pl_k</th>\n",
       "      <th>gdp_pop</th>\n",
       "    </tr>\n",
       "    <tr>\n",
       "      <th>year</th>\n",
       "      <th></th>\n",
       "      <th></th>\n",
       "      <th></th>\n",
       "      <th></th>\n",
       "      <th></th>\n",
       "      <th></th>\n",
       "      <th></th>\n",
       "      <th></th>\n",
       "      <th></th>\n",
       "      <th></th>\n",
       "      <th></th>\n",
       "      <th></th>\n",
       "      <th></th>\n",
       "      <th></th>\n",
       "      <th></th>\n",
       "      <th></th>\n",
       "      <th></th>\n",
       "      <th></th>\n",
       "      <th></th>\n",
       "      <th></th>\n",
       "      <th></th>\n",
       "    </tr>\n",
       "  </thead>\n",
       "  <tbody>\n",
       "    <tr>\n",
       "      <th>1950</th>\n",
       "      <td>5.014667e+06</td>\n",
       "      <td>4.908737e+06</td>\n",
       "      <td>1296.746801</td>\n",
       "      <td>484.469860</td>\n",
       "      <td>61944.07</td>\n",
       "      <td>90.082293</td>\n",
       "      <td>3.994109e+06</td>\n",
       "      <td>5.004462e+06</td>\n",
       "      <td>4.931051e+06</td>\n",
       "      <td>4.929584e+06</td>\n",
       "      <td>...</td>\n",
       "      <td>7.405365</td>\n",
       "      <td>-8.674728</td>\n",
       "      <td>0.610543</td>\n",
       "      <td>5.908077</td>\n",
       "      <td>7.624635</td>\n",
       "      <td>5.288303</td>\n",
       "      <td>6.445736</td>\n",
       "      <td>6.757870</td>\n",
       "      <td>9.420410</td>\n",
       "      <td>230721.828181</td>\n",
       "    </tr>\n",
       "    <tr>\n",
       "      <th>1951</th>\n",
       "      <td>5.385329e+06</td>\n",
       "      <td>5.295959e+06</td>\n",
       "      <td>1345.008969</td>\n",
       "      <td>506.409950</td>\n",
       "      <td>66639.90</td>\n",
       "      <td>98.858461</td>\n",
       "      <td>4.283024e+06</td>\n",
       "      <td>5.429752e+06</td>\n",
       "      <td>5.340729e+06</td>\n",
       "      <td>5.339763e+06</td>\n",
       "      <td>...</td>\n",
       "      <td>8.889592</td>\n",
       "      <td>-11.369531</td>\n",
       "      <td>0.687102</td>\n",
       "      <td>7.141505</td>\n",
       "      <td>9.093047</td>\n",
       "      <td>6.046222</td>\n",
       "      <td>8.133446</td>\n",
       "      <td>7.680655</td>\n",
       "      <td>11.457609</td>\n",
       "      <td>251916.878721</td>\n",
       "    </tr>\n",
       "    <tr>\n",
       "      <th>1952</th>\n",
       "      <td>5.993972e+06</td>\n",
       "      <td>5.885006e+06</td>\n",
       "      <td>1928.857668</td>\n",
       "      <td>519.011552</td>\n",
       "      <td>66348.91</td>\n",
       "      <td>100.715983</td>\n",
       "      <td>4.886979e+06</td>\n",
       "      <td>6.036498e+06</td>\n",
       "      <td>5.982592e+06</td>\n",
       "      <td>5.981948e+06</td>\n",
       "      <td>...</td>\n",
       "      <td>8.511407</td>\n",
       "      <td>-10.232547</td>\n",
       "      <td>0.482474</td>\n",
       "      <td>7.535922</td>\n",
       "      <td>9.398979</td>\n",
       "      <td>6.625940</td>\n",
       "      <td>8.361917</td>\n",
       "      <td>8.408555</td>\n",
       "      <td>12.087506</td>\n",
       "      <td>256131.141842</td>\n",
       "    </tr>\n",
       "    <tr>\n",
       "      <th>1953</th>\n",
       "      <td>6.352074e+06</td>\n",
       "      <td>6.220889e+06</td>\n",
       "      <td>1984.244436</td>\n",
       "      <td>529.146868</td>\n",
       "      <td>66079.86</td>\n",
       "      <td>104.830062</td>\n",
       "      <td>5.193649e+06</td>\n",
       "      <td>6.415106e+06</td>\n",
       "      <td>6.349610e+06</td>\n",
       "      <td>6.349626e+06</td>\n",
       "      <td>...</td>\n",
       "      <td>8.300235</td>\n",
       "      <td>-9.903016</td>\n",
       "      <td>0.312889</td>\n",
       "      <td>7.671987</td>\n",
       "      <td>9.688008</td>\n",
       "      <td>6.829755</td>\n",
       "      <td>8.445246</td>\n",
       "      <td>8.542733</td>\n",
       "      <td>12.196046</td>\n",
       "      <td>266566.496470</td>\n",
       "    </tr>\n",
       "    <tr>\n",
       "      <th>1954</th>\n",
       "      <td>6.569642e+06</td>\n",
       "      <td>6.431537e+06</td>\n",
       "      <td>2027.174448</td>\n",
       "      <td>537.364491</td>\n",
       "      <td>65903.90</td>\n",
       "      <td>110.846821</td>\n",
       "      <td>5.327463e+06</td>\n",
       "      <td>6.610139e+06</td>\n",
       "      <td>6.542210e+06</td>\n",
       "      <td>6.542107e+06</td>\n",
       "      <td>...</td>\n",
       "      <td>9.508178</td>\n",
       "      <td>-26.308917</td>\n",
       "      <td>0.755197</td>\n",
       "      <td>8.259388</td>\n",
       "      <td>10.217864</td>\n",
       "      <td>7.395700</td>\n",
       "      <td>9.258038</td>\n",
       "      <td>8.959821</td>\n",
       "      <td>12.818933</td>\n",
       "      <td>283867.933293</td>\n",
       "    </tr>\n",
       "  </tbody>\n",
       "</table>\n",
       "<p>5 rows × 40 columns</p>\n",
       "</div>"
      ],
      "text/plain": [
       "             rgdpe         rgdpo          pop         emp       avh  \\\n",
       "year                                                                  \n",
       "1950  5.014667e+06  4.908737e+06  1296.746801  484.469860  61944.07   \n",
       "1951  5.385329e+06  5.295959e+06  1345.008969  506.409950  66639.90   \n",
       "1952  5.993972e+06  5.885006e+06  1928.857668  519.011552  66348.91   \n",
       "1953  6.352074e+06  6.220889e+06  1984.244436  529.146868  66079.86   \n",
       "1954  6.569642e+06  6.431537e+06  2027.174448  537.364491  65903.90   \n",
       "\n",
       "              hc          ccon           cda         cgdpe         cgdpo  \\\n",
       "year                                                                       \n",
       "1950   90.082293  3.994109e+06  5.004462e+06  4.931051e+06  4.929584e+06   \n",
       "1951   98.858461  4.283024e+06  5.429752e+06  5.340729e+06  5.339763e+06   \n",
       "1952  100.715983  4.886979e+06  6.036498e+06  5.982592e+06  5.981948e+06   \n",
       "1953  104.830062  5.193649e+06  6.415106e+06  6.349610e+06  6.349626e+06   \n",
       "1954  110.846821  5.327463e+06  6.610139e+06  6.542210e+06  6.542107e+06   \n",
       "\n",
       "          ...           csh_x      csh_m     csh_r      pl_c       pl_i  \\\n",
       "year      ...                                                             \n",
       "1950      ...        7.405365  -8.674728  0.610543  5.908077   7.624635   \n",
       "1951      ...        8.889592 -11.369531  0.687102  7.141505   9.093047   \n",
       "1952      ...        8.511407 -10.232547  0.482474  7.535922   9.398979   \n",
       "1953      ...        8.300235  -9.903016  0.312889  7.671987   9.688008   \n",
       "1954      ...        9.508178 -26.308917  0.755197  8.259388  10.217864   \n",
       "\n",
       "          pl_g      pl_x      pl_m       pl_k        gdp_pop  \n",
       "year                                                          \n",
       "1950  5.288303  6.445736  6.757870   9.420410  230721.828181  \n",
       "1951  6.046222  8.133446  7.680655  11.457609  251916.878721  \n",
       "1952  6.625940  8.361917  8.408555  12.087506  256131.141842  \n",
       "1953  6.829755  8.445246  8.542733  12.196046  266566.496470  \n",
       "1954  7.395700  9.258038  8.959821  12.818933  283867.933293  \n",
       "\n",
       "[5 rows x 40 columns]"
      ]
     },
     "execution_count": 31,
     "metadata": {},
     "output_type": "execute_result"
    }
   ],
   "source": [
    "# Here it is for our data set.\n",
    "\n",
    "testgb = pwt.groupby(\"year\").sum()\n",
    "\n",
    "testgb.head()"
   ]
  },
  {
   "cell_type": "markdown",
   "metadata": {},
   "source": [
    "Ok, so note what is going on here. This is grouping stuff by the year and then computing the mean of all varibles for that year (where that mean is taken over the dimension within a year, in this case the country). Make sense? **Try out `.sum()` or `.median()` and see what happens.**\n",
    "\n",
    "Once we figured out this `groupby` command, we can now use this to satisfy our wants, i.e. a statistics of the distribution by year and plot it."
   ]
  },
  {
   "cell_type": "code",
   "execution_count": 32,
   "metadata": {},
   "outputs": [
    {
     "data": {
      "image/png": "[encoded data removed]",
      "text/plain": [
       "<matplotlib.figure.Figure at 0x139492da0>"
      ]
     },
     "metadata": {},
     "output_type": "display_data"
    }
   ],
   "source": [
    "avg = pwt.groupby(\"year\").gdp_pop.median() # This will compute the median, across countries, within a year\n",
    "\n",
    "fig, ax  = plt.subplots()\n",
    "\n",
    "avg.plot(ax = ax)\n",
    "\n",
    "plt.show()"
   ]
  },
  {
   "cell_type": "markdown",
   "metadata": {},
   "source": [
    "No bad. Again, this is displying how median, income per person has changed over time. Now I want to make this a lot fancier, but illustrating the exremes..."
   ]
  },
  {
   "cell_type": "code",
   "execution_count": 33,
   "metadata": {
    "scrolled": false
   },
   "outputs": [
    {
     "data": {
      "image/png": "[encoded data removed]",
      "text/plain": [
       "<matplotlib.figure.Figure at 0x13ae8d7b8>"
      ]
     },
     "metadata": {},
     "output_type": "display_data"
    }
   ],
   "source": [
    "med = np.log(pwt.groupby(\"year\").gdp_pop.median()) # This will compute the median, across countries, within a year\n",
    "q90 = np.log(pwt.groupby(\"year\").gdp_pop.quantile(0.90)) # This is going to compute the 90th percentile\n",
    "q10 = np.log(pwt.groupby(\"year\").gdp_pop.quantile(0.10)) # This is going to compute teh 10th percentile\n",
    "\n",
    "# I'm doing this in logs for lots of reasons, try it without...\n",
    "\n",
    "fig, ax  = plt.subplots()\n",
    "\n",
    "med.plot(ax = ax)\n",
    "\n",
    "q90.plot(ax = ax)\n",
    "\n",
    "q10.plot(ax = ax)\n",
    "\n",
    "plt.show()\n",
    "\n",
    "#ax.fill_between(med.index, q10, q90, color = \"b\")\n"
   ]
  },
  {
   "cell_type": "markdown",
   "metadata": {},
   "source": [
    "This is ok. The middle part is the median and now we have the upper and lower bands. Let make this a lot sexier..."
   ]
  },
  {
   "cell_type": "code",
   "execution_count": 36,
   "metadata": {},
   "outputs": [
    {
     "data": {
      "image/png": "[encoded data removed]",
      "text/plain": [
       "<matplotlib.figure.Figure at 0x1395340f0>"
      ]
     },
     "metadata": {},
     "output_type": "display_data"
    }
   ],
   "source": [
    "fig, ax  = plt.subplots()\n",
    "\n",
    "med.plot(ax = ax, color = \"white\", lw = 3, figsize = (7,5))\n",
    "\n",
    "ax.fill_between(med.index, q10, q90, color = \"#3F5D7D\", alpha = 0.5) \n",
    "# This is the new option, we specify the x-axis, in this case the index,\n",
    "# color in the areas between the bottom q10\n",
    "# and the top, q90. Then I got this color from Randy olson blog, I like it.\n",
    "\n",
    "ax.spines[\"right\"].set_visible(False)\n",
    "ax.spines[\"top\"].set_visible(False)\n",
    "\n",
    "ax.set_yticks(range(5,12))\n",
    "# This sets the yticks so we can see center the graph in the middle\n",
    "\n",
    "y_label_list = np.exp(range(5,12))\n",
    "y_label_list = np.round(y_label_list,-2)\n",
    "\n",
    "ax.set_yticklabels(y_label_list)\n",
    "# This process above generates informative labels for the y-axis\n",
    "# so its not in log units, but in dollars\n",
    "\n",
    "ax.set_title(\"Global Income Inequality\\n\") \n",
    "ax.set_ylabel(\"GDP Per Person, PPP 2005 Dollars\")\n",
    "ax.set_xlabel(\"Year\")\n",
    "\n",
    "ax.text(1960, 3.75, \"Data Source: Penn World Table 8.1, \" \n",
    "        \"http://www.rug.nl/ggdc/docs/pwt81.xlsx\", fontsize = 8)\n",
    "\n",
    "# Then, lets put a footnote saying where we got the data from. \n",
    "# This is a nice touch. \n",
    "\n",
    "\n",
    "plt.show()\n"
   ]
  },
  {
   "cell_type": "markdown",
   "metadata": {},
   "source": [
    "**WOW** This looks awesome!!! I'm going to add one more thing, suppose we want to know about one countries experince (relative to everybody else), then lets add their specific time series"
   ]
  },
  {
   "cell_type": "code",
   "execution_count": 38,
   "metadata": {
    "scrolled": false
   },
   "outputs": [
    {
     "data": {
      "image/png": "[encoded data removed]",
      "text/plain": [
       "<matplotlib.figure.Figure at 0x13ac41320>"
      ]
     },
     "metadata": {},
     "output_type": "display_data"
    }
   ],
   "source": [
    "fig, ax  = plt.subplots()\n",
    "\n",
    "med.plot(ax = ax, color = \"white\", lw = 3, figsize = (7,5))\n",
    "\n",
    "ax.fill_between(med.index, q10, q90, color = \"#3F5D7D\", alpha = 0.5) \n",
    "# This is the new option, we specify the x-axis, in this case the index,\n",
    "# color in the areas between the bottom q10\n",
    "# and the top, q90. Then I got this color from Randy olson blog, I like it.\n",
    "\n",
    "ax.spines[\"right\"].set_visible(False)\n",
    "ax.spines[\"top\"].set_visible(False)\n",
    "\n",
    "###############################################################\n",
    "# This is the new part\n",
    "\n",
    "ax.plot(med.index, np.log(pwt[pwt.countrycode == \"KOR\"].gdp_pop), color = 'r', lw = 3)\n",
    "\n",
    "# just plot on top, the x-axis, Korea's GDP per person, color, line width...\n",
    "\n",
    "###############################################################\n",
    "\n",
    "ax.set_yticks(range(5,12))\n",
    "ax.set_xlim(1950,2012)\n",
    "# This sets the yticks so we can see center the graph in the middle\n",
    "\n",
    "y_label_list = np.exp(range(5,12))\n",
    "y_label_list = np.round(y_label_list,-2)\n",
    "\n",
    "ax.set_yticklabels(y_label_list)\n",
    "# This process above generates informative labels for the y-axis\n",
    "# so its not in log units, but in dollars\n",
    "\n",
    "ax.set_title(\"Global Income Inequality\\n\") \n",
    "ax.set_ylabel(\"GDP Per Person, PPP 2005 Dollars\")\n",
    "ax.set_xlabel(\"Year\")\n",
    "\n",
    "ax.text(1960, 3.75, \"Data Source: Penn World Table 8.1, \" \n",
    "        \"http://www.rug.nl/ggdc/docs/pwt81.xlsx\", fontsize = 8)\n",
    "\n",
    "plt.show()"
   ]
  },
  {
   "cell_type": "markdown",
   "metadata": {},
   "source": [
    "This is really cool. **Try some other countries, e.g. China or Argentina or someplace that you have experince with**\n",
    "\n",
    "What more would you like to see? We might want to lable the lines, I don't think a legend would look good, but some other approach, what do you think?\n",
    "\n",
    "Some substantive takeaways.\n",
    "\n",
    "- Broadly, I would say that the median countrie has experinced growth over the last 50 years.\n",
    "- But cross-country income inequality has increased. Note that the 90/10 difference in 1950 was about 8 (about 8,000/1000). Then in 2010, it is about (30000/1500), so call it 30. The one caveat is that a lot of poor countries show up in the data set right at 1960 (this is part of the reason there is the dip down at that point).\n",
    "- But there have been amazing growth experinces, e.g. Kora was at the very bottom, then by 2010 its close to the 90th percentil. Very amazing illustration of their relative movement in the income distribution."
   ]
  },
  {
   "cell_type": "markdown",
   "metadata": {},
   "source": [
    "### Styles\n",
    "\n",
    "The book talks about this. You should explore it for your self insert the following code above:\n",
    "`plt.style.use('ggplot')` and see what happens. Try these styles `ggplot`, `bmh`, `dark_background`, and `grayscale`. Then to reset everthing do this `plt.rcParams.update(plt.rcParamsDefault)`"
   ]
  },
  {
   "cell_type": "code",
   "execution_count": 43,
   "metadata": {},
   "outputs": [
    {
     "data": {
      "image/png": "[encoded data removed]",
      "text/plain": [
       "<matplotlib.figure.Figure at 0x13ae3f0f0>"
      ]
     },
     "metadata": {},
     "output_type": "display_data"
    }
   ],
   "source": [
    "plt.style.use('dark_background')\n",
    "#plt.xkcd()\n",
    "# Here are some styles to trr\n",
    "# 'fivethirtyeight' ,ggplot, bmh, dark_background, and grayscale\n",
    "\n",
    "fig, ax  = plt.subplots()\n",
    "\n",
    "med.plot(ax = ax, color = \"white\", lw = 3, figsize = (7,5))\n",
    "\n",
    "ax.fill_between(med.index, q10, q90, color = \"#3F5D7D\", alpha = 0.5) \n",
    "# This is the new option, we specify the x-axis, in this case the index,\n",
    "# color in the areas between the bottom q10\n",
    "# and the top, q90. Then I got this color from Randy olson blog, I like it.\n",
    "\n",
    "ax.spines[\"right\"].set_visible(False)\n",
    "ax.spines[\"top\"].set_visible(False)\n",
    "\n",
    "###############################################################\n",
    "# This is the new part\n",
    "\n",
    "ax.plot(med.index, np.log(pwt[pwt.countrycode == \"KOR\"].gdp_pop), color = 'r', lw = 3)\n",
    "\n",
    "# just plot on top, the x-axis, Korea's GDP per person, color, line width...\n",
    "\n",
    "###############################################################\n",
    "\n",
    "ax.set_yticks(range(5,12))\n",
    "ax.set_xlim(1950,2012)\n",
    "# This sets the yticks so we can see center the graph in the middle\n",
    "\n",
    "y_label_list = np.exp(range(5,12))\n",
    "y_label_list = np.round(y_label_list,-2)\n",
    "\n",
    "ax.set_yticklabels(y_label_list)\n",
    "# This process above generates informative labels for the y-axis\n",
    "# so its not in log units, but in dollars\n",
    "\n",
    "ax.set_title(\"Global Income Inequality\\n\") \n",
    "ax.set_ylabel(\"GDP Per Person, PPP 2005 Dollars\")\n",
    "ax.set_xlabel(\"Year\")\n",
    "\n",
    "ax.text(1960, 3.75, \"Data Source: Penn World Table 8.1, \" \n",
    "        \"http://www.rug.nl/ggdc/docs/pwt81.xlsx\", fontsize = 8)\n",
    "\n",
    "plt.show()"
   ]
  },
  {
   "cell_type": "markdown",
   "metadata": {},
   "source": [
    "## Summary\n",
    "\n",
    "Ok, so what have we learned...\n",
    "- Histograms\n",
    "- Some data wrangeling skills like seting the index in a smart way, the  `isin` command, the `groupby` command.\n",
    "- Bar charts \n",
    "- Fancy scatter plots (and the value of logorithims)\n",
    "- Fancy line plots with `fill_between` to illustrate both cross-sectional and time-series variation.\n",
    "\n",
    "And did it all on an interesting data set. Substantivly, we learned about the vast differences in living standards across countries. How they have changed over time. And how humand capital (i.e. education) strongly relate to the differences. Deep question, does human capital determine income level or does income level determine human capital?"
   ]
  }
 ],
 "metadata": {
  "anaconda-cloud": {},
  "hide_input": false,
  "kernelspec": {
   "display_name": "Python 3",
   "language": "python",
   "name": "python3"
  },
  "language_info": {
   "codemirror_mode": {
    "name": "ipython",
    "version": 3
   },
   "file_extension": ".py",
   "mimetype": "text/x-python",
   "name": "python",
   "nbconvert_exporter": "python",
   "pygments_lexer": "ipython3",
   "version": "3.7.1"
  }
 },
 "nbformat": 4,
 "nbformat_minor": 2
}
