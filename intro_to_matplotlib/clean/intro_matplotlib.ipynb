{
 "cells": [
  {
   "cell_type": "markdown",
   "metadata": {},
   "source": [
    "### Intro to Matplotlib (Line Plots and Scatter Plots)\n",
    "This is my notebook as an intro to Matplotlib (and juypter notebooks). Be sure to read the chapter [**Python Graphics.**](https://nyudatabootcamp.gitbooks.io/data-bootcamp/content/graphs1.html) \n",
    "\n",
    "I'm going to organize this lecture around the question **How does GDP and it's expenditure componenets co-move?** I'll set it up like a mini-project...we will practice previous skills to downlad and manipulate the data, then we will learn about ploting the data (and doing so in a way to explore how GDP and its expenditure componenets move). \n",
    "\n",
    "In this notebook, we will learn how to (i) generate the `fig` and `ax` of a figure and then (ii) use the methods associated with thoes objects to manipulate the properties of the figure to make it informative and nice looking. \n"
   ]
  },
  {
   "cell_type": "code",
   "execution_count": 1,
   "metadata": {},
   "outputs": [],
   "source": [
    "import pandas as pd                 # Our pandas package\n",
    "from pandas_datareader import data  # This is will give us access to FRED\n",
    "import datetime as dt               # This will get us the datatime package\n",
    "import matplotlib.pyplot as plt     # The new package we are learning about Matplotlib\n",
    "                                    # pyplot is just one module of many in this library\n",
    "\n",
    "%matplotlib inline \n",
    "# This line tells jupyter to plot the graphs within the notebook"
   ]
  },
  {
   "cell_type": "markdown",
   "metadata": {},
   "source": [
    "The data the we will use today is from FRED (the data repository hosted by the Federal Reserve Bank of St. Louis) and I downloaded it using their API (more on this later).\n",
    "\n",
    "This will contain the basic expenditure components of GDP along with some check that I made of the data. (We will practice droping this stuff). But lets read in the data. I have the excel sheet hosted in my github repository...."
   ]
  },
  {
   "cell_type": "code",
   "execution_count": 18,
   "metadata": {},
   "outputs": [],
   "source": [
    "data_url = \"https://github.com/mwaugh0328/data_bootcamp_spring_2019/raw/master/intro_to_matplotlib/clean/usgdp_data.xlsx\""
   ]
  },
  {
   "cell_type": "code",
   "execution_count": 19,
   "metadata": {},
   "outputs": [],
   "source": [
    "usdata = pd.read_excel(data_url, index_col = [0])"
   ]
  },
  {
   "cell_type": "code",
   "execution_count": 20,
   "metadata": {},
   "outputs": [
    {
     "data": {
      "text/html": [
       "<div>\n",
       "<style scoped>\n",
       "    .dataframe tbody tr th:only-of-type {\n",
       "        vertical-align: middle;\n",
       "    }\n",
       "\n",
       "    .dataframe tbody tr th {\n",
       "        vertical-align: top;\n",
       "    }\n",
       "\n",
       "    .dataframe thead th {\n",
       "        text-align: right;\n",
       "    }\n",
       "</style>\n",
       "<table border=\"1\" class=\"dataframe\">\n",
       "  <thead>\n",
       "    <tr style=\"text-align: right;\">\n",
       "      <th></th>\n",
       "      <th>gdp</th>\n",
       "      <th>cons</th>\n",
       "      <th>invs</th>\n",
       "      <th>gov</th>\n",
       "      <th>exp</th>\n",
       "      <th>imp</th>\n",
       "      <th>nx</th>\n",
       "      <th>cons_share</th>\n",
       "      <th>stat_des</th>\n",
       "    </tr>\n",
       "    <tr>\n",
       "      <th>DATE</th>\n",
       "      <th></th>\n",
       "      <th></th>\n",
       "      <th></th>\n",
       "      <th></th>\n",
       "      <th></th>\n",
       "      <th></th>\n",
       "      <th></th>\n",
       "      <th></th>\n",
       "      <th></th>\n",
       "    </tr>\n",
       "  </thead>\n",
       "  <tbody>\n",
       "    <tr>\n",
       "      <th>2000-01-01</th>\n",
       "      <td>12924.179</td>\n",
       "      <td>8520.710</td>\n",
       "      <td>2257.109</td>\n",
       "      <td>2645.393</td>\n",
       "      <td>1337.203</td>\n",
       "      <td>1853.884</td>\n",
       "      <td>-516.681</td>\n",
       "      <td>0.659284</td>\n",
       "      <td>0.001366</td>\n",
       "    </tr>\n",
       "    <tr>\n",
       "      <th>2000-04-01</th>\n",
       "      <td>13160.842</td>\n",
       "      <td>8603.007</td>\n",
       "      <td>2390.733</td>\n",
       "      <td>2671.254</td>\n",
       "      <td>1375.203</td>\n",
       "      <td>1911.437</td>\n",
       "      <td>-536.234</td>\n",
       "      <td>0.653682</td>\n",
       "      <td>0.002438</td>\n",
       "    </tr>\n",
       "    <tr>\n",
       "      <th>2000-07-01</th>\n",
       "      <td>13178.419</td>\n",
       "      <td>8687.485</td>\n",
       "      <td>2367.274</td>\n",
       "      <td>2659.687</td>\n",
       "      <td>1408.783</td>\n",
       "      <td>1978.137</td>\n",
       "      <td>-569.354</td>\n",
       "      <td>0.659221</td>\n",
       "      <td>0.002529</td>\n",
       "    </tr>\n",
       "    <tr>\n",
       "      <th>2000-10-01</th>\n",
       "      <td>13260.506</td>\n",
       "      <td>8762.205</td>\n",
       "      <td>2371.809</td>\n",
       "      <td>2675.695</td>\n",
       "      <td>1396.844</td>\n",
       "      <td>1977.750</td>\n",
       "      <td>-580.906</td>\n",
       "      <td>0.660775</td>\n",
       "      <td>0.002391</td>\n",
       "    </tr>\n",
       "    <tr>\n",
       "      <th>2001-01-01</th>\n",
       "      <td>13222.690</td>\n",
       "      <td>8797.280</td>\n",
       "      <td>2264.202</td>\n",
       "      <td>2716.773</td>\n",
       "      <td>1376.171</td>\n",
       "      <td>1946.136</td>\n",
       "      <td>-569.965</td>\n",
       "      <td>0.665317</td>\n",
       "      <td>0.001089</td>\n",
       "    </tr>\n",
       "  </tbody>\n",
       "</table>\n",
       "</div>"
      ],
      "text/plain": [
       "                  gdp      cons      invs       gov       exp       imp  \\\n",
       "DATE                                                                      \n",
       "2000-01-01  12924.179  8520.710  2257.109  2645.393  1337.203  1853.884   \n",
       "2000-04-01  13160.842  8603.007  2390.733  2671.254  1375.203  1911.437   \n",
       "2000-07-01  13178.419  8687.485  2367.274  2659.687  1408.783  1978.137   \n",
       "2000-10-01  13260.506  8762.205  2371.809  2675.695  1396.844  1977.750   \n",
       "2001-01-01  13222.690  8797.280  2264.202  2716.773  1376.171  1946.136   \n",
       "\n",
       "                 nx  cons_share  stat_des  \n",
       "DATE                                       \n",
       "2000-01-01 -516.681    0.659284  0.001366  \n",
       "2000-04-01 -536.234    0.653682  0.002438  \n",
       "2000-07-01 -569.354    0.659221  0.002529  \n",
       "2000-10-01 -580.906    0.660775  0.002391  \n",
       "2001-01-01 -569.965    0.665317  0.001089  "
      ]
     },
     "execution_count": 20,
     "metadata": {},
     "output_type": "execute_result"
    }
   ],
   "source": [
    "usdata.head()"
   ]
  },
  {
   "cell_type": "code",
   "execution_count": 21,
   "metadata": {},
   "outputs": [
    {
     "data": {
      "text/html": [
       "<div>\n",
       "<style scoped>\n",
       "    .dataframe tbody tr th:only-of-type {\n",
       "        vertical-align: middle;\n",
       "    }\n",
       "\n",
       "    .dataframe tbody tr th {\n",
       "        vertical-align: top;\n",
       "    }\n",
       "\n",
       "    .dataframe thead th {\n",
       "        text-align: right;\n",
       "    }\n",
       "</style>\n",
       "<table border=\"1\" class=\"dataframe\">\n",
       "  <thead>\n",
       "    <tr style=\"text-align: right;\">\n",
       "      <th></th>\n",
       "      <th>gdp</th>\n",
       "      <th>cons</th>\n",
       "      <th>invs</th>\n",
       "      <th>gov</th>\n",
       "      <th>exp</th>\n",
       "      <th>imp</th>\n",
       "      <th>nx</th>\n",
       "      <th>cons_share</th>\n",
       "      <th>stat_des</th>\n",
       "    </tr>\n",
       "    <tr>\n",
       "      <th>DATE</th>\n",
       "      <th></th>\n",
       "      <th></th>\n",
       "      <th></th>\n",
       "      <th></th>\n",
       "      <th></th>\n",
       "      <th></th>\n",
       "      <th></th>\n",
       "      <th></th>\n",
       "      <th></th>\n",
       "    </tr>\n",
       "  </thead>\n",
       "  <tbody>\n",
       "    <tr>\n",
       "      <th>2017-10-01</th>\n",
       "      <td>18223.758</td>\n",
       "      <td>12706.369</td>\n",
       "      <td>3246.036</td>\n",
       "      <td>3140.157</td>\n",
       "      <td>2495.874</td>\n",
       "      <td>3395.120</td>\n",
       "      <td>-899.246</td>\n",
       "      <td>0.697242</td>\n",
       "      <td>0.001670</td>\n",
       "    </tr>\n",
       "    <tr>\n",
       "      <th>2018-01-01</th>\n",
       "      <td>18323.963</td>\n",
       "      <td>12722.839</td>\n",
       "      <td>3321.028</td>\n",
       "      <td>3152.191</td>\n",
       "      <td>2517.765</td>\n",
       "      <td>3420.127</td>\n",
       "      <td>-902.362</td>\n",
       "      <td>0.694328</td>\n",
       "      <td>0.001652</td>\n",
       "    </tr>\n",
       "    <tr>\n",
       "      <th>2018-04-01</th>\n",
       "      <td>18511.576</td>\n",
       "      <td>12842.022</td>\n",
       "      <td>3316.718</td>\n",
       "      <td>3171.810</td>\n",
       "      <td>2574.245</td>\n",
       "      <td>3415.210</td>\n",
       "      <td>-840.965</td>\n",
       "      <td>0.693729</td>\n",
       "      <td>0.001188</td>\n",
       "    </tr>\n",
       "    <tr>\n",
       "      <th>2018-07-01</th>\n",
       "      <td>18664.973</td>\n",
       "      <td>12953.291</td>\n",
       "      <td>3436.167</td>\n",
       "      <td>3192.005</td>\n",
       "      <td>2542.227</td>\n",
       "      <td>3491.901</td>\n",
       "      <td>-949.674</td>\n",
       "      <td>0.693989</td>\n",
       "      <td>0.001778</td>\n",
       "    </tr>\n",
       "    <tr>\n",
       "      <th>2018-10-01</th>\n",
       "      <td>18784.632</td>\n",
       "      <td>13044.246</td>\n",
       "      <td>3474.724</td>\n",
       "      <td>3195.334</td>\n",
       "      <td>2552.037</td>\n",
       "      <td>3515.249</td>\n",
       "      <td>-963.212</td>\n",
       "      <td>0.694411</td>\n",
       "      <td>0.001786</td>\n",
       "    </tr>\n",
       "  </tbody>\n",
       "</table>\n",
       "</div>"
      ],
      "text/plain": [
       "                  gdp       cons      invs       gov       exp       imp  \\\n",
       "DATE                                                                       \n",
       "2017-10-01  18223.758  12706.369  3246.036  3140.157  2495.874  3395.120   \n",
       "2018-01-01  18323.963  12722.839  3321.028  3152.191  2517.765  3420.127   \n",
       "2018-04-01  18511.576  12842.022  3316.718  3171.810  2574.245  3415.210   \n",
       "2018-07-01  18664.973  12953.291  3436.167  3192.005  2542.227  3491.901   \n",
       "2018-10-01  18784.632  13044.246  3474.724  3195.334  2552.037  3515.249   \n",
       "\n",
       "                 nx  cons_share  stat_des  \n",
       "DATE                                       \n",
       "2017-10-01 -899.246    0.697242  0.001670  \n",
       "2018-01-01 -902.362    0.694328  0.001652  \n",
       "2018-04-01 -840.965    0.693729  0.001188  \n",
       "2018-07-01 -949.674    0.693989  0.001778  \n",
       "2018-10-01 -963.212    0.694411  0.001786  "
      ]
     },
     "execution_count": 21,
     "metadata": {},
     "output_type": "execute_result"
    }
   ],
   "source": [
    "usdata.tail()"
   ]
  },
  {
   "cell_type": "markdown",
   "metadata": {},
   "source": [
    "These codes will give us (quarterly, seasonally adjusted) real gdp, consumption, investment, government expenditures, then net-exports. The final two columns are the share of consumption in GDP and then the statistical descrepancy. Before we do anything more, it is worth checking out the index. **What is it, what is its type?**"
   ]
  },
  {
   "cell_type": "code",
   "execution_count": 23,
   "metadata": {},
   "outputs": [
    {
     "data": {
      "text/plain": [
       "DatetimeIndex(['2000-01-01', '2000-04-01', '2000-07-01', '2000-10-01',\n",
       "               '2001-01-01', '2001-04-01', '2001-07-01', '2001-10-01',\n",
       "               '2002-01-01', '2002-04-01', '2002-07-01', '2002-10-01',\n",
       "               '2003-01-01', '2003-04-01', '2003-07-01', '2003-10-01',\n",
       "               '2004-01-01', '2004-04-01', '2004-07-01', '2004-10-01',\n",
       "               '2005-01-01', '2005-04-01', '2005-07-01', '2005-10-01',\n",
       "               '2006-01-01', '2006-04-01', '2006-07-01', '2006-10-01',\n",
       "               '2007-01-01', '2007-04-01', '2007-07-01', '2007-10-01',\n",
       "               '2008-01-01', '2008-04-01', '2008-07-01', '2008-10-01',\n",
       "               '2009-01-01', '2009-04-01', '2009-07-01', '2009-10-01',\n",
       "               '2010-01-01', '2010-04-01', '2010-07-01', '2010-10-01',\n",
       "               '2011-01-01', '2011-04-01', '2011-07-01', '2011-10-01',\n",
       "               '2012-01-01', '2012-04-01', '2012-07-01', '2012-10-01',\n",
       "               '2013-01-01', '2013-04-01', '2013-07-01', '2013-10-01',\n",
       "               '2014-01-01', '2014-04-01', '2014-07-01', '2014-10-01',\n",
       "               '2015-01-01', '2015-04-01', '2015-07-01', '2015-10-01',\n",
       "               '2016-01-01', '2016-04-01', '2016-07-01', '2016-10-01',\n",
       "               '2017-01-01', '2017-04-01', '2017-07-01', '2017-10-01',\n",
       "               '2018-01-01', '2018-04-01', '2018-07-01', '2018-10-01'],\n",
       "              dtype='datetime64[ns]', name='DATE', freq=None)"
      ]
     },
     "execution_count": 23,
     "metadata": {},
     "output_type": "execute_result"
    }
   ],
   "source": [
    "usdata.index"
   ]
  },
  {
   "cell_type": "markdown",
   "metadata": {},
   "source": [
    "This is interesting because the index is a date, but it is stored as this thing called a [\"DatatimeIndex\"](https://pandas.pydata.org/pandas-docs/stable/reference/api/pandas.DatetimeIndex.html). The key thing is that it allows us to grab stuff based on the date...\n",
    "\n",
    "Here you can use the .loc the location based indexing or just simply use the brackets. "
   ]
  },
  {
   "cell_type": "code",
   "execution_count": 36,
   "metadata": {},
   "outputs": [
    {
     "data": {
      "text/html": [
       "<div>\n",
       "<style scoped>\n",
       "    .dataframe tbody tr th:only-of-type {\n",
       "        vertical-align: middle;\n",
       "    }\n",
       "\n",
       "    .dataframe tbody tr th {\n",
       "        vertical-align: top;\n",
       "    }\n",
       "\n",
       "    .dataframe thead th {\n",
       "        text-align: right;\n",
       "    }\n",
       "</style>\n",
       "<table border=\"1\" class=\"dataframe\">\n",
       "  <thead>\n",
       "    <tr style=\"text-align: right;\">\n",
       "      <th></th>\n",
       "      <th>gdp</th>\n",
       "      <th>cons</th>\n",
       "      <th>invs</th>\n",
       "      <th>gov</th>\n",
       "      <th>exp</th>\n",
       "      <th>imp</th>\n",
       "      <th>nx</th>\n",
       "      <th>cons_share</th>\n",
       "      <th>stat_des</th>\n",
       "    </tr>\n",
       "    <tr>\n",
       "      <th>DATE</th>\n",
       "      <th></th>\n",
       "      <th></th>\n",
       "      <th></th>\n",
       "      <th></th>\n",
       "      <th></th>\n",
       "      <th></th>\n",
       "      <th></th>\n",
       "      <th></th>\n",
       "      <th></th>\n",
       "    </tr>\n",
       "  </thead>\n",
       "  <tbody>\n",
       "    <tr>\n",
       "      <th>2015-01-01</th>\n",
       "      <td>17254.744</td>\n",
       "      <td>11788.364</td>\n",
       "      <td>3096.866</td>\n",
       "      <td>3057.565</td>\n",
       "      <td>2377.687</td>\n",
       "      <td>3072.075</td>\n",
       "      <td>-694.388</td>\n",
       "      <td>0.683196</td>\n",
       "      <td>0.000367</td>\n",
       "    </tr>\n",
       "    <tr>\n",
       "      <th>2015-04-01</th>\n",
       "      <td>17397.029</td>\n",
       "      <td>11887.537</td>\n",
       "      <td>3112.431</td>\n",
       "      <td>3087.585</td>\n",
       "      <td>2400.010</td>\n",
       "      <td>3096.722</td>\n",
       "      <td>-696.712</td>\n",
       "      <td>0.683308</td>\n",
       "      <td>0.000356</td>\n",
       "    </tr>\n",
       "    <tr>\n",
       "      <th>2015-07-01</th>\n",
       "      <td>17438.802</td>\n",
       "      <td>11971.952</td>\n",
       "      <td>3102.676</td>\n",
       "      <td>3101.775</td>\n",
       "      <td>2379.000</td>\n",
       "      <td>3128.007</td>\n",
       "      <td>-749.007</td>\n",
       "      <td>0.686512</td>\n",
       "      <td>0.000654</td>\n",
       "    </tr>\n",
       "    <tr>\n",
       "      <th>2015-10-01</th>\n",
       "      <td>17456.225</td>\n",
       "      <td>12039.650</td>\n",
       "      <td>3056.879</td>\n",
       "      <td>3107.136</td>\n",
       "      <td>2365.675</td>\n",
       "      <td>3125.005</td>\n",
       "      <td>-759.330</td>\n",
       "      <td>0.689705</td>\n",
       "      <td>0.000681</td>\n",
       "    </tr>\n",
       "    <tr>\n",
       "      <th>2016-01-01</th>\n",
       "      <td>17523.374</td>\n",
       "      <td>12111.776</td>\n",
       "      <td>3042.889</td>\n",
       "      <td>3133.325</td>\n",
       "      <td>2351.097</td>\n",
       "      <td>3128.983</td>\n",
       "      <td>-777.886</td>\n",
       "      <td>0.691178</td>\n",
       "      <td>0.000757</td>\n",
       "    </tr>\n",
       "    <tr>\n",
       "      <th>2016-04-01</th>\n",
       "      <td>17622.486</td>\n",
       "      <td>12214.098</td>\n",
       "      <td>3035.190</td>\n",
       "      <td>3126.731</td>\n",
       "      <td>2370.882</td>\n",
       "      <td>3135.019</td>\n",
       "      <td>-764.137</td>\n",
       "      <td>0.693097</td>\n",
       "      <td>0.000602</td>\n",
       "    </tr>\n",
       "    <tr>\n",
       "      <th>2016-07-01</th>\n",
       "      <td>17706.705</td>\n",
       "      <td>12294.303</td>\n",
       "      <td>3032.239</td>\n",
       "      <td>3134.377</td>\n",
       "      <td>2406.373</td>\n",
       "      <td>3172.626</td>\n",
       "      <td>-766.253</td>\n",
       "      <td>0.694330</td>\n",
       "      <td>0.000680</td>\n",
       "    </tr>\n",
       "    <tr>\n",
       "      <th>2016-10-01</th>\n",
       "      <td>17784.185</td>\n",
       "      <td>12372.730</td>\n",
       "      <td>3091.661</td>\n",
       "      <td>3135.558</td>\n",
       "      <td>2384.198</td>\n",
       "      <td>3220.858</td>\n",
       "      <td>-836.660</td>\n",
       "      <td>0.695715</td>\n",
       "      <td>0.001175</td>\n",
       "    </tr>\n",
       "    <tr>\n",
       "      <th>2017-01-01</th>\n",
       "      <td>17863.023</td>\n",
       "      <td>12427.647</td>\n",
       "      <td>3128.628</td>\n",
       "      <td>3129.576</td>\n",
       "      <td>2413.300</td>\n",
       "      <td>3258.816</td>\n",
       "      <td>-845.516</td>\n",
       "      <td>0.695719</td>\n",
       "      <td>0.001270</td>\n",
       "    </tr>\n",
       "    <tr>\n",
       "      <th>2017-04-01</th>\n",
       "      <td>17995.150</td>\n",
       "      <td>12515.860</td>\n",
       "      <td>3172.063</td>\n",
       "      <td>3129.952</td>\n",
       "      <td>2434.999</td>\n",
       "      <td>3279.067</td>\n",
       "      <td>-844.068</td>\n",
       "      <td>0.695513</td>\n",
       "      <td>0.001186</td>\n",
       "    </tr>\n",
       "    <tr>\n",
       "      <th>2017-07-01</th>\n",
       "      <td>18120.843</td>\n",
       "      <td>12584.906</td>\n",
       "      <td>3239.776</td>\n",
       "      <td>3121.755</td>\n",
       "      <td>2456.050</td>\n",
       "      <td>3301.956</td>\n",
       "      <td>-845.906</td>\n",
       "      <td>0.694499</td>\n",
       "      <td>0.001121</td>\n",
       "    </tr>\n",
       "    <tr>\n",
       "      <th>2017-10-01</th>\n",
       "      <td>18223.758</td>\n",
       "      <td>12706.369</td>\n",
       "      <td>3246.036</td>\n",
       "      <td>3140.157</td>\n",
       "      <td>2495.874</td>\n",
       "      <td>3395.120</td>\n",
       "      <td>-899.246</td>\n",
       "      <td>0.697242</td>\n",
       "      <td>0.001670</td>\n",
       "    </tr>\n",
       "    <tr>\n",
       "      <th>2018-01-01</th>\n",
       "      <td>18323.963</td>\n",
       "      <td>12722.839</td>\n",
       "      <td>3321.028</td>\n",
       "      <td>3152.191</td>\n",
       "      <td>2517.765</td>\n",
       "      <td>3420.127</td>\n",
       "      <td>-902.362</td>\n",
       "      <td>0.694328</td>\n",
       "      <td>0.001652</td>\n",
       "    </tr>\n",
       "    <tr>\n",
       "      <th>2018-04-01</th>\n",
       "      <td>18511.576</td>\n",
       "      <td>12842.022</td>\n",
       "      <td>3316.718</td>\n",
       "      <td>3171.810</td>\n",
       "      <td>2574.245</td>\n",
       "      <td>3415.210</td>\n",
       "      <td>-840.965</td>\n",
       "      <td>0.693729</td>\n",
       "      <td>0.001188</td>\n",
       "    </tr>\n",
       "    <tr>\n",
       "      <th>2018-07-01</th>\n",
       "      <td>18664.973</td>\n",
       "      <td>12953.291</td>\n",
       "      <td>3436.167</td>\n",
       "      <td>3192.005</td>\n",
       "      <td>2542.227</td>\n",
       "      <td>3491.901</td>\n",
       "      <td>-949.674</td>\n",
       "      <td>0.693989</td>\n",
       "      <td>0.001778</td>\n",
       "    </tr>\n",
       "    <tr>\n",
       "      <th>2018-10-01</th>\n",
       "      <td>18784.632</td>\n",
       "      <td>13044.246</td>\n",
       "      <td>3474.724</td>\n",
       "      <td>3195.334</td>\n",
       "      <td>2552.037</td>\n",
       "      <td>3515.249</td>\n",
       "      <td>-963.212</td>\n",
       "      <td>0.694411</td>\n",
       "      <td>0.001786</td>\n",
       "    </tr>\n",
       "  </tbody>\n",
       "</table>\n",
       "</div>"
      ],
      "text/plain": [
       "                  gdp       cons      invs       gov       exp       imp  \\\n",
       "DATE                                                                       \n",
       "2015-01-01  17254.744  11788.364  3096.866  3057.565  2377.687  3072.075   \n",
       "2015-04-01  17397.029  11887.537  3112.431  3087.585  2400.010  3096.722   \n",
       "2015-07-01  17438.802  11971.952  3102.676  3101.775  2379.000  3128.007   \n",
       "2015-10-01  17456.225  12039.650  3056.879  3107.136  2365.675  3125.005   \n",
       "2016-01-01  17523.374  12111.776  3042.889  3133.325  2351.097  3128.983   \n",
       "2016-04-01  17622.486  12214.098  3035.190  3126.731  2370.882  3135.019   \n",
       "2016-07-01  17706.705  12294.303  3032.239  3134.377  2406.373  3172.626   \n",
       "2016-10-01  17784.185  12372.730  3091.661  3135.558  2384.198  3220.858   \n",
       "2017-01-01  17863.023  12427.647  3128.628  3129.576  2413.300  3258.816   \n",
       "2017-04-01  17995.150  12515.860  3172.063  3129.952  2434.999  3279.067   \n",
       "2017-07-01  18120.843  12584.906  3239.776  3121.755  2456.050  3301.956   \n",
       "2017-10-01  18223.758  12706.369  3246.036  3140.157  2495.874  3395.120   \n",
       "2018-01-01  18323.963  12722.839  3321.028  3152.191  2517.765  3420.127   \n",
       "2018-04-01  18511.576  12842.022  3316.718  3171.810  2574.245  3415.210   \n",
       "2018-07-01  18664.973  12953.291  3436.167  3192.005  2542.227  3491.901   \n",
       "2018-10-01  18784.632  13044.246  3474.724  3195.334  2552.037  3515.249   \n",
       "\n",
       "                 nx  cons_share  stat_des  \n",
       "DATE                                       \n",
       "2015-01-01 -694.388    0.683196  0.000367  \n",
       "2015-04-01 -696.712    0.683308  0.000356  \n",
       "2015-07-01 -749.007    0.686512  0.000654  \n",
       "2015-10-01 -759.330    0.689705  0.000681  \n",
       "2016-01-01 -777.886    0.691178  0.000757  \n",
       "2016-04-01 -764.137    0.693097  0.000602  \n",
       "2016-07-01 -766.253    0.694330  0.000680  \n",
       "2016-10-01 -836.660    0.695715  0.001175  \n",
       "2017-01-01 -845.516    0.695719  0.001270  \n",
       "2017-04-01 -844.068    0.695513  0.001186  \n",
       "2017-07-01 -845.906    0.694499  0.001121  \n",
       "2017-10-01 -899.246    0.697242  0.001670  \n",
       "2018-01-01 -902.362    0.694328  0.001652  \n",
       "2018-04-01 -840.965    0.693729  0.001188  \n",
       "2018-07-01 -949.674    0.693989  0.001778  \n",
       "2018-10-01 -963.212    0.694411  0.001786  "
      ]
     },
     "execution_count": 36,
     "metadata": {},
     "output_type": "execute_result"
    }
   ],
   "source": [
    "usdata.loc[\"2015\":]"
   ]
  },
  {
   "cell_type": "markdown",
   "metadata": {},
   "source": [
    "Play around with this...\n",
    "\n",
    "- How do you grab one year\n",
    "- How to grab multiple years?\n"
   ]
  },
  {
   "cell_type": "markdown",
   "metadata": {},
   "source": [
    "No before we practice plotting...we want to compute growth rates...Below is some code that uses the tools we know so far (string manipulation, for loops on itterable objects, our basic pandas skills) to create **new columns** on the data from to plot"
   ]
  },
  {
   "cell_type": "code",
   "execution_count": 37,
   "metadata": {},
   "outputs": [
    {
     "data": {
      "text/html": [
       "<div>\n",
       "<style scoped>\n",
       "    .dataframe tbody tr th:only-of-type {\n",
       "        vertical-align: middle;\n",
       "    }\n",
       "\n",
       "    .dataframe tbody tr th {\n",
       "        vertical-align: top;\n",
       "    }\n",
       "\n",
       "    .dataframe thead th {\n",
       "        text-align: right;\n",
       "    }\n",
       "</style>\n",
       "<table border=\"1\" class=\"dataframe\">\n",
       "  <thead>\n",
       "    <tr style=\"text-align: right;\">\n",
       "      <th></th>\n",
       "      <th>gdp</th>\n",
       "      <th>cons</th>\n",
       "      <th>invs</th>\n",
       "      <th>gov</th>\n",
       "      <th>exp</th>\n",
       "      <th>imp</th>\n",
       "      <th>nx</th>\n",
       "      <th>cons_share</th>\n",
       "      <th>stat_des</th>\n",
       "      <th>gdp_growth</th>\n",
       "      <th>cons_growth</th>\n",
       "      <th>invs_growth</th>\n",
       "      <th>gov_growth</th>\n",
       "      <th>nx_growth</th>\n",
       "    </tr>\n",
       "    <tr>\n",
       "      <th>DATE</th>\n",
       "      <th></th>\n",
       "      <th></th>\n",
       "      <th></th>\n",
       "      <th></th>\n",
       "      <th></th>\n",
       "      <th></th>\n",
       "      <th></th>\n",
       "      <th></th>\n",
       "      <th></th>\n",
       "      <th></th>\n",
       "      <th></th>\n",
       "      <th></th>\n",
       "      <th></th>\n",
       "      <th></th>\n",
       "    </tr>\n",
       "  </thead>\n",
       "  <tbody>\n",
       "    <tr>\n",
       "      <th>2000-01-01</th>\n",
       "      <td>12924.179</td>\n",
       "      <td>8520.710</td>\n",
       "      <td>2257.109</td>\n",
       "      <td>2645.393</td>\n",
       "      <td>1337.203</td>\n",
       "      <td>1853.884</td>\n",
       "      <td>-516.681</td>\n",
       "      <td>0.659284</td>\n",
       "      <td>0.001366</td>\n",
       "      <td>NaN</td>\n",
       "      <td>NaN</td>\n",
       "      <td>NaN</td>\n",
       "      <td>NaN</td>\n",
       "      <td>NaN</td>\n",
       "    </tr>\n",
       "    <tr>\n",
       "      <th>2000-04-01</th>\n",
       "      <td>13160.842</td>\n",
       "      <td>8603.007</td>\n",
       "      <td>2390.733</td>\n",
       "      <td>2671.254</td>\n",
       "      <td>1375.203</td>\n",
       "      <td>1911.437</td>\n",
       "      <td>-536.234</td>\n",
       "      <td>0.653682</td>\n",
       "      <td>0.002438</td>\n",
       "      <td>7.324659</td>\n",
       "      <td>3.863387</td>\n",
       "      <td>23.680558</td>\n",
       "      <td>3.910345</td>\n",
       "      <td>15.137387</td>\n",
       "    </tr>\n",
       "    <tr>\n",
       "      <th>2000-07-01</th>\n",
       "      <td>13178.419</td>\n",
       "      <td>8687.485</td>\n",
       "      <td>2367.274</td>\n",
       "      <td>2659.687</td>\n",
       "      <td>1408.783</td>\n",
       "      <td>1978.137</td>\n",
       "      <td>-569.354</td>\n",
       "      <td>0.659221</td>\n",
       "      <td>0.002529</td>\n",
       "      <td>0.534221</td>\n",
       "      <td>3.927836</td>\n",
       "      <td>-3.924989</td>\n",
       "      <td>-1.732070</td>\n",
       "      <td>24.705632</td>\n",
       "    </tr>\n",
       "    <tr>\n",
       "      <th>2000-10-01</th>\n",
       "      <td>13260.506</td>\n",
       "      <td>8762.205</td>\n",
       "      <td>2371.809</td>\n",
       "      <td>2675.695</td>\n",
       "      <td>1396.844</td>\n",
       "      <td>1977.750</td>\n",
       "      <td>-580.906</td>\n",
       "      <td>0.660775</td>\n",
       "      <td>0.002391</td>\n",
       "      <td>2.491558</td>\n",
       "      <td>3.440351</td>\n",
       "      <td>0.766282</td>\n",
       "      <td>2.407501</td>\n",
       "      <td>8.115865</td>\n",
       "    </tr>\n",
       "    <tr>\n",
       "      <th>2001-01-01</th>\n",
       "      <td>13222.690</td>\n",
       "      <td>8797.280</td>\n",
       "      <td>2264.202</td>\n",
       "      <td>2716.773</td>\n",
       "      <td>1376.171</td>\n",
       "      <td>1946.136</td>\n",
       "      <td>-569.965</td>\n",
       "      <td>0.665317</td>\n",
       "      <td>0.001089</td>\n",
       "      <td>-1.140711</td>\n",
       "      <td>1.601195</td>\n",
       "      <td>-18.147667</td>\n",
       "      <td>6.140909</td>\n",
       "      <td>-7.533749</td>\n",
       "    </tr>\n",
       "  </tbody>\n",
       "</table>\n",
       "</div>"
      ],
      "text/plain": [
       "                  gdp      cons      invs       gov       exp       imp  \\\n",
       "DATE                                                                      \n",
       "2000-01-01  12924.179  8520.710  2257.109  2645.393  1337.203  1853.884   \n",
       "2000-04-01  13160.842  8603.007  2390.733  2671.254  1375.203  1911.437   \n",
       "2000-07-01  13178.419  8687.485  2367.274  2659.687  1408.783  1978.137   \n",
       "2000-10-01  13260.506  8762.205  2371.809  2675.695  1396.844  1977.750   \n",
       "2001-01-01  13222.690  8797.280  2264.202  2716.773  1376.171  1946.136   \n",
       "\n",
       "                 nx  cons_share  stat_des  gdp_growth  cons_growth  \\\n",
       "DATE                                                                 \n",
       "2000-01-01 -516.681    0.659284  0.001366         NaN          NaN   \n",
       "2000-04-01 -536.234    0.653682  0.002438    7.324659     3.863387   \n",
       "2000-07-01 -569.354    0.659221  0.002529    0.534221     3.927836   \n",
       "2000-10-01 -580.906    0.660775  0.002391    2.491558     3.440351   \n",
       "2001-01-01 -569.965    0.665317  0.001089   -1.140711     1.601195   \n",
       "\n",
       "            invs_growth  gov_growth  nx_growth  \n",
       "DATE                                            \n",
       "2000-01-01          NaN         NaN        NaN  \n",
       "2000-04-01    23.680558    3.910345  15.137387  \n",
       "2000-07-01    -3.924989   -1.732070  24.705632  \n",
       "2000-10-01     0.766282    2.407501   8.115865  \n",
       "2001-01-01   -18.147667    6.140909  -7.533749  "
      ]
     },
     "execution_count": 37,
     "metadata": {},
     "output_type": "execute_result"
    }
   ],
   "source": [
    "var_list = [\"gdp\", \"cons\",\"invs\", \"gov\", \"nx\"]\n",
    "\n",
    "for var in var_list:\n",
    "    new_name = var + \"_growth\"\n",
    "    usdata[new_name] = 100*4*usdata[var].pct_change()\n",
    "    \n",
    "usdata.head()"
   ]
  },
  {
   "cell_type": "code",
   "execution_count": 38,
   "metadata": {},
   "outputs": [
    {
     "data": {
      "text/plain": [
       "2.01"
      ]
     },
     "execution_count": 38,
     "metadata": {},
     "output_type": "execute_result"
    }
   ],
   "source": [
    "round(usdata.gdp_growth.mean(),2) # This should be about two percent..."
   ]
  },
  {
   "cell_type": "markdown",
   "metadata": {},
   "source": [
    "This last line is another sanity check. I have an idea about what GDP growth is, I want to verify that my computation is consistent with that idea (in this case growth should be about two percent). For example, if the number reteruned was like 123.45, I would quickly know that there is some problem with my code some where **above** this line! "
   ]
  },
  {
   "cell_type": "markdown",
   "metadata": {},
   "source": [
    "### Plotting the Data\n",
    "\n",
    "First, the [**book**](https://nyudatabootcamp.gitbooks.io/data-bootcamp/content/graphs1.html) talks through other approaches to using matplotlib. The approach I walk through below is the third approach and is perfered. The basic idea is that the call above will create two types of objects, a fig object which is like the blank canvas for which a plot call will plot stuff on. The key object however will be the ax or axes part, what this will do is allow us direct axess to the properties of the firgure, title, legange, line colors, etc...\n",
    "\n",
    "Now below is the basic syntax to generate a plot:"
   ]
  },
  {
   "cell_type": "code",
   "execution_count": 39,
   "metadata": {
    "scrolled": true
   },
   "outputs": [
    {
     "data": {
      "image/png": "[encoded data removed]",
      "text/plain": [
       "<Figure size 432x288 with 1 Axes>"
      ]
     },
     "metadata": {
      "needs_background": "light"
     },
     "output_type": "display_data"
    }
   ],
   "source": [
    "fig, ax = plt.subplots()\n",
    "\n",
    "ax.plot(usdata.index, usdata.gdp_growth) # So this ploted gdp growth using the axes generated above....\n",
    "\n",
    "plt.show()"
   ]
  },
  {
   "cell_type": "markdown",
   "metadata": {},
   "source": [
    "- The first line above is an **important element** of our code plotting style| we first generate a fig (our canvas) and the axes (all the stuff the adorns the canvas, almost like a frame around the canvas). \n",
    "\n",
    "- The second line then plots what we want and **pass to it** our axes. What this will alow us to do is when ever we modivy our axes, then the associated figure will change as we specify it. \n",
    "\n",
    "- The output from this process is just a simple graph. Some numbers on the y-axis, data on the x-axis (and the only reason it does this is that the dataframe and ploting library recognizes that the index is a date)... It looks ok, but it does not really communicate anything. So now we want to make it look pretty/more professional."
   ]
  },
  {
   "cell_type": "markdown",
   "metadata": {},
   "source": [
    "##### Making it look pretty...\n",
    "A copule of basic elements that we **ALWAYS NEED**: (i) a title (ii) well labeled x and y axis. Note that the well labeld should mean a couple of things, what it is and what units they are in. Now the code below does this using the methods associated with our axes object `ax.` "
   ]
  },
  {
   "cell_type": "code",
   "execution_count": 40,
   "metadata": {
    "scrolled": false
   },
   "outputs": [
    {
     "data": {
      "image/png": "[encoded data removed]",
      "text/plain": [
       "<Figure size 432x288 with 1 Axes>"
      ]
     },
     "metadata": {
      "needs_background": "light"
     },
     "output_type": "display_data"
    }
   ],
   "source": [
    "fig, ax = plt.subplots()\n",
    "\n",
    "ax.plot(usdata.index, usdata.gdp_growth) # So this ploted gdp growth using the axes generated above....\n",
    "\n",
    "ax.set_title(\"US GDP Growth\", fontsize = 14, fontweight = \"bold\") # Sets the title. Make it BIG so people understand \n",
    "                                                                  # what it is about...\n",
    "ax.set_ylabel(\"Annualized Growth Rate\", fontsize = 14,)\n",
    "ax.set_xlabel(\"Year\", fontsize = 14,)\n",
    "\n",
    "plt.show()"
   ]
  },
  {
   "cell_type": "markdown",
   "metadata": {},
   "source": [
    "Now this is looking much better. Let me show you a couple of more things.... \n",
    "- First, we may want to make the line thicker...again if you are giving a presentation be minduful that when the power point goes up, the lighting may be such that it will be hard to see. \n",
    "- Second, having the y-axis be symetric is always nice; so I'm going to reset the y-limits. \n",
    "- Third, sometimes you need a legend (in this case not really since the title says it all, but here is a command to do so)."
   ]
  },
  {
   "cell_type": "code",
   "execution_count": 41,
   "metadata": {},
   "outputs": [
    {
     "data": {
      "image/png": "[encoded data removed]",
      "text/plain": [
       "<Figure size 432x288 with 1 Axes>"
      ]
     },
     "metadata": {
      "needs_background": "light"
     },
     "output_type": "display_data"
    }
   ],
   "source": [
    "fig, ax = plt.subplots()\n",
    "\n",
    "ax.plot(usdata.index, usdata.gdp_growth , color = 'r', linewidth = 3.0) \n",
    "\n",
    "# HERE I'm changing the color and the thickness of the line...\n",
    "\n",
    "ax.set_title(\"US GDP Growth\", fontsize = 14, fontweight = \"bold\") \n",
    "ax.set_ylabel(\"Annualized Growth Rate\", fontsize = 14,)\n",
    "ax.set_xlabel(\"Year\", fontsize = 14,)\n",
    "\n",
    "ax.set_ylim(-10,10) # This sets the y-limits\n",
    "\n",
    "ax.legend([\"GDP Growth\"],frameon=False) \n",
    "# Then this sets the legend...note I used the frameon = False option that removes the box around the the legend...\n",
    "\n",
    "plt.show()"
   ]
  },
  {
   "cell_type": "markdown",
   "metadata": {},
   "source": [
    "A couple of more options I will show you. \n",
    "- One is I'm going to change the x-limit or the data so that we see stuff only from 2005 onward. \n",
    "- Second, I'm going to remove the box part of the graph... I think it looks nicer for time series plots..."
   ]
  },
  {
   "cell_type": "code",
   "execution_count": 42,
   "metadata": {},
   "outputs": [
    {
     "data": {
      "image/png": "[encoded data removed]",
      "text/plain": [
       "<Figure size 432x288 with 1 Axes>"
      ]
     },
     "metadata": {
      "needs_background": "light"
     },
     "output_type": "display_data"
    }
   ],
   "source": [
    "fig, ax = plt.subplots()\n",
    "\n",
    "ax.plot(usdata.index, usdata.gdp_growth , color = 'r', linewidth = 3.0) \n",
    "\n",
    "# HERE I'm changing the color and the thickness of the line...\n",
    "\n",
    "ax.set_title(\"US GDP Growth\", fontsize = 14, fontweight = \"bold\") # Sets the title\n",
    "ax.set_ylabel(\"Annualized Growth Rate\", fontsize = 14,) # The ylable\n",
    "ax.set_xlabel(\"Year\", fontsize = 14,) # the xlable\n",
    "\n",
    "ax.set_ylim(-10,10) # This sets the y-limits\n",
    "\n",
    "ax.legend([\"GDP Growth\"],frameon=False) # The legend, without a box...\n",
    "\n",
    "##################################################################################\n",
    "# This is the new stuff...\n",
    "\n",
    "ax.set_xlim(dt.datetime(2005,1,1)) # Set the time frame, note that the index is a \n",
    "                                   # date time, so to specify where to start \n",
    "                                   # I just used the dateime functionality....\n",
    "\n",
    "ax.spines[\"right\"].set_visible(False) # This removes the ``spines'', just the right and top\n",
    "ax.spines[\"top\"].set_visible(False) # ones...\n",
    "\n",
    "plt.savefig(\"us_gdp_growth.png\", bbox_inches = \"tight\", dip = 1200)\n",
    "\n",
    "plt.show()"
   ]
  },
  {
   "cell_type": "markdown",
   "metadata": {},
   "source": [
    "Now that is cool! We now have a **very** clean, nice, and informative graph. Big picture...the key thing about this process is it (i) gives us a lot of direct control and (ii) we won't have todo this over and over again (e.g. if you were trying to make multiple plots in excel. "
   ]
  },
  {
   "cell_type": "markdown",
   "metadata": {},
   "source": [
    "----\n",
    "\n",
    "### Lets practice\n",
    "\n",
    "Can you create a new code cell and do the followng...\n",
    "\n",
    "- Can you do the same type of plot but for Net-Exports? What do you see?\n",
    "\n",
    "- Challangeing: Can you plot a horizontal line indicating the average growth rate of this time period?\n",
    "\n",
    "----"
   ]
  },
  {
   "cell_type": "markdown",
   "metadata": {},
   "source": [
    "### Scatter Plots....\n",
    "\n",
    "Lets return to the substantive question... How does Consumption and GDP co-move over time? While the 2008/2009 recession suggest that when GDP is low, then consumption is low...thus, they co-move (or correlate highly over time). However, its not that obvious, note that there seem to be far more fluctuations in GDP than Consumption. How can we get a better look at the correlation of these two data series. One was is a scatter plot. So lets look at how to build one of those."
   ]
  },
  {
   "cell_type": "code",
   "execution_count": 43,
   "metadata": {},
   "outputs": [
    {
     "data": {
      "image/png": "[encoded data removed]",
      "text/plain": [
       "<Figure size 432x288 with 1 Axes>"
      ]
     },
     "metadata": {
      "needs_background": "light"
     },
     "output_type": "display_data"
    }
   ],
   "source": [
    "fig, ax = plt.subplots() # Same deal here...\n",
    "\n",
    "ax.scatter(usdata[\"gdp_growth\"], usdata[\"cons_growth\"],     # x,y variables \n",
    "            alpha= 0.50) # Then this last command specifies how dark or light the bubbles are...\n",
    "\n",
    "##################################################################################\n",
    "# Again, lets make this informative...\n",
    "\n",
    "ax.set_title('GDP vs. Consumption ', loc='center', fontsize=14, fontweight = \"bold\") \n",
    "# We know this, but note the new option, it specifies the location....\n",
    "\n",
    "ax.set_xlabel(\"GDP Growth (Annulized Rate)\")\n",
    "ax.set_ylabel(\"Consumption Growth (Annualized Rate)\")\n",
    "\n",
    "ax.spines[\"right\"].set_visible(False) # This removes the ``spines'', just the right and top\n",
    "ax.spines[\"top\"].set_visible(False) # ones...\n",
    "\n",
    "ax.set_ylim(-10,10) # Make this a box...why, one can then by eye infer the slope...\n",
    "ax.set_xlim(-10,10) # \n",
    "\n",
    "plt.show()"
   ]
  },
  {
   "cell_type": "markdown",
   "metadata": {},
   "source": [
    "**Exercises**\n",
    "* Step 1: Can you simply put some text on the plot. Hint use tab completion on ax and look for `.text`\n",
    "* Step 2: Can you create a message that on the plot that reports the correlation between GDP and Consumption. Hint: First, you need to compute the correlation between GDP and Consumption."
   ]
  },
  {
   "cell_type": "code",
   "execution_count": 44,
   "metadata": {},
   "outputs": [
    {
     "data": {
      "image/png": "[encoded data removed]",
      "text/plain": [
       "<Figure size 432x288 with 1 Axes>"
      ]
     },
     "metadata": {
      "needs_background": "light"
     },
     "output_type": "display_data"
    }
   ],
   "source": [
    "fig, ax = plt.subplots() # Same deal here...\n",
    "\n",
    "ax.scatter(usdata[\"gdp_growth\"], usdata[\"cons_growth\"],     # x,y variables \n",
    "            alpha= 0.50) # Then this last command specifies how dark or light the bubbles are...\n",
    "\n",
    "##################################################################################\n",
    "# Again, lets make this informative...\n",
    "\n",
    "ax.set_title('GDP vs. Consumption ', loc='center', fontsize=14, fontweight = \"bold\") \n",
    "# We know this, but note the new option, it specifies the location....\n",
    "\n",
    "ax.set_xlabel(\"GDP Growth (Annulized Rate)\")\n",
    "ax.set_ylabel(\"Consumption Growth (Annualized Rate)\")\n",
    "\n",
    "ax.spines[\"right\"].set_visible(False) # This removes the ``spines'', just the right and top\n",
    "ax.spines[\"top\"].set_visible(False) # ones...\n",
    "\n",
    "ax.set_ylim(-10,10) # Make this a box...why, one can then by eye infer the slope...\n",
    "ax.set_xlim(-10,10) # \n",
    "\n",
    "############################################################################\n",
    "# This is something new I learned recently\n",
    "\n",
    "ax.annotate(\n",
    "    \"What Year is This?\", \n",
    "    xy=(-8.25, -5), # This is where we point at...\n",
    "    xycoords=\"data\", # Not exactly sure about this\n",
    "    xytext=(0, -9), # This is about where the text is\n",
    "    horizontalalignment=\"left\", # How the text is alined\n",
    "    arrowprops={\n",
    "        \"arrowstyle\": \"-|>\", # This is stuff about the arrow\n",
    "        \"connectionstyle\": \"angle3,angleA=5,angleB=110\",\n",
    "        \"color\": \"black\"\n",
    "    },\n",
    "    fontsize=12,\n",
    ")\n",
    "\n",
    "############################################################################\n",
    "\n",
    "plt.show()"
   ]
  },
  {
   "cell_type": "markdown",
   "metadata": {},
   "source": [
    "#### GDP AND Consumption\n",
    "\n",
    "Now lets make two side by side plots of GDP growth and consumption growth so that we can compare them. The process is simmilar, but we can also use for loops to simplify some of the process..."
   ]
  },
  {
   "cell_type": "code",
   "execution_count": 45,
   "metadata": {
    "scrolled": false
   },
   "outputs": [
    {
     "data": {
      "image/png": "[encoded data removed]",
      "text/plain": [
       "<Figure size 864x288 with 2 Axes>"
      ]
     },
     "metadata": {
      "needs_background": "light"
     },
     "output_type": "display_data"
    }
   ],
   "source": [
    "fig, ax = plt.subplots(nrows = 1, ncols = 2, sharex = True, figsize = (12,4)) \n",
    "\n",
    "# Same deal as before, but here in the subplots we specified how many. This is given by\n",
    "# the number of rows and columns for which the plots will be...\n",
    "# the sharex command tells it to share the same x-axis, the figsize is awayt to controll\n",
    "# how big/small it looksin the jupyter window\n",
    "\n",
    "# IMPORTANT... now ax is multi-dimensional, so there are two of these, thus when we call \n",
    "# ax[0] this specifies use that axes or modify that one....\n",
    "\n",
    "ax[0].plot(usdata.index, usdata.gdp_growth , color = 'b', linewidth = 3.0) \n",
    "\n",
    "ax[1].plot(usdata.index, usdata.cons_growth , color = 'r', linewidth = 3.0) \n",
    "\n",
    "\n",
    "# Again, note how I'm saying gdp growth is the first axes and consumption growth is the second axes...\n",
    "\n",
    "#######################################################################################\n",
    "\n",
    "# Now liets make it nice looking...add a Title for everything...\n",
    "\n",
    "fig.suptitle(\"GDP and Consumption Growth\", fontsize = 14, fontweight = \"bold\")\n",
    "\n",
    "ax[0].set_title(\"GDP\", fontsize = 10) # This stuff sets the title for each of the subplots...\n",
    "ax[1].set_title(\"Consumption\", fontsize = 10)\n",
    "\n",
    "# The command above we needed to do element by element, but lets automate some other things...\n",
    "\n",
    "for var in ax: # Think through what this is doing, for every instance of ax called var we will\n",
    "    \n",
    "    var.set_ylim(-10,10)  # set the ylimits\n",
    "    \n",
    "    var.spines[\"right\"].set_visible(False) # remove the top and right spines\n",
    "    \n",
    "    var.spines[\"top\"].set_visible(False)\n",
    "    \n",
    "    var.set_xlabel(\"Year\") # set the x label to year\n",
    "    \n",
    "    var.set_xlim(dt.datetime(2005,1,1)) # set the x limit to 2005, Jan, 1\n",
    "\n",
    "    \n",
    "ax[0].set_ylabel(\"Annualized Growth Rate\") # Lable the y axis (only once since its the same for both)\n",
    "\n",
    "\n",
    "plt.show()"
   ]
  },
  {
   "cell_type": "markdown",
   "metadata": {
    "collapsed": true
   },
   "source": [
    "**BOOM!** That was awesome, two nice looking graphs illustrating how GDP growth and Consumption growth have fluctuated over the past 12 years...\n",
    "\n",
    "---\n",
    "\n",
    "### Lets practice\n",
    "\n",
    "- Can you create a new code cell and do the followng...\n",
    "\n",
    "- Can you do the same type of plot but GDP and Net-Exports? What do you see?\n",
    "\n",
    "- Challangeing: Can you plot a horizontal line indicating the average growth rate of this time period?\n",
    "\n",
    "---"
   ]
  },
  {
   "cell_type": "markdown",
   "metadata": {},
   "source": [
    "That is **AWESOME**. You tell your boss, you stayed up all night to make this look so nice... this took seconds todo...you get promoted AND saved time! \n",
    "\n",
    "Quick note, this plot does make clear my hesitation above. They are very related, but not one for one...\n",
    "\n",
    "### Scaling it up!\n",
    "\n",
    "This is the point of python: if we were just to do one graph, **maybe**, it still might be quicker in excel... but if we have to do a lot of graphs, this is when the automation of python really kicks in. I want to make the same exact kind of scatter plot, but with Consumption, Investment, Government, and Net-Exports.\n",
    "\n",
    "Lets... do this! Side note, this actually took me a little bit of time to completely work through, "
   ]
  },
  {
   "cell_type": "code",
   "execution_count": 46,
   "metadata": {},
   "outputs": [
    {
     "data": {
      "image/png": "[encoded data removed]",
      "text/plain": [
       "<Figure size 864x288 with 4 Axes>"
      ]
     },
     "metadata": {
      "needs_background": "light"
     },
     "output_type": "display_data"
    }
   ],
   "source": [
    "fig, ax = plt.subplots(nrows = 2, ncols = 2, sharex = True, figsize = (12,4)) \n",
    "\n",
    "ax = ax.ravel() # Here is the trick here, ax is a 2 by 2 array. We want to work through it in a loop...so\n",
    "                # one way to do this is to flatten stuff out, make it a 4 by 1 array. The ravel command \n",
    "                # does this...\n",
    "\n",
    "var_list = [\"cons\",\"invs\", \"gov\", \"nx\"]\n",
    "nice_name = [\"Consumption\", \"Investment\", \"Government\", \"Net Exports\"]\n",
    "new_name = []\n",
    "\n",
    "# Create some lists... the var_list and new name will allow me to pull the series\n",
    "# the nice name allows me to report a nice name for the plot...\n",
    "\n",
    "corr_mat = usdata.corr() # This is the correlation matrix of the data series in the df\n",
    "\n",
    "for var in var_list:\n",
    "    new_name.append(var + \"_growth\") # So this is going through and creating the name structure\n",
    "                                     # to get the growth rate number...\n",
    "\n",
    "# Now I'm going to work through each axes, plot the correct data, then set it up to look nice\n",
    "# the one thing I need is a counter so as I walk through the axes I can get the correct \n",
    "# data series that I need....\n",
    "\n",
    "count = 0\n",
    "\n",
    "for xxx in ax:\n",
    "    \n",
    "    xxx.scatter(usdata[\"gdp_growth\"], usdata[new_name[count]], alpha= 0.50) # Scatter plot\n",
    "    \n",
    "    xxx.set_title(nice_name[count], fontsize = 10) # This stuff sets the title for each of the subplots...\n",
    "    \n",
    "    xxx.spines[\"right\"].set_visible(False) # remove the top and right spines\n",
    "    \n",
    "    xxx.spines[\"top\"].set_visible(False) # Same as above\n",
    "    \n",
    "    \n",
    "    xxx.set_ylabel(\"Annualized Growth Rate\", fontsize = 8) # set the x label to year\n",
    "    \n",
    "    if count > 1: # I only one the x label for the bottom ones...\n",
    "        xxx.set_xlabel(\"Annualized GDP Growth Rate\", fontsize = 8) # set the x label to year\n",
    "    \n",
    "    xxx.set_xlim(-10,10) # \n",
    "    xxx.set_ylim(-10,10) # This is throwing out a lot of stuff... this is the one issue...\n",
    "    \n",
    "    cr = corr_mat.gdp_growth[new_name[count]] # get the correlation matrix\n",
    "    \n",
    "    message = \"Correlation = \" + str(round(cr,2)) # put the stuff together\n",
    "\n",
    "    xxx.text(10, -8, message, horizontalalignment='right') # print the message in the text box on the figure\n",
    "      \n",
    "    count = count + 1 # update counter\n",
    "    \n",
    "fig.suptitle(\"GDP and SubComponents\", fontsize = 12, fontweight = \"bold\") # big titel\n",
    "\n",
    "\n",
    "plt.show()"
   ]
  },
  {
   "cell_type": "markdown",
   "metadata": {},
   "source": [
    "Ok, that was impressive, wow! We used a ton of our skills, a little google fu (the `ravel` command was key), and then generated a nice plot reporting the relationship between GDP and its subcomponents.\n",
    "\n",
    "**What did we learn?** Consumption and investment are highly correlated with GDP. By noting the slope of the relationship, consumption is less volitile, investment is more volitile. Government spending and net exports appear to have very little, systematic relationship with GDP growth."
   ]
  },
  {
   "cell_type": "code",
   "execution_count": null,
   "metadata": {
    "collapsed": true
   },
   "outputs": [],
   "source": []
  }
 ],
 "metadata": {
  "anaconda-cloud": {},
  "hide_input": false,
  "kernelspec": {
   "display_name": "Python 3",
   "language": "python",
   "name": "python3"
  },
  "language_info": {
   "codemirror_mode": {
    "name": "ipython",
    "version": 3
   },
   "file_extension": ".py",
   "mimetype": "text/x-python",
   "name": "python",
   "nbconvert_exporter": "python",
   "pygments_lexer": "ipython3",
   "version": "3.7.1"
  }
 },
 "nbformat": 4,
 "nbformat_minor": 2
}
