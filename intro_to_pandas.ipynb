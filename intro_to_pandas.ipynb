{
 "cells": [
  {
   "cell_type": "markdown",
   "metadata": {},
   "source": [
    "## Intro to pandas\n",
    "\n",
    "What is pandas??? \"pan\"nel \"da\"ta \"s\"tructures. Powerfull, intuitive, data analysis\n",
    "tool. This package convinced me to learn and start to use python as a research tool\n",
    "Developed at [AQR](https://www.aqr.com/) (a quantative hedgfund) by [Wes Mckinney](http://wesmckinney.com). They made it open source\n",
    "and quickly expanded developed and became widely used. \n",
    "\n",
    "\n",
    "First we need to import the pandas package...very simmilar to when we imported\n",
    "our functions, but this is a MUCH larger. Further more, this is what makes pandas\n",
    "a higher-level addon to python. That is at a lower level the objects, methods, functions...\n",
    "are already created for us, then when we import pandas they are ready to go."
   ]
  },
  {
   "cell_type": "code",
   "execution_count": 2,
   "metadata": {
    "collapsed": true
   },
   "outputs": [],
   "source": [
    "import pandas as pd"
   ]
  },
  {
   "cell_type": "markdown",
   "metadata": {},
   "source": [
    "This says import the package pandas then the \"as pd\" says call it pd (our alias)\n",
    "this just simplifies our life without having to always be typing pandas, we just\n",
    "type `pd`. IF your lost on this, go back to our chapter on [importing packages](https://nyudatabootcamp.gitbooks.io/data-bootcamp/content/packages.html)\n",
    "\n",
    "Lets first create some data..."
   ]
  },
  {
   "cell_type": "code",
   "execution_count": 39,
   "metadata": {},
   "outputs": [
    {
     "name": "stdout",
     "output_type": "stream",
     "text": [
      "<class 'dict'>\n"
     ]
    }
   ],
   "source": [
    "data = {\"GDP\": [5974.7, 10031.0, 14681.1],\n",
    "                   \"CPI\": [127.5, 169.3, 217.488],\n",
    "                   \"Year\": [1990, 2000, 2010],\n",
    "                   \"Country\": [\"US\", \"US\", \"US\"]}\n",
    "# what kind of data structure is this\n",
    "\n",
    "print(type(data))"
   ]
  },
  {
   "cell_type": "markdown",
   "metadata": {},
   "source": [
    "It should tells us that it is a dictionary, with keys and values (which are lists). How do we get those?"
   ]
  },
  {
   "cell_type": "markdown",
   "metadata": {},
   "source": [
    "Now we are going to convert the type of data to a \"DataFrame\" this is the key oject within pandas. (If familiar with R this is simmilar to their dataframe)\n"
   ]
  },
  {
   "cell_type": "code",
   "execution_count": 40,
   "metadata": {
    "collapsed": true
   },
   "outputs": [],
   "source": [
    "df = pd.DataFrame(data)"
   ]
  },
  {
   "cell_type": "code",
   "execution_count": 5,
   "metadata": {},
   "outputs": [
    {
     "name": "stdout",
     "output_type": "stream",
     "text": [
      "\n",
      " <class 'pandas.core.frame.DataFrame'>\n",
      "{'Year': [1990, 2000, 2010], 'CPI': [127.5, 169.3, 217.488], 'GDP': [5974.7, 10031.0, 14681.1], 'Country': ['US', 'US', 'US']}\n"
     ]
    }
   ],
   "source": [
    "print(\"\\n\", type(df))\n",
    "\n",
    "# Now lets see how cool this is, return to the original data and lets look at it\n",
    "print(data)"
   ]
  },
  {
   "cell_type": "code",
   "execution_count": 6,
   "metadata": {},
   "outputs": [
    {
     "data": {
      "text/plain": [
       "{'CPI': [127.5, 169.3, 217.488],\n",
       " 'Country': ['US', 'US', 'US'],\n",
       " 'GDP': [5974.7, 10031.0, 14681.1],\n",
       " 'Year': [1990, 2000, 2010]}"
      ]
     },
     "execution_count": 6,
     "metadata": {},
     "output_type": "execute_result"
    }
   ],
   "source": [
    "data"
   ]
  },
  {
   "cell_type": "code",
   "execution_count": 7,
   "metadata": {},
   "outputs": [
    {
     "data": {
      "text/html": [
       "<div>\n",
       "<style scoped>\n",
       "    .dataframe tbody tr th:only-of-type {\n",
       "        vertical-align: middle;\n",
       "    }\n",
       "\n",
       "    .dataframe tbody tr th {\n",
       "        vertical-align: top;\n",
       "    }\n",
       "\n",
       "    .dataframe thead th {\n",
       "        text-align: right;\n",
       "    }\n",
       "</style>\n",
       "<table border=\"1\" class=\"dataframe\">\n",
       "  <thead>\n",
       "    <tr style=\"text-align: right;\">\n",
       "      <th></th>\n",
       "      <th>CPI</th>\n",
       "      <th>Country</th>\n",
       "      <th>GDP</th>\n",
       "      <th>Year</th>\n",
       "    </tr>\n",
       "  </thead>\n",
       "  <tbody>\n",
       "    <tr>\n",
       "      <th>0</th>\n",
       "      <td>127.500</td>\n",
       "      <td>US</td>\n",
       "      <td>5974.7</td>\n",
       "      <td>1990</td>\n",
       "    </tr>\n",
       "    <tr>\n",
       "      <th>1</th>\n",
       "      <td>169.300</td>\n",
       "      <td>US</td>\n",
       "      <td>10031.0</td>\n",
       "      <td>2000</td>\n",
       "    </tr>\n",
       "    <tr>\n",
       "      <th>2</th>\n",
       "      <td>217.488</td>\n",
       "      <td>US</td>\n",
       "      <td>14681.1</td>\n",
       "      <td>2010</td>\n",
       "    </tr>\n",
       "  </tbody>\n",
       "</table>\n",
       "</div>"
      ],
      "text/plain": [
       "       CPI Country      GDP  Year\n",
       "0  127.500      US   5974.7  1990\n",
       "1  169.300      US  10031.0  2000\n",
       "2  217.488      US  14681.1  2010"
      ]
     },
     "execution_count": 7,
     "metadata": {},
     "output_type": "execute_result"
    }
   ],
   "source": [
    "df"
   ]
  },
  {
   "cell_type": "markdown",
   "metadata": {},
   "source": [
    "This lays out the data in a very intuitive way, columns defined by the keys...\n",
    "values as rows...literally like an excel file. Amazing. You may be thinking...\n",
    "so what, well there is a reason why excel is popular, it is natural for people\n",
    "do think about data in a table like formate, a dataframe is always going to \n",
    "present this in this intuitive, natural way. This is also important because it\n",
    "helps us visualize and then implement calculations, operations, on the table. \n",
    "Where as this could be very hard to do in the data variable above."
   ]
  },
  {
   "cell_type": "markdown",
   "metadata": {},
   "source": [
    "In python remember the datafame is an object and with that object comes methods and attributes (we have seen less attributes, but lots of methods)\n"
   ]
  },
  {
   "cell_type": "code",
   "execution_count": 8,
   "metadata": {},
   "outputs": [
    {
     "name": "stdout",
     "output_type": "stream",
     "text": [
      "(3, 4)\n"
     ]
    }
   ],
   "source": [
    "print(df.shape) \n",
    "# Note that this is an attribute not a method as the method \n",
    "# takes in arguments through () where as this just asks what is the shape of df"
   ]
  },
  {
   "cell_type": "code",
   "execution_count": 9,
   "metadata": {},
   "outputs": [
    {
     "name": "stdout",
     "output_type": "stream",
     "text": [
      "Index(['CPI', 'Country', 'GDP', 'Year'], dtype='object')\n",
      "['CPI', 'Country', 'GDP', 'Year']\n"
     ]
    }
   ],
   "source": [
    "print(df.columns) # which returns an object...but we can get it to a list.\n",
    "print(df.columns.tolist())"
   ]
  },
  {
   "cell_type": "code",
   "execution_count": 10,
   "metadata": {},
   "outputs": [
    {
     "name": "stdout",
     "output_type": "stream",
     "text": [
      "RangeIndex(start=0, stop=3, step=1)\n",
      "[0, 1, 2]\n"
     ]
    }
   ],
   "source": [
    "print(df.index) # which is like a range type, but within pandas...\n",
    "print(df.index.tolist())"
   ]
  },
  {
   "cell_type": "code",
   "execution_count": 11,
   "metadata": {},
   "outputs": [
    {
     "name": "stdout",
     "output_type": "stream",
     "text": [
      "CPI        float64\n",
      "Country     object\n",
      "GDP        float64\n",
      "Year         int64\n",
      "dtype: object\n"
     ]
    }
   ],
   "source": [
    "print(df.dtypes) # this is an attribute on the dataframe, simmilar to type"
   ]
  },
  {
   "cell_type": "markdown",
   "metadata": {},
   "source": [
    "So this is interesting, for the numerical values it says that they are flaoting\n",
    "point vlaues, that is great. For the names, strings, it says that they are objects\n",
    "NOT stings? Pandas does this (i) if all the data in a column is a number, then \n",
    "it is recognized as a number (ii) if not, then it is just going to be an object"
   ]
  },
  {
   "cell_type": "markdown",
   "metadata": {},
   "source": [
    "**Exercises** Consider the following data below:"
   ]
  },
  {
   "cell_type": "code",
   "execution_count": 35,
   "metadata": {
    "collapsed": true
   },
   "outputs": [],
   "source": [
    "pwt_data = {'countrycode': ['CHN', 'CHN', 'CHN', 'FRA', 'FRA', 'FRA'],\n",
    "        'pop': [1124.8, 1246.8, 1318.2, 58.2, 60.8, 64.7],\n",
    "        'rgdpe': [2.611, 4.951, 11.106, 1.294, 1.753, 2.032],\n",
    "        'year': [1990, 2000, 2010, 1990, 2000, 2010]}\n",
    "\n",
    "pwt = pd.DataFrame(pwt_data)"
   ]
  },
  {
   "cell_type": "markdown",
   "metadata": {},
   "source": [
    "* What are the dimensions of pwt?\n",
    "* What dtypes are the variables? What do they mean?\n",
    "* What does pwt.columns.tolist() do? How does it compare to list(pwt)?\n",
    "* Challenging. What is list(pwt)[0]? Why? What type is it?\n",
    "* Challenging. What would you say is the natural index? How would you set it?"
   ]
  },
  {
   "cell_type": "markdown",
   "metadata": {},
   "source": [
    "Below is an example of setting the index. This is a feature that I'm slowing starting to embrace. The idea essentially, is that by setting the index, then we can use the `.loc` or location finding command to pull out only specific entries on a row. For example, if we only want year 2000, then we \n",
    "- set the index to be the year\n",
    "- then use `.loc` to pull out that particular year.\n",
    "\n",
    "How you would you do this for the country. Same idea, not that we set the index to countrycode, then select the county code that we want. \n",
    "\n",
    "Two more points about this:\n",
    "- One is that we can multi-index, that is have layers of indexes...why would we want to do this. This relates to the question of the \"natural index\"...\n",
    "\n",
    "I would argue the natural index would be on the level of an observation. What does that mean? Think about the data set above, what is an observation look like and what are the variables associated with it. Here an observation is a country time pair. Note an observation is two dimensions a country at a particular time. Then the variables associated with each observation are population, gdp. Back to the natural index, given this argument above, I would actually say that it is a multi index with countries and years. \n",
    "- MTWN: This discussion relates to this concept of [\"tidy data\" which is discusses nicely here](http://vita.had.co.nz/papers/tidy-data.pdf).\n"
   ]
  },
  {
   "cell_type": "code",
   "execution_count": 36,
   "metadata": {},
   "outputs": [
    {
     "data": {
      "text/html": [
       "<div>\n",
       "<style scoped>\n",
       "    .dataframe tbody tr th:only-of-type {\n",
       "        vertical-align: middle;\n",
       "    }\n",
       "\n",
       "    .dataframe tbody tr th {\n",
       "        vertical-align: top;\n",
       "    }\n",
       "\n",
       "    .dataframe thead th {\n",
       "        text-align: right;\n",
       "    }\n",
       "</style>\n",
       "<table border=\"1\" class=\"dataframe\">\n",
       "  <thead>\n",
       "    <tr style=\"text-align: right;\">\n",
       "      <th></th>\n",
       "      <th>countrycode</th>\n",
       "      <th>pop</th>\n",
       "      <th>rgdpe</th>\n",
       "    </tr>\n",
       "    <tr>\n",
       "      <th>year</th>\n",
       "      <th></th>\n",
       "      <th></th>\n",
       "      <th></th>\n",
       "    </tr>\n",
       "  </thead>\n",
       "  <tbody>\n",
       "    <tr>\n",
       "      <th>2000</th>\n",
       "      <td>CHN</td>\n",
       "      <td>1246.8</td>\n",
       "      <td>4.951</td>\n",
       "    </tr>\n",
       "    <tr>\n",
       "      <th>2000</th>\n",
       "      <td>FRA</td>\n",
       "      <td>60.8</td>\n",
       "      <td>1.753</td>\n",
       "    </tr>\n",
       "  </tbody>\n",
       "</table>\n",
       "</div>"
      ],
      "text/plain": [
       "     countrycode     pop  rgdpe\n",
       "year                           \n",
       "2000         CHN  1246.8  4.951\n",
       "2000         FRA    60.8  1.753"
      ]
     },
     "execution_count": 36,
     "metadata": {},
     "output_type": "execute_result"
    }
   ],
   "source": [
    "pwt.set_index([\"year\"]).loc[2000]\n",
    "\n",
    "#pwt.set_index([\"year\"], inplace = True)\n",
    "\n",
    "#pwt.set_index([\"countrycode\",\"year\"]).xs(2000, level = \"year\")\n"
   ]
  },
  {
   "cell_type": "code",
   "execution_count": 37,
   "metadata": {},
   "outputs": [],
   "source": [
    "pwt.set_index?"
   ]
  },
  {
   "cell_type": "markdown",
   "metadata": {},
   "source": [
    "Why is the index back to the original...well its just like string methods, the original data frame is not fundamentally changed. To change it you need to either (i) assign the modified data frame either to itself or to a new name or (ii) use the inplace = True command where it does not create a new object, but directly creates the new index on the old object. "
   ]
  },
  {
   "cell_type": "markdown",
   "metadata": {},
   "source": [
    "### Calculations on a dataframe...\n",
    "\n",
    "Below are a bunch of calculations. This is essentially, the \"excel\" functionality of the data frame. "
   ]
  },
  {
   "cell_type": "code",
   "execution_count": 41,
   "metadata": {},
   "outputs": [
    {
     "name": "stdout",
     "output_type": "stream",
     "text": [
      "<class 'pandas.core.series.Series'>\n",
      "0    11949.4\n",
      "1    20062.0\n",
      "2    29362.2\n",
      "Name: GDP, dtype: float64\n",
      "0    46.860392\n",
      "1    59.249852\n",
      "2    67.503035\n",
      "dtype: float64\n",
      "0    100.000000\n",
      "1    167.891275\n",
      "2    245.721124\n",
      "Name: GDP, dtype: float64\n",
      "\n",
      "        CPI Country      GDP  Year       RGDP  GDP_div_1000\n",
      "0  127.500      US   5974.7  1990  46.860392        5.9747\n",
      "1  169.300      US  10031.0  2000  59.249852       10.0310\n",
      "2  217.488      US  14681.1  2010  67.503035       14.6811\n",
      "\n",
      " 0    46.860392\n",
      "1    59.249852\n",
      "2    67.503035\n",
      "Name: RGDP, dtype: float64\n"
     ]
    }
   ],
   "source": [
    "print(type(df[\"GDP\"]))\n",
    "\n",
    "# then it is easy to do optionation on a series...\n",
    "\n",
    "print(df[\"GDP\"] + df[\"GDP\"])\n",
    "\n",
    "print(df[\"GDP\"] / df[\"CPI\"]) # This would be real gdp\n",
    "\n",
    "print(100*df[\"GDP\"] / df[\"GDP\"][0]) # what is this doing...if you remeber from EGB\n",
    "# This is a way to index GDP by the first entry...\n",
    "\n",
    "# Then it is super easy to create a new column based on an operation or existing\n",
    "# columns, almost excel like...\n",
    "\n",
    "df['RGDP'] = df['GDP']/df['CPI']\n",
    "\n",
    "df['GDP_div_1000'] = df['GDP'] / 1000\n",
    "\n",
    "print(\"\\n\",df) # so there is a new column called real gdp now...\n",
    "\n",
    "# See the digressioini n the book....I don't mind doing this..."
   ]
  },
  {
   "cell_type": "code",
   "execution_count": 42,
   "metadata": {},
   "outputs": [
    {
     "data": {
      "text/html": [
       "<div>\n",
       "<style scoped>\n",
       "    .dataframe tbody tr th:only-of-type {\n",
       "        vertical-align: middle;\n",
       "    }\n",
       "\n",
       "    .dataframe tbody tr th {\n",
       "        vertical-align: top;\n",
       "    }\n",
       "\n",
       "    .dataframe thead th {\n",
       "        text-align: right;\n",
       "    }\n",
       "</style>\n",
       "<table border=\"1\" class=\"dataframe\">\n",
       "  <thead>\n",
       "    <tr style=\"text-align: right;\">\n",
       "      <th></th>\n",
       "      <th>CPI</th>\n",
       "      <th>Country</th>\n",
       "      <th>GDP</th>\n",
       "      <th>Year</th>\n",
       "      <th>RGDP</th>\n",
       "      <th>GDP_div_1000</th>\n",
       "    </tr>\n",
       "  </thead>\n",
       "  <tbody>\n",
       "    <tr>\n",
       "      <th>0</th>\n",
       "      <td>127.500</td>\n",
       "      <td>US</td>\n",
       "      <td>5974.7</td>\n",
       "      <td>1990</td>\n",
       "      <td>46.860392</td>\n",
       "      <td>5.9747</td>\n",
       "    </tr>\n",
       "    <tr>\n",
       "      <th>1</th>\n",
       "      <td>169.300</td>\n",
       "      <td>US</td>\n",
       "      <td>10031.0</td>\n",
       "      <td>2000</td>\n",
       "      <td>59.249852</td>\n",
       "      <td>10.0310</td>\n",
       "    </tr>\n",
       "    <tr>\n",
       "      <th>2</th>\n",
       "      <td>217.488</td>\n",
       "      <td>US</td>\n",
       "      <td>14681.1</td>\n",
       "      <td>2010</td>\n",
       "      <td>67.503035</td>\n",
       "      <td>14.6811</td>\n",
       "    </tr>\n",
       "  </tbody>\n",
       "</table>\n",
       "</div>"
      ],
      "text/plain": [
       "       CPI Country      GDP  Year       RGDP  GDP_div_1000\n",
       "0  127.500      US   5974.7  1990  46.860392        5.9747\n",
       "1  169.300      US  10031.0  2000  59.249852       10.0310\n",
       "2  217.488      US  14681.1  2010  67.503035       14.6811"
      ]
     },
     "execution_count": 42,
     "metadata": {},
     "output_type": "execute_result"
    }
   ],
   "source": [
    "df"
   ]
  },
  {
   "cell_type": "markdown",
   "metadata": {},
   "source": [
    "Now how here is a way to grab several columns."
   ]
  },
  {
   "cell_type": "code",
   "execution_count": 17,
   "metadata": {},
   "outputs": [
    {
     "data": {
      "text/html": [
       "<div>\n",
       "<style scoped>\n",
       "    .dataframe tbody tr th:only-of-type {\n",
       "        vertical-align: middle;\n",
       "    }\n",
       "\n",
       "    .dataframe tbody tr th {\n",
       "        vertical-align: top;\n",
       "    }\n",
       "\n",
       "    .dataframe thead th {\n",
       "        text-align: right;\n",
       "    }\n",
       "</style>\n",
       "<table border=\"1\" class=\"dataframe\">\n",
       "  <thead>\n",
       "    <tr style=\"text-align: right;\">\n",
       "      <th></th>\n",
       "      <th>CPI</th>\n",
       "      <th>GDP</th>\n",
       "    </tr>\n",
       "  </thead>\n",
       "  <tbody>\n",
       "    <tr>\n",
       "      <th>0</th>\n",
       "      <td>127.500</td>\n",
       "      <td>5974.7</td>\n",
       "    </tr>\n",
       "    <tr>\n",
       "      <th>1</th>\n",
       "      <td>169.300</td>\n",
       "      <td>10031.0</td>\n",
       "    </tr>\n",
       "    <tr>\n",
       "      <th>2</th>\n",
       "      <td>217.488</td>\n",
       "      <td>14681.1</td>\n",
       "    </tr>\n",
       "  </tbody>\n",
       "</table>\n",
       "</div>"
      ],
      "text/plain": [
       "       CPI      GDP\n",
       "0  127.500   5974.7\n",
       "1  169.300  10031.0\n",
       "2  217.488  14681.1"
      ]
     },
     "execution_count": 17,
     "metadata": {},
     "output_type": "execute_result"
    }
   ],
   "source": [
    "df[[\"CPI\",\"GDP\"]]"
   ]
  },
  {
   "cell_type": "code",
   "execution_count": null,
   "metadata": {
    "collapsed": true
   },
   "outputs": [],
   "source": []
  },
  {
   "cell_type": "code",
   "execution_count": 54,
   "metadata": {},
   "outputs": [
    {
     "data": {
      "text/html": [
       "<div>\n",
       "<style scoped>\n",
       "    .dataframe tbody tr th:only-of-type {\n",
       "        vertical-align: middle;\n",
       "    }\n",
       "\n",
       "    .dataframe tbody tr th {\n",
       "        vertical-align: top;\n",
       "    }\n",
       "\n",
       "    .dataframe thead th {\n",
       "        text-align: right;\n",
       "    }\n",
       "</style>\n",
       "<table border=\"1\" class=\"dataframe\">\n",
       "  <thead>\n",
       "    <tr style=\"text-align: right;\">\n",
       "      <th></th>\n",
       "      <th>CPI</th>\n",
       "      <th>COUNTRY</th>\n",
       "      <th>GDP</th>\n",
       "      <th>YEAR</th>\n",
       "      <th>RGDP</th>\n",
       "      <th>GDP_DIV_1000</th>\n",
       "    </tr>\n",
       "  </thead>\n",
       "  <tbody>\n",
       "    <tr>\n",
       "      <th>0</th>\n",
       "      <td>127.500</td>\n",
       "      <td>US</td>\n",
       "      <td>5974.7</td>\n",
       "      <td>1990</td>\n",
       "      <td>46.860392</td>\n",
       "      <td>5.9747</td>\n",
       "    </tr>\n",
       "    <tr>\n",
       "      <th>1</th>\n",
       "      <td>169.300</td>\n",
       "      <td>US</td>\n",
       "      <td>10031.0</td>\n",
       "      <td>2000</td>\n",
       "      <td>59.249852</td>\n",
       "      <td>10.0310</td>\n",
       "    </tr>\n",
       "    <tr>\n",
       "      <th>2</th>\n",
       "      <td>217.488</td>\n",
       "      <td>US</td>\n",
       "      <td>14681.1</td>\n",
       "      <td>2010</td>\n",
       "      <td>67.503035</td>\n",
       "      <td>14.6811</td>\n",
       "    </tr>\n",
       "  </tbody>\n",
       "</table>\n",
       "</div>"
      ],
      "text/plain": [
       "       CPI COUNTRY      GDP  YEAR       RGDP  GDP_DIV_1000\n",
       "0  127.500      US   5974.7  1990  46.860392        5.9747\n",
       "1  169.300      US  10031.0  2000  59.249852       10.0310\n",
       "2  217.488      US  14681.1  2010  67.503035       14.6811"
      ]
     },
     "execution_count": 54,
     "metadata": {},
     "output_type": "execute_result"
    }
   ],
   "source": [
    "df.columns = [\"cpi\", \"country\", \"gdp\", \"year\", \"rgdp\", \"gdp_div_1000\"]\n",
    "# What if the elelments here were less than the number of columns?\n",
    "\n",
    "df.columns = [var.upper() for var in df.columns]\n",
    "# HEre we can use list comprehension to change the neames in columns in the way\n",
    "# we want...\n",
    "\n",
    "df"
   ]
  },
  {
   "cell_type": "markdown",
   "metadata": {},
   "source": [
    "Another way to rename specific instances... not that if we did not have the df\n",
    "in front, nothing would fundementally change, it would just copy and print out\n",
    "the new one, but the saved df is the same..."
   ]
  },
  {
   "cell_type": "code",
   "execution_count": 55,
   "metadata": {},
   "outputs": [
    {
     "data": {
      "text/html": [
       "<div>\n",
       "<style scoped>\n",
       "    .dataframe tbody tr th:only-of-type {\n",
       "        vertical-align: middle;\n",
       "    }\n",
       "\n",
       "    .dataframe tbody tr th {\n",
       "        vertical-align: top;\n",
       "    }\n",
       "\n",
       "    .dataframe thead th {\n",
       "        text-align: right;\n",
       "    }\n",
       "</style>\n",
       "<table border=\"1\" class=\"dataframe\">\n",
       "  <thead>\n",
       "    <tr style=\"text-align: right;\">\n",
       "      <th></th>\n",
       "      <th>CPI</th>\n",
       "      <th>COUNTRY</th>\n",
       "      <th>NGDP</th>\n",
       "      <th>YEAR</th>\n",
       "      <th>RGDP</th>\n",
       "      <th>GDP_DIV_1000</th>\n",
       "    </tr>\n",
       "  </thead>\n",
       "  <tbody>\n",
       "    <tr>\n",
       "      <th>0</th>\n",
       "      <td>127.500</td>\n",
       "      <td>US</td>\n",
       "      <td>5974.7</td>\n",
       "      <td>1990</td>\n",
       "      <td>46.860392</td>\n",
       "      <td>5.9747</td>\n",
       "    </tr>\n",
       "    <tr>\n",
       "      <th>1</th>\n",
       "      <td>169.300</td>\n",
       "      <td>US</td>\n",
       "      <td>10031.0</td>\n",
       "      <td>2000</td>\n",
       "      <td>59.249852</td>\n",
       "      <td>10.0310</td>\n",
       "    </tr>\n",
       "    <tr>\n",
       "      <th>2</th>\n",
       "      <td>217.488</td>\n",
       "      <td>US</td>\n",
       "      <td>14681.1</td>\n",
       "      <td>2010</td>\n",
       "      <td>67.503035</td>\n",
       "      <td>14.6811</td>\n",
       "    </tr>\n",
       "  </tbody>\n",
       "</table>\n",
       "</div>"
      ],
      "text/plain": [
       "       CPI COUNTRY     NGDP  YEAR       RGDP  GDP_DIV_1000\n",
       "0  127.500      US   5974.7  1990  46.860392        5.9747\n",
       "1  169.300      US  10031.0  2000  59.249852       10.0310\n",
       "2  217.488      US  14681.1  2010  67.503035       14.6811"
      ]
     },
     "execution_count": 55,
     "metadata": {},
     "output_type": "execute_result"
    }
   ],
   "source": [
    "df = df.rename(columns = {\"GDP\":\"NGDP\"})\n",
    "\n",
    "df"
   ]
  },
  {
   "cell_type": "code",
   "execution_count": 56,
   "metadata": {
    "scrolled": true
   },
   "outputs": [
    {
     "data": {
      "text/html": [
       "<div>\n",
       "<style scoped>\n",
       "    .dataframe tbody tr th:only-of-type {\n",
       "        vertical-align: middle;\n",
       "    }\n",
       "\n",
       "    .dataframe tbody tr th {\n",
       "        vertical-align: top;\n",
       "    }\n",
       "\n",
       "    .dataframe thead th {\n",
       "        text-align: right;\n",
       "    }\n",
       "</style>\n",
       "<table border=\"1\" class=\"dataframe\">\n",
       "  <thead>\n",
       "    <tr style=\"text-align: right;\">\n",
       "      <th></th>\n",
       "      <th>NGDP</th>\n",
       "      <th>CPI</th>\n",
       "    </tr>\n",
       "  </thead>\n",
       "  <tbody>\n",
       "    <tr>\n",
       "      <th>0</th>\n",
       "      <td>5974.7</td>\n",
       "      <td>127.500</td>\n",
       "    </tr>\n",
       "    <tr>\n",
       "      <th>1</th>\n",
       "      <td>10031.0</td>\n",
       "      <td>169.300</td>\n",
       "    </tr>\n",
       "    <tr>\n",
       "      <th>2</th>\n",
       "      <td>14681.1</td>\n",
       "      <td>217.488</td>\n",
       "    </tr>\n",
       "  </tbody>\n",
       "</table>\n",
       "</div>"
      ],
      "text/plain": [
       "      NGDP      CPI\n",
       "0   5974.7  127.500\n",
       "1  10031.0  169.300\n",
       "2  14681.1  217.488"
      ]
     },
     "execution_count": 56,
     "metadata": {},
     "output_type": "execute_result"
    }
   ],
   "source": [
    "namelist = [\"NGDP\",\"CPI\"]\n",
    "\n",
    "df[namelist]"
   ]
  },
  {
   "cell_type": "markdown",
   "metadata": {},
   "source": [
    "How do we remove stuff, well there is the `.drop` method"
   ]
  },
  {
   "cell_type": "code",
   "execution_count": 52,
   "metadata": {},
   "outputs": [
    {
     "data": {
      "text/html": [
       "<div>\n",
       "<style scoped>\n",
       "    .dataframe tbody tr th:only-of-type {\n",
       "        vertical-align: middle;\n",
       "    }\n",
       "\n",
       "    .dataframe tbody tr th {\n",
       "        vertical-align: top;\n",
       "    }\n",
       "\n",
       "    .dataframe thead th {\n",
       "        text-align: right;\n",
       "    }\n",
       "</style>\n",
       "<table border=\"1\" class=\"dataframe\">\n",
       "  <thead>\n",
       "    <tr style=\"text-align: right;\">\n",
       "      <th></th>\n",
       "      <th>COUNTRY</th>\n",
       "      <th>NGDP</th>\n",
       "      <th>YEAR</th>\n",
       "      <th>RGDP</th>\n",
       "      <th>GDP_DIV_1000</th>\n",
       "    </tr>\n",
       "  </thead>\n",
       "  <tbody>\n",
       "    <tr>\n",
       "      <th>0</th>\n",
       "      <td>US</td>\n",
       "      <td>5974.7</td>\n",
       "      <td>1990</td>\n",
       "      <td>46.860392</td>\n",
       "      <td>5.9747</td>\n",
       "    </tr>\n",
       "    <tr>\n",
       "      <th>1</th>\n",
       "      <td>US</td>\n",
       "      <td>10031.0</td>\n",
       "      <td>2000</td>\n",
       "      <td>59.249852</td>\n",
       "      <td>10.0310</td>\n",
       "    </tr>\n",
       "    <tr>\n",
       "      <th>2</th>\n",
       "      <td>US</td>\n",
       "      <td>14681.1</td>\n",
       "      <td>2010</td>\n",
       "      <td>67.503035</td>\n",
       "      <td>14.6811</td>\n",
       "    </tr>\n",
       "  </tbody>\n",
       "</table>\n",
       "</div>"
      ],
      "text/plain": [
       "  COUNTRY     NGDP  YEAR       RGDP  GDP_DIV_1000\n",
       "0      US   5974.7  1990  46.860392        5.9747\n",
       "1      US  10031.0  2000  59.249852       10.0310\n",
       "2      US  14681.1  2010  67.503035       14.6811"
      ]
     },
     "execution_count": 52,
     "metadata": {},
     "output_type": "execute_result"
    }
   ],
   "source": [
    "df.drop(\"CPI\", axis = 1) "
   ]
  },
  {
   "cell_type": "code",
   "execution_count": 53,
   "metadata": {},
   "outputs": [
    {
     "data": {
      "text/html": [
       "<div>\n",
       "<style scoped>\n",
       "    .dataframe tbody tr th:only-of-type {\n",
       "        vertical-align: middle;\n",
       "    }\n",
       "\n",
       "    .dataframe tbody tr th {\n",
       "        vertical-align: top;\n",
       "    }\n",
       "\n",
       "    .dataframe thead th {\n",
       "        text-align: right;\n",
       "    }\n",
       "</style>\n",
       "<table border=\"1\" class=\"dataframe\">\n",
       "  <thead>\n",
       "    <tr style=\"text-align: right;\">\n",
       "      <th></th>\n",
       "      <th>CPI</th>\n",
       "      <th>COUNTRY</th>\n",
       "      <th>NGDP</th>\n",
       "      <th>YEAR</th>\n",
       "      <th>RGDP</th>\n",
       "      <th>GDP_DIV_1000</th>\n",
       "    </tr>\n",
       "  </thead>\n",
       "  <tbody>\n",
       "    <tr>\n",
       "      <th>0</th>\n",
       "      <td>127.500</td>\n",
       "      <td>US</td>\n",
       "      <td>5974.7</td>\n",
       "      <td>1990</td>\n",
       "      <td>46.860392</td>\n",
       "      <td>5.9747</td>\n",
       "    </tr>\n",
       "    <tr>\n",
       "      <th>1</th>\n",
       "      <td>169.300</td>\n",
       "      <td>US</td>\n",
       "      <td>10031.0</td>\n",
       "      <td>2000</td>\n",
       "      <td>59.249852</td>\n",
       "      <td>10.0310</td>\n",
       "    </tr>\n",
       "    <tr>\n",
       "      <th>2</th>\n",
       "      <td>217.488</td>\n",
       "      <td>US</td>\n",
       "      <td>14681.1</td>\n",
       "      <td>2010</td>\n",
       "      <td>67.503035</td>\n",
       "      <td>14.6811</td>\n",
       "    </tr>\n",
       "  </tbody>\n",
       "</table>\n",
       "</div>"
      ],
      "text/plain": [
       "       CPI COUNTRY     NGDP  YEAR       RGDP  GDP_DIV_1000\n",
       "0  127.500      US   5974.7  1990  46.860392        5.9747\n",
       "1  169.300      US  10031.0  2000  59.249852       10.0310\n",
       "2  217.488      US  14681.1  2010  67.503035       14.6811"
      ]
     },
     "execution_count": 53,
     "metadata": {},
     "output_type": "execute_result"
    }
   ],
   "source": [
    "df"
   ]
  },
  {
   "cell_type": "markdown",
   "metadata": {},
   "source": [
    "- **Exercise.** For the DataFrame df, create a variable diff equal to the difference of ngdp and rgdp. Verify that diff is now in df.\n",
    "\n",
    "- **Exercise.** How would you extract the variables ngdp and year? \n",
    "\n",
    "- **Exercise** How would you extract all variables for just one year, say 2000?\n",
    "\n",
    "- **Exercise** How would you drop the variable diff? If you print your dataframe again, is it gone? If not, why do you think it is still there?\n",
    "\n",
    "- **Exercise** How would you drop one year from the data set?"
   ]
  },
  {
   "cell_type": "markdown",
   "metadata": {},
   "source": [
    "The key thing to recognize is the axis, this is saying drop a column named \"CPI\"\n",
    "if you did this with out the axis it would give an error, why the defalut is \n",
    "axis = 0 which are rows...and there is no index named \"CPI\""
   ]
  },
  {
   "cell_type": "code",
   "execution_count": 64,
   "metadata": {},
   "outputs": [
    {
     "data": {
      "text/html": [
       "<div>\n",
       "<style scoped>\n",
       "    .dataframe tbody tr th:only-of-type {\n",
       "        vertical-align: middle;\n",
       "    }\n",
       "\n",
       "    .dataframe tbody tr th {\n",
       "        vertical-align: top;\n",
       "    }\n",
       "\n",
       "    .dataframe thead th {\n",
       "        text-align: right;\n",
       "    }\n",
       "</style>\n",
       "<table border=\"1\" class=\"dataframe\">\n",
       "  <thead>\n",
       "    <tr style=\"text-align: right;\">\n",
       "      <th></th>\n",
       "      <th>CPI</th>\n",
       "      <th>COUNTRY</th>\n",
       "      <th>NGDP</th>\n",
       "      <th>RGDP</th>\n",
       "      <th>GDP_DIV_1000</th>\n",
       "    </tr>\n",
       "    <tr>\n",
       "      <th>YEAR</th>\n",
       "      <th></th>\n",
       "      <th></th>\n",
       "      <th></th>\n",
       "      <th></th>\n",
       "      <th></th>\n",
       "    </tr>\n",
       "  </thead>\n",
       "  <tbody>\n",
       "    <tr>\n",
       "      <th>1990</th>\n",
       "      <td>127.500</td>\n",
       "      <td>US</td>\n",
       "      <td>5974.7</td>\n",
       "      <td>46.860392</td>\n",
       "      <td>5.9747</td>\n",
       "    </tr>\n",
       "    <tr>\n",
       "      <th>2010</th>\n",
       "      <td>217.488</td>\n",
       "      <td>US</td>\n",
       "      <td>14681.1</td>\n",
       "      <td>67.503035</td>\n",
       "      <td>14.6811</td>\n",
       "    </tr>\n",
       "  </tbody>\n",
       "</table>\n",
       "</div>"
      ],
      "text/plain": [
       "          CPI COUNTRY     NGDP       RGDP  GDP_DIV_1000\n",
       "YEAR                                                   \n",
       "1990  127.500      US   5974.7  46.860392        5.9747\n",
       "2010  217.488      US  14681.1  67.503035       14.6811"
      ]
     },
     "execution_count": 64,
     "metadata": {},
     "output_type": "execute_result"
    }
   ],
   "source": [
    "#df.drop(2, axis = 0)\n",
    "# This will drop the index 2, row number 3 from the dataframe...\n",
    "# Here is another way to see this...\n",
    "\n",
    "df.set_index([\"YEAR\"]).drop(2000)"
   ]
  },
  {
   "cell_type": "markdown",
   "metadata": {},
   "source": [
    "### Output Data\n",
    "\n",
    "We can output data in easy way as well with these commands. Note that it creates the file within your working directory unless you specify otherwise..."
   ]
  },
  {
   "cell_type": "code",
   "execution_count": 65,
   "metadata": {
    "collapsed": true
   },
   "outputs": [],
   "source": [
    "pwt.to_csv(\"pwt.csv\")\n",
    "\n",
    "pwt.to_excel(\"pwt.xlsx\")"
   ]
  },
  {
   "cell_type": "markdown",
   "metadata": {},
   "source": [
    "### Simple Statistics\n",
    "\n",
    "Here are some simple commands that can report basic summary statistics of the data:"
   ]
  },
  {
   "cell_type": "code",
   "execution_count": 73,
   "metadata": {},
   "outputs": [],
   "source": [
    "test = pd.DataFrame(df.mean())\n",
    "\n",
    "test.loc[\"CPI\"]"
   ]
  },
  {
   "cell_type": "code",
   "execution_count": 78,
   "metadata": {},
   "outputs": [],
   "source": [
    "sumstate = df.describe() # This one creates a dataframe. Could grab what we want from there"
   ]
  },
  {
   "cell_type": "code",
   "execution_count": 79,
   "metadata": {},
   "outputs": [
    {
     "data": {
      "text/plain": [
       "pandas.core.frame.DataFrame"
      ]
     },
     "execution_count": 79,
     "metadata": {},
     "output_type": "execute_result"
    }
   ],
   "source": [
    "type(sumstate)"
   ]
  },
  {
   "cell_type": "code",
   "execution_count": 80,
   "metadata": {},
   "outputs": [
    {
     "data": {
      "text/html": [
       "<div>\n",
       "<style scoped>\n",
       "    .dataframe tbody tr th:only-of-type {\n",
       "        vertical-align: middle;\n",
       "    }\n",
       "\n",
       "    .dataframe tbody tr th {\n",
       "        vertical-align: top;\n",
       "    }\n",
       "\n",
       "    .dataframe thead th {\n",
       "        text-align: right;\n",
       "    }\n",
       "</style>\n",
       "<table border=\"1\" class=\"dataframe\">\n",
       "  <thead>\n",
       "    <tr style=\"text-align: right;\">\n",
       "      <th></th>\n",
       "      <th>CPI</th>\n",
       "      <th>COUNTRY</th>\n",
       "      <th>NGDP</th>\n",
       "      <th>YEAR</th>\n",
       "      <th>RGDP</th>\n",
       "      <th>GDP_DIV_1000</th>\n",
       "    </tr>\n",
       "  </thead>\n",
       "  <tbody>\n",
       "    <tr>\n",
       "      <th>0</th>\n",
       "      <td>127.500</td>\n",
       "      <td>US</td>\n",
       "      <td>5974.7</td>\n",
       "      <td>1990</td>\n",
       "      <td>46.860392</td>\n",
       "      <td>5.9747</td>\n",
       "    </tr>\n",
       "    <tr>\n",
       "      <th>1</th>\n",
       "      <td>169.300</td>\n",
       "      <td>US</td>\n",
       "      <td>10031.0</td>\n",
       "      <td>2000</td>\n",
       "      <td>59.249852</td>\n",
       "      <td>10.0310</td>\n",
       "    </tr>\n",
       "    <tr>\n",
       "      <th>2</th>\n",
       "      <td>217.488</td>\n",
       "      <td>US</td>\n",
       "      <td>14681.1</td>\n",
       "      <td>2010</td>\n",
       "      <td>67.503035</td>\n",
       "      <td>14.6811</td>\n",
       "    </tr>\n",
       "  </tbody>\n",
       "</table>\n",
       "</div>"
      ],
      "text/plain": [
       "       CPI COUNTRY     NGDP  YEAR       RGDP  GDP_DIV_1000\n",
       "0  127.500      US   5974.7  1990  46.860392        5.9747\n",
       "1  169.300      US  10031.0  2000  59.249852       10.0310\n",
       "2  217.488      US  14681.1  2010  67.503035       14.6811"
      ]
     },
     "execution_count": 80,
     "metadata": {},
     "output_type": "execute_result"
    }
   ],
   "source": [
    "df\n"
   ]
  },
  {
   "cell_type": "markdown",
   "metadata": {},
   "source": [
    "### Basic plotting\n",
    "\n",
    "This is like, less than basic plotting. But with the dataframe, we can do some very \"quick and dirty\" things to help visualize the data. We will talk about more formal methods latter to create much more professional graphs."
   ]
  },
  {
   "cell_type": "code",
   "execution_count": null,
   "metadata": {
    "collapsed": true
   },
   "outputs": [],
   "source": [
    "import matplotlib.pyplot as plt"
   ]
  },
  {
   "cell_type": "code",
   "execution_count": 88,
   "metadata": {},
   "outputs": [
    {
     "data": {
      "image/png": "[encoded data removed]",
      "text/plain": [
       "<matplotlib.figure.Figure at 0xa2c5b86f28>"
      ]
     },
     "metadata": {},
     "output_type": "display_data"
    }
   ],
   "source": [
    "df.plot()\n",
    "\n",
    "plt.show()"
   ]
  },
  {
   "cell_type": "code",
   "execution_count": 90,
   "metadata": {},
   "outputs": [
    {
     "data": {
      "image/png": "[encoded data removed]",
      "text/plain": [
       "<matplotlib.figure.Figure at 0xa2c5c6d0b8>"
      ]
     },
     "metadata": {},
     "output_type": "display_data"
    }
   ],
   "source": [
    "df.set_index(\"YEAR\").RGDP.plot()\n",
    "\n",
    "plt.show()"
   ]
  },
  {
   "cell_type": "markdown",
   "metadata": {},
   "source": [
    "- **Exercise.** Compute the summary statistics (for the pwt data frame). Write these summary stats to an excel sheet. Can you do this only for China?\n",
    "\n",
    "- **Exercise.** Produce a bar chart of gdp per capita for France where each bar is a different year.   (Hint: use the docstring for df.plot to see what kind argument does)"
   ]
  },
  {
   "cell_type": "code",
   "execution_count": 92,
   "metadata": {},
   "outputs": [
    {
     "data": {
      "text/html": [
       "<div>\n",
       "<style scoped>\n",
       "    .dataframe tbody tr th:only-of-type {\n",
       "        vertical-align: middle;\n",
       "    }\n",
       "\n",
       "    .dataframe tbody tr th {\n",
       "        vertical-align: top;\n",
       "    }\n",
       "\n",
       "    .dataframe thead th {\n",
       "        text-align: right;\n",
       "    }\n",
       "</style>\n",
       "<table border=\"1\" class=\"dataframe\">\n",
       "  <thead>\n",
       "    <tr style=\"text-align: right;\">\n",
       "      <th></th>\n",
       "      <th>pop</th>\n",
       "      <th>rgdpe</th>\n",
       "    </tr>\n",
       "  </thead>\n",
       "  <tbody>\n",
       "    <tr>\n",
       "      <th>count</th>\n",
       "      <td>6.000000</td>\n",
       "      <td>6.000000</td>\n",
       "    </tr>\n",
       "    <tr>\n",
       "      <th>mean</th>\n",
       "      <td>645.583333</td>\n",
       "      <td>3.957833</td>\n",
       "    </tr>\n",
       "    <tr>\n",
       "      <th>std</th>\n",
       "      <td>643.107992</td>\n",
       "      <td>3.729953</td>\n",
       "    </tr>\n",
       "    <tr>\n",
       "      <th>min</th>\n",
       "      <td>58.200000</td>\n",
       "      <td>1.294000</td>\n",
       "    </tr>\n",
       "    <tr>\n",
       "      <th>25%</th>\n",
       "      <td>61.775000</td>\n",
       "      <td>1.822750</td>\n",
       "    </tr>\n",
       "    <tr>\n",
       "      <th>50%</th>\n",
       "      <td>594.750000</td>\n",
       "      <td>2.321500</td>\n",
       "    </tr>\n",
       "    <tr>\n",
       "      <th>75%</th>\n",
       "      <td>1216.300000</td>\n",
       "      <td>4.366000</td>\n",
       "    </tr>\n",
       "    <tr>\n",
       "      <th>max</th>\n",
       "      <td>1318.200000</td>\n",
       "      <td>11.106000</td>\n",
       "    </tr>\n",
       "  </tbody>\n",
       "</table>\n",
       "</div>"
      ],
      "text/plain": [
       "               pop      rgdpe\n",
       "count     6.000000   6.000000\n",
       "mean    645.583333   3.957833\n",
       "std     643.107992   3.729953\n",
       "min      58.200000   1.294000\n",
       "25%      61.775000   1.822750\n",
       "50%     594.750000   2.321500\n",
       "75%    1216.300000   4.366000\n",
       "max    1318.200000  11.106000"
      ]
     },
     "execution_count": 92,
     "metadata": {},
     "output_type": "execute_result"
    }
   ],
   "source": [
    "pwt.describe()"
   ]
  },
  {
   "cell_type": "code",
   "execution_count": 106,
   "metadata": {},
   "outputs": [
    {
     "data": {
      "image/png": "[encoded data removed]",
      "text/plain": [
       "<matplotlib.figure.Figure at 0xa2c5ec35f8>"
      ]
     },
     "metadata": {},
     "output_type": "display_data"
    }
   ],
   "source": [
    "pwt.set_index(\"countrycode\",\"year\").loc[\"FRA\"].rgdpe.plot(kind = \"bar\")\n",
    "\n",
    "\n",
    "\n",
    "plt.show()"
   ]
  },
  {
   "cell_type": "code",
   "execution_count": null,
   "metadata": {
    "collapsed": true
   },
   "outputs": [],
   "source": []
  }
 ],
 "metadata": {
  "anaconda-cloud": {},
  "hide_input": false,
  "kernelspec": {
   "display_name": "Python [default]",
   "language": "python",
   "name": "python3"
  },
  "language_info": {
   "codemirror_mode": {
    "name": "ipython",
    "version": 3
   },
   "file_extension": ".py",
   "mimetype": "text/x-python",
   "name": "python",
   "nbconvert_exporter": "python",
   "pygments_lexer": "ipython3",
   "version": "3.5.2"
  }
 },
 "nbformat": 4,
 "nbformat_minor": 2
}
