{
 "cells": [
  {
   "cell_type": "code",
   "execution_count": 1,
   "metadata": {},
   "outputs": [],
   "source": [
    "import pandas as pd\n",
    "import requests "
   ]
  },
  {
   "cell_type": "code",
   "execution_count": 2,
   "metadata": {},
   "outputs": [],
   "source": [
    "my_key = \"tx853dy4upmq6x65qcnc8cw6\"\n",
    "\n",
    "walmart_store = \"http://api.walmartlabs.com/v1/stores?apiKey=\" + my_key + \"&zip=99501\"\n",
    "# This one grabs the store...\n",
    "\n",
    "walmart_trend_items = \"http://api.walmartlabs.com/v1/trends?apiKey=\" + my_key\n",
    "# This one grabs trending items...\n",
    "\n",
    "walmart_product = \"http://api.walmartlabs.com/v1/items/263612249081224994?apiKey=\" + my_key\n",
    "\n",
    "walmart_taxonomy = \"http://api.walmartlabs.com/v1/taxonomy?apiKey=\" + my_key\n",
    "\n",
    "r = requests.get(walmart_store)"
   ]
  },
  {
   "cell_type": "code",
   "execution_count": 3,
   "metadata": {},
   "outputs": [
    {
     "data": {
      "text/plain": [
       "requests.models.Response"
      ]
     },
     "execution_count": 3,
     "metadata": {},
     "output_type": "execute_result"
    }
   ],
   "source": [
    "type(r)"
   ]
  },
  {
   "cell_type": "code",
   "execution_count": 4,
   "metadata": {},
   "outputs": [
    {
     "data": {
      "text/plain": [
       "{'Content-Type': 'application/json; charset=utf-8', 'Date': 'Tue, 05 Mar 2019 18:19:01 GMT', 'Server': 'Mashery Proxy', 'X-Mashery-Responder': 'prod-j-worker-us-west-1c-12.mashery.com', 'Content-Length': '1262', 'Connection': 'keep-alive'}"
      ]
     },
     "execution_count": 4,
     "metadata": {},
     "output_type": "execute_result"
    }
   ],
   "source": [
    "r.headers"
   ]
  },
  {
   "cell_type": "code",
   "execution_count": 5,
   "metadata": {
    "scrolled": false
   },
   "outputs": [],
   "source": [
    "df = pd.DataFrame(r.json())"
   ]
  },
  {
   "cell_type": "code",
   "execution_count": 6,
   "metadata": {
    "scrolled": false
   },
   "outputs": [
    {
     "data": {
      "text/html": [
       "<div>\n",
       "<style scoped>\n",
       "    .dataframe tbody tr th:only-of-type {\n",
       "        vertical-align: middle;\n",
       "    }\n",
       "\n",
       "    .dataframe tbody tr th {\n",
       "        vertical-align: top;\n",
       "    }\n",
       "\n",
       "    .dataframe thead th {\n",
       "        text-align: right;\n",
       "    }\n",
       "</style>\n",
       "<table border=\"1\" class=\"dataframe\">\n",
       "  <thead>\n",
       "    <tr style=\"text-align: right;\">\n",
       "      <th></th>\n",
       "      <th>city</th>\n",
       "      <th>coordinates</th>\n",
       "      <th>country</th>\n",
       "      <th>name</th>\n",
       "      <th>no</th>\n",
       "      <th>phoneNumber</th>\n",
       "      <th>stateProvCode</th>\n",
       "      <th>streetAddress</th>\n",
       "      <th>sundayOpen</th>\n",
       "      <th>timezone</th>\n",
       "      <th>zip</th>\n",
       "    </tr>\n",
       "  </thead>\n",
       "  <tbody>\n",
       "    <tr>\n",
       "      <th>0</th>\n",
       "      <td>Anchorage</td>\n",
       "      <td>[-149.879549, 61.192213]</td>\n",
       "      <td>US</td>\n",
       "      <td>Anchorage Supercenter</td>\n",
       "      <td>2070</td>\n",
       "      <td>907-563-5900</td>\n",
       "      <td>AK</td>\n",
       "      <td>3101 A St</td>\n",
       "      <td>True</td>\n",
       "      <td>AKST</td>\n",
       "      <td>99503</td>\n",
       "    </tr>\n",
       "    <tr>\n",
       "      <th>1</th>\n",
       "      <td>Anchorage</td>\n",
       "      <td>[-149.743184, 61.211988]</td>\n",
       "      <td>US</td>\n",
       "      <td>Anchorage Supercenter</td>\n",
       "      <td>4359</td>\n",
       "      <td>907-339-9039</td>\n",
       "      <td>AK</td>\n",
       "      <td>7405 Debarr Road</td>\n",
       "      <td>True</td>\n",
       "      <td>AKST</td>\n",
       "      <td>99504</td>\n",
       "    </tr>\n",
       "    <tr>\n",
       "      <th>2</th>\n",
       "      <td>Anchorage</td>\n",
       "      <td>[-149.869863, 61.140195]</td>\n",
       "      <td>US</td>\n",
       "      <td>Anchorage Supercenter</td>\n",
       "      <td>2071</td>\n",
       "      <td>907-344-5300</td>\n",
       "      <td>AK</td>\n",
       "      <td>8900 Old Seward Hwy</td>\n",
       "      <td>True</td>\n",
       "      <td>AKST</td>\n",
       "      <td>99515</td>\n",
       "    </tr>\n",
       "    <tr>\n",
       "      <th>3</th>\n",
       "      <td>Eagle River</td>\n",
       "      <td>[-149.535439, 61.309037]</td>\n",
       "      <td>US</td>\n",
       "      <td>Eagle River Supercenter</td>\n",
       "      <td>2188</td>\n",
       "      <td>907-694-9780</td>\n",
       "      <td>AK</td>\n",
       "      <td>18600 Eagle River Rd</td>\n",
       "      <td>True</td>\n",
       "      <td>AKST</td>\n",
       "      <td>99577</td>\n",
       "    </tr>\n",
       "    <tr>\n",
       "      <th>4</th>\n",
       "      <td>Wasilla</td>\n",
       "      <td>[-149.365105, 61.568719]</td>\n",
       "      <td>US</td>\n",
       "      <td>Wasilla Supercenter</td>\n",
       "      <td>2074</td>\n",
       "      <td>907-376-9780</td>\n",
       "      <td>AK</td>\n",
       "      <td>1350 S Seward Meridian Pkwy</td>\n",
       "      <td>True</td>\n",
       "      <td>AKST</td>\n",
       "      <td>99654</td>\n",
       "    </tr>\n",
       "  </tbody>\n",
       "</table>\n",
       "</div>"
      ],
      "text/plain": [
       "          city               coordinates country                     name  \\\n",
       "0    Anchorage  [-149.879549, 61.192213]      US    Anchorage Supercenter   \n",
       "1    Anchorage  [-149.743184, 61.211988]      US    Anchorage Supercenter   \n",
       "2    Anchorage  [-149.869863, 61.140195]      US    Anchorage Supercenter   \n",
       "3  Eagle River  [-149.535439, 61.309037]      US  Eagle River Supercenter   \n",
       "4      Wasilla  [-149.365105, 61.568719]      US      Wasilla Supercenter   \n",
       "\n",
       "     no   phoneNumber stateProvCode                streetAddress  sundayOpen  \\\n",
       "0  2070  907-563-5900            AK                    3101 A St        True   \n",
       "1  4359  907-339-9039            AK             7405 Debarr Road        True   \n",
       "2  2071  907-344-5300            AK          8900 Old Seward Hwy        True   \n",
       "3  2188  907-694-9780            AK         18600 Eagle River Rd        True   \n",
       "4  2074  907-376-9780            AK  1350 S Seward Meridian Pkwy        True   \n",
       "\n",
       "  timezone    zip  \n",
       "0     AKST  99503  \n",
       "1     AKST  99504  \n",
       "2     AKST  99515  \n",
       "3     AKST  99577  \n",
       "4     AKST  99654  "
      ]
     },
     "execution_count": 6,
     "metadata": {},
     "output_type": "execute_result"
    }
   ],
   "source": [
    "df"
   ]
  },
  {
   "cell_type": "code",
   "execution_count": null,
   "metadata": {
    "collapsed": true
   },
   "outputs": [],
   "source": []
  }
 ],
 "metadata": {
  "anaconda-cloud": {},
  "hide_input": false,
  "kernelspec": {
   "display_name": "Python 3",
   "language": "python",
   "name": "python3"
  },
  "language_info": {
   "codemirror_mode": {
    "name": "ipython",
    "version": 3
   },
   "file_extension": ".py",
   "mimetype": "text/x-python",
   "name": "python",
   "nbconvert_exporter": "python",
   "pygments_lexer": "ipython3",
   "version": "3.7.1"
  }
 },
 "nbformat": 4,
 "nbformat_minor": 2
}
