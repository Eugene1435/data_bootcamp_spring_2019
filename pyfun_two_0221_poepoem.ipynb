{
 "cells": [
  {
   "cell_type": "code",
   "execution_count": 1,
   "metadata": {},
   "outputs": [],
   "source": [
    "poe_poem = \"\"\"For her this rhyme is penned, whose luminous eyes,\n",
    "Brightly expressive as the twins of Loeda.\n",
    "Shall find her own sweet name, that, nestling lies\n",
    "Upon, the page, enwrapped from every reader.\n",
    "Search narrowly the lines! — they hold a treasure\n",
    "Divine—a talisman—an amulet\n",
    "That must be worn at heart. Search well the measure\n",
    "The words—the syllables! Do not forget\n",
    "The trivialest point, or you may lose your labor!\n",
    "And yet there is in this no Gordian knot\n",
    "Which one might not undo without a saber,\n",
    "If one could merely comprehend the plot.\n",
    "Enwritten upon the leaf where now are peering\n",
    "Eyes scintillating soul, there lies perdus\n",
    "Three eloquent words oft uttered in the hearing\n",
    "Of poets, by poets as the name is a poet's, too.\n",
    "Its letters, although naturally lying\n",
    "Like the knight Pinto—Mendez Ferdinando\n",
    "Still form a synonym for Truth. Cease trying!\n",
    "You will not read the riddle, though you do the best you can do.\"\"\""
   ]
  },
  {
   "cell_type": "code",
   "execution_count": 2,
   "metadata": {},
   "outputs": [
    {
     "data": {
      "text/plain": [
       "str"
      ]
     },
     "execution_count": 2,
     "metadata": {},
     "output_type": "execute_result"
    }
   ],
   "source": [
    "type(poe_poem)"
   ]
  },
  {
   "cell_type": "code",
   "execution_count": 3,
   "metadata": {},
   "outputs": [
    {
     "data": {
      "text/plain": [
       "\"For her this rhyme is penned, whose luminous eyes,\\nBrightly expressive as the twins of Loeda.\\nShall find her own sweet name, that, nestling lies\\nUpon, the page, enwrapped from every reader.\\nSearch narrowly the lines! — they hold a treasure\\nDivine—a talisman—an amulet\\nThat must be worn at heart. Search well the measure\\nThe words—the syllables! Do not forget\\nThe trivialest point, or you may lose your labor!\\nAnd yet there is in this no Gordian knot\\nWhich one might not undo without a saber,\\nIf one could merely comprehend the plot.\\nEnwritten upon the leaf where now are peering\\nEyes scintillating soul, there lies perdus\\nThree eloquent words oft uttered in the hearing\\nOf poets, by poets as the name is a poet's, too.\\nIts letters, although naturally lying\\nLike the knight Pinto—Mendez Ferdinando\\nStill form a synonym for Truth. Cease trying!\\nYou will not read the riddle, though you do the best you can do.\""
      ]
     },
     "execution_count": 3,
     "metadata": {},
     "output_type": "execute_result"
    }
   ],
   "source": [
    "poe_poem"
   ]
  },
  {
   "cell_type": "code",
   "execution_count": 5,
   "metadata": {},
   "outputs": [],
   "source": [
    "poe_poem = poe_poem.splitlines()"
   ]
  },
  {
   "cell_type": "code",
   "execution_count": 6,
   "metadata": {},
   "outputs": [
    {
     "data": {
      "text/plain": [
       "list"
      ]
     },
     "execution_count": 6,
     "metadata": {},
     "output_type": "execute_result"
    }
   ],
   "source": [
    "type(poe_poem)"
   ]
  },
  {
   "cell_type": "code",
   "execution_count": 7,
   "metadata": {},
   "outputs": [
    {
     "data": {
      "text/plain": [
       "['For her this rhyme is penned, whose luminous eyes,',\n",
       " 'Brightly expressive as the twins of Loeda.',\n",
       " 'Shall find her own sweet name, that, nestling lies',\n",
       " 'Upon, the page, enwrapped from every reader.',\n",
       " 'Search narrowly the lines! — they hold a treasure',\n",
       " 'Divine—a talisman—an amulet',\n",
       " 'That must be worn at heart. Search well the measure',\n",
       " 'The words—the syllables! Do not forget',\n",
       " 'The trivialest point, or you may lose your labor!',\n",
       " 'And yet there is in this no Gordian knot',\n",
       " 'Which one might not undo without a saber,',\n",
       " 'If one could merely comprehend the plot.',\n",
       " 'Enwritten upon the leaf where now are peering',\n",
       " 'Eyes scintillating soul, there lies perdus',\n",
       " 'Three eloquent words oft uttered in the hearing',\n",
       " \"Of poets, by poets as the name is a poet's, too.\",\n",
       " 'Its letters, although naturally lying',\n",
       " 'Like the knight Pinto—Mendez Ferdinando',\n",
       " 'Still form a synonym for Truth. Cease trying!',\n",
       " 'You will not read the riddle, though you do the best you can do.']"
      ]
     },
     "execution_count": 7,
     "metadata": {},
     "output_type": "execute_result"
    }
   ],
   "source": [
    "poe_poem"
   ]
  },
  {
   "cell_type": "code",
   "execution_count": 8,
   "metadata": {},
   "outputs": [
    {
     "name": "stdout",
     "output_type": "stream",
     "text": [
      "F r a n c e u d i h m d o a   e h i y h "
     ]
    }
   ],
   "source": [
    "counter = 0\n",
    "\n",
    "for item in poe_poem:\n",
    "    \n",
    "    print(item[counter], end = \" \")\n",
    "    \n",
    "    counter = counter + 1"
   ]
  },
  {
   "cell_type": "code",
   "execution_count": 16,
   "metadata": {},
   "outputs": [],
   "source": [
    "test = poe_poem[15]"
   ]
  },
  {
   "cell_type": "code",
   "execution_count": 17,
   "metadata": {},
   "outputs": [
    {
     "data": {
      "text/plain": [
       "\"Of poets, by poets as the name is a poet's, too.\""
      ]
     },
     "execution_count": 17,
     "metadata": {},
     "output_type": "execute_result"
    }
   ],
   "source": [
    "test"
   ]
  },
  {
   "cell_type": "code",
   "execution_count": 18,
   "metadata": {},
   "outputs": [],
   "source": [
    "new_test = \"\"\n",
    "\n",
    "for item in test:\n",
    "\n",
    "    if item.isalpha() == True:\n",
    "        \n",
    "        new_test = new_test + item\n",
    "        "
   ]
  },
  {
   "cell_type": "code",
   "execution_count": 19,
   "metadata": {},
   "outputs": [
    {
     "data": {
      "text/plain": [
       "'Ofpoetsbypoetsasthenameisapoetstoo'"
      ]
     },
     "execution_count": 19,
     "metadata": {},
     "output_type": "execute_result"
    }
   ],
   "source": [
    "new_test"
   ]
  },
  {
   "cell_type": "code",
   "execution_count": 20,
   "metadata": {},
   "outputs": [],
   "source": [
    "def remove_punct(string):\n",
    "    \n",
    "    '''This is my function to remove punctuation and \n",
    "    spaces from a string'''\n",
    "    \n",
    "    new_string = \"\"\n",
    "\n",
    "    for item in string:\n",
    "\n",
    "        if item.isalpha() == True:\n",
    "        \n",
    "            new_string = new_string + item\n",
    "    \n",
    "    return new_string"
   ]
  },
  {
   "cell_type": "code",
   "execution_count": 21,
   "metadata": {},
   "outputs": [
    {
     "name": "stdout",
     "output_type": "stream",
     "text": [
      "Variable       Type        Data/Info\n",
      "------------------------------------\n",
      "counter        int         20\n",
      "item           str         .\n",
      "new_test       str         Ofpoetsbypoetsasthenameisapoetstoo\n",
      "poe_poem       list        n=20\n",
      "remove_punct   function    <function remove_punct at 0x00000286CDE6C158>\n",
      "test           str         Of poets, by poets as the name is a poet's, too.\n"
     ]
    }
   ],
   "source": [
    "whos"
   ]
  },
  {
   "cell_type": "code",
   "execution_count": 22,
   "metadata": {},
   "outputs": [],
   "source": [
    "remove_punct?"
   ]
  },
  {
   "cell_type": "code",
   "execution_count": 23,
   "metadata": {},
   "outputs": [],
   "source": [
    "test = poe_poem[1]"
   ]
  },
  {
   "cell_type": "code",
   "execution_count": 24,
   "metadata": {},
   "outputs": [
    {
     "data": {
      "text/plain": [
       "'Brightly expressive as the twins of Loeda.'"
      ]
     },
     "execution_count": 24,
     "metadata": {},
     "output_type": "execute_result"
    }
   ],
   "source": [
    "test"
   ]
  },
  {
   "cell_type": "code",
   "execution_count": 29,
   "metadata": {},
   "outputs": [],
   "source": [
    "new_test = remove_punct(poe_poem[14])"
   ]
  },
  {
   "cell_type": "code",
   "execution_count": 30,
   "metadata": {},
   "outputs": [
    {
     "data": {
      "text/plain": [
       "'Threeeloquentwordsoftutteredinthehearing'"
      ]
     },
     "execution_count": 30,
     "metadata": {},
     "output_type": "execute_result"
    }
   ],
   "source": [
    "new_test"
   ]
  },
  {
   "cell_type": "code",
   "execution_count": 37,
   "metadata": {},
   "outputs": [
    {
     "name": "stdout",
     "output_type": "stream",
     "text": [
      "F r a n c e s s a r g e n t o s g o o d "
     ]
    }
   ],
   "source": [
    "for index, item in enumerate(poe_poem):\n",
    "    \n",
    "    item_less_punct = remove_punct(poe_poem[index])\n",
    "    \n",
    "    print(item_less_punct[index], end = \" \")\n"
   ]
  },
  {
   "cell_type": "code",
   "execution_count": 40,
   "metadata": {},
   "outputs": [],
   "source": [
    "def acrostic(poem):\n",
    "    ''' This function will grabe the secret message from an\n",
    "    acrostic poem. Requires remove_punct() function'''\n",
    "    \n",
    "    secret_message = \"\"\n",
    "    \n",
    "    for index, item in enumerate(poe_poem):\n",
    "    \n",
    "        item_less_punct = remove_punct(poe_poem[index])\n",
    "    \n",
    "        print(item_less_punct[index], end = \" \")\n",
    "        \n",
    "        secret_message = secret_message + item_less_punct[index]\n",
    "        \n",
    "    return secret_message\n",
    "    "
   ]
  },
  {
   "cell_type": "code",
   "execution_count": 42,
   "metadata": {},
   "outputs": [
    {
     "name": "stdout",
     "output_type": "stream",
     "text": [
      "F r a n c e s s a r g e n t o s g o o d "
     ]
    }
   ],
   "source": [
    "xxx = acrostic(poe_poem)"
   ]
  },
  {
   "cell_type": "code",
   "execution_count": 43,
   "metadata": {},
   "outputs": [
    {
     "name": "stdout",
     "output_type": "stream",
     "text": [
      "Francessargentosgood\n"
     ]
    }
   ],
   "source": [
    "print(xxx)"
   ]
  },
  {
   "cell_type": "code",
   "execution_count": 44,
   "metadata": {},
   "outputs": [],
   "source": [
    "acrostic?"
   ]
  },
  {
   "cell_type": "code",
   "execution_count": null,
   "metadata": {},
   "outputs": [],
   "source": []
  }
 ],
 "metadata": {
  "kernelspec": {
   "display_name": "Python 3",
   "language": "python",
   "name": "python3"
  },
  "language_info": {
   "codemirror_mode": {
    "name": "ipython",
    "version": 3
   },
   "file_extension": ".py",
   "mimetype": "text/x-python",
   "name": "python",
   "nbconvert_exporter": "python",
   "pygments_lexer": "ipython3",
   "version": "3.7.1"
  }
 },
 "nbformat": 4,
 "nbformat_minor": 2
}
