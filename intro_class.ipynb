{
 "cells": [
  {
   "cell_type": "markdown",
   "metadata": {},
   "source": [
    "## Figures that I like..."
   ]
  },
  {
   "cell_type": "markdown",
   "metadata": {},
   "source": [
    "Some figures that I really like from the FT:\n",
    "\n",
    "- [Apples Market Cap](https://www.instagram.com/p/BsOTNvLFyXz/)\n",
    "- [Uber variation in pickups](https://www.instagram.com/p/Bqpr0U8l-p8/)\n",
    "- [Millenial's accross the globe](https://www.instagram.com/p/BjshXwSHoYm/)\n",
    "- [Demographics across New York neighborhoods](https://www.instagram.com/p/BhwQPe1gWvC/)\n",
    "\n",
    "\n",
    "As you look through these figures, ask your self the following questions:\n",
    "\n",
    "- What story does this tell?\n",
    "\n",
    "- What type of data is it reflecting (i.e. what is the source of variation, across time, space, people types, etc)?\n",
    "\n",
    "- Where did they get the data?\n",
    "\n",
    "- What would like know that is not in the graph? What additional questions does it raise?"
   ]
  },
  {
   "cell_type": "code",
   "execution_count": null,
   "metadata": {},
   "outputs": [],
   "source": []
  }
 ],
 "metadata": {
  "hide_input": false,
  "kernelspec": {
   "display_name": "Python 3",
   "language": "python",
   "name": "python3"
  },
  "language_info": {
   "codemirror_mode": {
    "name": "ipython",
    "version": 3
   },
   "file_extension": ".py",
   "mimetype": "text/x-python",
   "name": "python",
   "nbconvert_exporter": "python",
   "pygments_lexer": "ipython3",
   "version": "3.7.1"
  }
 },
 "nbformat": 4,
 "nbformat_minor": 2
}
